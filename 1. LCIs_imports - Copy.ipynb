{
 "cells": [
  {
   "cell_type": "code",
   "id": "a66d0b29-bf63-40cc-b06b-37ccd2ffea0a",
   "metadata": {},
   "source": [
    "# Let's get comfortable first\n",
    "from IPython.display import display, HTML\n",
    "display(HTML(\"<style>.container { width:80% !important; }</style>\"))"
   ],
   "outputs": [],
   "execution_count": null
  },
  {
   "cell_type": "code",
   "id": "4ad8050c-5b7a-4aa6-bd09-8640f90a5da7",
   "metadata": {},
   "source": [
    "# Brightway imports\n",
    "import bw2analyzer as ba\n",
    "import bw2calc as bc\n",
    "import bw2data as bd\n",
    "import bw2io as bi\n",
    "import brightway2 as bw"
   ],
   "outputs": [],
   "execution_count": null
  },
  {
   "cell_type": "code",
   "id": "6fcfefbe-8716-45c3-ad36-1684e33c18a3",
   "metadata": {},
   "source": [
    "import pandas as pd\n",
    "import openpyxl\n",
    "from pathlib import Path\n",
    "import math\n",
    "import os"
   ],
   "outputs": [],
   "execution_count": null
  },
  {
   "cell_type": "code",
   "id": "d566cfbf-e0c4-46e9-9f96-f214b1258db6",
   "metadata": {},
   "source": "from useful_functions import create_pedigree_matrix ",
   "outputs": [],
   "execution_count": null
  },
  {
   "cell_type": "code",
   "id": "5c84891c-d54c-43a3-972c-17ae29e74219",
   "metadata": {},
   "source": [
    "# Define paths as constants\n",
    "LCI_DIR = 'data/LCI'\n",
    "EI_DIR = Path(\"C:/Users/mp_ma/AppData/Local/pylca/EcoinventInterface/cache/ecoinvent 3.9.1_cutoff_ecoSpold02/datasets\")"
   ],
   "outputs": [],
   "execution_count": null
  },
  {
   "cell_type": "markdown",
   "id": "2979b225-f4a9-4cb7-9eae-9829d0942337",
   "metadata": {},
   "source": [
    "# Setting project and databases"
   ]
  },
  {
   "cell_type": "code",
   "id": "1a336156-49d5-4aaa-9057-a2910d8272de",
   "metadata": {},
   "source": "ei_name = \"ecoinvent-3.9.1-cutoff\"",
   "outputs": [],
   "execution_count": null
  },
  {
   "cell_type": "code",
   "id": "91b7cf58-cc77-4cdc-82d1-119fa5d36359",
   "metadata": {},
   "source": [
    "bd.projects\n",
    "#sorted(bd.projects)"
   ],
   "outputs": [],
   "execution_count": null
  },
  {
   "cell_type": "code",
   "id": "48d2d883-82ad-422c-8d63-71f0e1d335bb",
   "metadata": {},
   "source": [
    "bd.projects.set_current(\"regioinvent\")\n",
    "#bd.projects.delete_project(name='excel importer', delete_dir=True)\n",
    "#bd.projects.rename(\"<new_project_name>\")"
   ],
   "outputs": [],
   "execution_count": null
  },
  {
   "cell_type": "code",
   "id": "bd3f0014-ec80-4acf-bcd5-79002b6c0f97",
   "metadata": {},
   "source": [
    "bd.databases"
   ],
   "outputs": [],
   "execution_count": null
  },
  {
   "cell_type": "code",
   "id": "f8ffdcae-60bf-4cec-a598-210c5d463418",
   "metadata": {},
   "source": [
    "# When we execute this cell, we will check if it's already been imported, and if not (else) we import it.\n",
    "\n",
    "if ei_name in bd.databases:\n",
    "    print(\"Database has already been imported.\")\n",
    "else:\n",
    "# Go ahead and import:\n",
    "    ei_importer = bi.SingleOutputEcospold2Importer(EI_DIR, ei_name)\n",
    "    # Apply stragegies \n",
    "    ei_importer.apply_strategies()\n",
    "    # We can get some statistics\n",
    "    ei_importer.statistics()\n",
    "    # Now we will write the database into our project. \n",
    "    ei_importer.write_database()"
   ],
   "outputs": [],
   "execution_count": null
  },
  {
   "metadata": {},
   "cell_type": "markdown",
   "source": "# LCI from Istrate et al (2024)",
   "id": "a6f19dc7def6d35b"
  },
  {
   "metadata": {},
   "cell_type": "code",
   "source": [
    "# Import LIB raw materials LCIs\n",
    "lci_lib_rms = bw.ExcelImporter(r'data/LCI/lci_LIB_raw_materials.xlsx')\n",
    "lci_lib_rms.apply_strategies()\n",
    "lci_lib_rms.match_database(\"ecoinvent-3.9.1-cutoff\", fields=('name', 'reference product', 'unit', 'location'))\n",
    "lci_lib_rms.match_database(\"biosphere3\", fields=('name', 'unit', 'categories'))"
   ],
   "id": "e2ed947b5ab3a2c3",
   "outputs": [],
   "execution_count": null
  },
  {
   "metadata": {},
   "cell_type": "code",
   "source": [
    "# Add uncertainty data for pedigree matrix\n",
    "for ds in lci_lib_rms.data:\n",
    "    for exc in ds[\"exchanges\"]:\n",
    "        if \"pedigree\" in exc:\n",
    "\n",
    "            # Pedigree are stored as strings\n",
    "            pedigree_str = exc[\"pedigree\"].strip(\"()\")\n",
    "            pedigre_scores = tuple([int(x) for x in pedigree_str.split(\", \")])\n",
    "            exc_amount = exc[\"amount\"]\n",
    "\n",
    "            uncertainty_dict = create_pedigree_matrix(pedigre_scores, exc_amount)\n",
    "            exc.update(uncertainty_dict)"
   ],
   "id": "8bf9fd800adb6ade",
   "outputs": [],
   "execution_count": null
  },
  {
   "metadata": {},
   "cell_type": "code",
   "source": "lci_lib_rms.statistics()",
   "id": "12075316ee0e7243",
   "outputs": [],
   "execution_count": null
  },
  {
   "metadata": {},
   "cell_type": "code",
   "source": "[u for u in lci_lib_rms.unlinked if u[\"type\"] == \"biosphere\"]",
   "id": "bef80ea311d01f06",
   "outputs": [],
   "execution_count": null
  },
  {
   "metadata": {},
   "cell_type": "code",
   "source": "[u for u in lci_lib_rms.unlinked if u[\"type\"] == \"technosphere\"]",
   "id": "2d0684998c93b39c",
   "outputs": [],
   "execution_count": null
  },
  {
   "metadata": {},
   "cell_type": "markdown",
   "source": "## Migration from EI 3.10 to 3.9.1",
   "id": "9953a94068bbeb33"
  },
  {
   "metadata": {},
   "cell_type": "markdown",
   "source": "We do that to ensure it can be compatible with regioinvent and IW2.1+ regionalized",
   "id": "973ed395738360a8"
  },
  {
   "metadata": {},
   "cell_type": "code",
   "source": [
    "migration_391 = {\n",
    "    \"fields\": [\"name\", \"reference product\", \"location\", \"categories\"],\n",
    "    \"data\": [\n",
    "        (\n",
    "            (\"market for soda ash, light\", \n",
    "             \"soda ash, light\", \n",
    "             \"ROW\"),\n",
    "            {\"location\": \"GLO\"}\n",
    "        ),\n",
    "\n",
    "        (\n",
    "            (\"sodium hydroxide to generic market for neutralising agent\", \n",
    "             \"neutralising agent, sodium hydroxide-equivalent\", \n",
    "             \"ROW\"),\n",
    "            {\"location\": \"GLO\"}\n",
    "        ),\n",
    "        \n",
    "        (\n",
    "            (\"market for sodium hydroxide, without water, in 50% solution state\", \n",
    "             \"sodium hydroxide, without water, in 50% solution state\", \n",
    "             \"ROW\"),\n",
    "            {\"location\": \"GLO\"}\n",
    "        ),\n",
    "        \n",
    "        (\n",
    "            (\"market for hydrogen, gaseous, medium pressure, merchant\", \n",
    "             \"hydrogen, gaseous, medium pressure, merchant\", \n",
    "             \"ROW\"),\n",
    "            {\"name\": \"market for hydrogen, gaseous\",\n",
    "             \"reference product\": \"hydrogen, gaseous\",\n",
    "                \"location\": \"GLO\"}\n",
    "        ),\n",
    "\n",
    "        (\n",
    "            (\"market for coke\", \n",
    "             \"coke\", \n",
    "             \"ROW\"),\n",
    "            {\"location\": \"GLO\"}\n",
    "        ),\n",
    "        \n",
    "        ( # Don't know what is happening with that one\n",
    "            (\"market for iron(III) chloride, without water, in 40% solution state\", \n",
    "             \"iron(III) chloride, without water, in 40% solution state\", \n",
    "             \"GLO\"),\n",
    "            {\"reference product\": \"iron (III) chloride, without water, in 40% solution state\"}\n",
    "        ),\n",
    "        \n",
    "        (\n",
    "            (\"market for nickel smelter slag\", \n",
    "             \"nickel smelter slag\", \n",
    "             \"ROW\"),\n",
    "            {\"location\": \"GLO\"}\n",
    "        ),\n",
    "        \n",
    "        ( ## incorrect but it's to avoid having errors, seems like a new activity in EI3.10\n",
    "            (\"coke production, wet quenching\", \n",
    "             \"coal tar\", \n",
    "             \"CN\"),\n",
    "            {\"name\": \"coking\",\n",
    "            \"location\": \"ROW\"}\n",
    "        ),\n",
    "        \n",
    "        ( \n",
    "            (\"market for coke\", \n",
    "             \"coke\", \n",
    "             \"CN\"),\n",
    "            {\"location\": \"GLO\"}\n",
    "        ),\n",
    "        \n",
    "        (\n",
    "            (\"Manganese\", \"\", \"\", (\"water\", \"ocean\",)),\n",
    "            {\n",
    "                \"name\": \"Manganese II\",\n",
    "            },\n",
    "        ), \n",
    "\n",
    "        (\n",
    "            (\"Manganese\", \"\", \"\", (\"water\",)),\n",
    "            {\n",
    "                \"name\": \"Manganese II\",\n",
    "            },\n",
    "        ), \n",
    "    ],\n",
    "}"
   ],
   "id": "4811579502c24cea",
   "outputs": [],
   "execution_count": null
  },
  {
   "metadata": {},
   "cell_type": "code",
   "source": [
    "bi.Migration(name=\"ei3.10-3.9.1\").write(data=migration_391, description=\"ei 3.10 to 3.9.1\")\n",
    "\"ei3.10-3.9.1\" in bi.migrations\n",
    "bi.Migration(\"ei3.10-3.9.1\")"
   ],
   "id": "986916d40fd74e8d",
   "outputs": [],
   "execution_count": null
  },
  {
   "metadata": {},
   "cell_type": "code",
   "source": [
    "lci_lib_rms.data = bi.strategies.migrate_exchanges(\n",
    "    db=lci_lib_rms.data,\n",
    "    migration=\"ei3.10-3.9.1\"\n",
    ")"
   ],
   "id": "72d7a4a1fe15312f",
   "outputs": [],
   "execution_count": null
  },
  {
   "metadata": {},
   "cell_type": "code",
   "source": [
    "lci_lib_rms.match_database(\"ecoinvent-3.9.1-cutoff\", fields=('name', 'reference product', 'unit', 'location'))\n",
    "lci_lib_rms.match_database(\"biosphere3\", fields=('name', 'unit', 'categories'))\n",
    "lci_lib_rms.statistics()"
   ],
   "id": "5fd4f9b366f520b7",
   "outputs": [],
   "execution_count": null
  },
  {
   "metadata": {},
   "cell_type": "code",
   "source": [
    "if len(list(lci_lib_rms.unlinked)) == 0:\n",
    "    lci_lib_rms.write_database()"
   ],
   "id": "6d2bf2ba3a39ea9c",
   "outputs": [],
   "execution_count": null
  },
  {
   "metadata": {},
   "cell_type": "markdown",
   "source": "# LCI from premise",
   "id": "b77fab9ce5067d2e"
  },
  {
   "metadata": {},
   "cell_type": "code",
   "source": "",
   "id": "3182816ef35e83a5",
   "outputs": [],
   "execution_count": null
  },
  {
   "metadata": {},
   "cell_type": "code",
   "source": "",
   "id": "487b6c30de7b5421",
   "outputs": [],
   "execution_count": null
  },
  {
   "metadata": {},
   "cell_type": "code",
   "source": "",
   "id": "1f8b07d036b10d64",
   "outputs": [],
   "execution_count": null
  },
  {
   "cell_type": "markdown",
   "id": "02542fdd-5cfb-4db0-83a5-196e912e3678",
   "metadata": {},
   "source": [
    "## Lithium"
   ]
  },
  {
   "cell_type": "code",
   "id": "5820582c-79bc-411c-8eda-8666bba0ba77",
   "metadata": {},
   "source": [
    "# LCI from Schenker et al (2022) \n",
    "lithium = LCI_DIR / 'from_premise' / 'lci-lithium.xlsx'\n",
    "lithium = bi.ExcelImporter(lithium)\n",
    "# Apply the necessary strategies\n",
    "lithium.apply_strategies()"
   ],
   "outputs": [],
   "execution_count": null
  },
  {
   "cell_type": "code",
   "id": "0289c06b-b25a-4f94-a744-be56945ebd26",
   "metadata": {},
   "source": [
    "# we match based on the name, reference product and location\n",
    "lithium.statistics()"
   ],
   "outputs": [],
   "execution_count": null
  },
  {
   "cell_type": "code",
   "id": "1be5cd08-f3cc-4635-850e-a13e4fb380ac",
   "metadata": {},
   "source": [
    "# We have some unlinked exchanges, let's see which ones\n",
    "for u in list(lithium.unlinked):\n",
    "    print(u[\"name\"], u.get(\"location\"), u.get(\"categories\"))"
   ],
   "outputs": [],
   "execution_count": null
  },
  {
   "cell_type": "code",
   "id": "65976f43-b44e-4637-8bcc-a6b7dd79049f",
   "metadata": {},
   "source": [
    "# Let's try to link them with EI and biosphere\n",
    "lithium.match_database(\"ecoinvent-3.10-cutoff\", fields=('name', 'reference product', 'unit', 'location'))\n",
    "lithium.match_database(\"biosphere3\", fields=('name', 'unit', 'categories'))\n",
    "lithium.statistics()"
   ],
   "outputs": [],
   "execution_count": null
  },
  {
   "cell_type": "code",
   "id": "49e4cded-c8b7-489b-b34a-6ced58bef3eb",
   "metadata": {},
   "source": [
    "[u for u in lithium.unlinked if u[\"type\"] == \"technosphere\"]"
   ],
   "outputs": [],
   "execution_count": null
  },
  {
   "cell_type": "code",
   "id": "1200ef56-56e4-4d54-840d-f7e1da0b64e7",
   "metadata": {},
   "source": [
    "[u for u in lithium.unlinked if u[\"type\"] == \"biosphere\"]"
   ],
   "outputs": [],
   "execution_count": null
  },
  {
   "cell_type": "markdown",
   "id": "8f3a09c5-8920-4344-8793-8b9ccc190358",
   "metadata": {},
   "source": [
    "3 ways to deal with this \n",
    "1. manually fix this (i.e., modify the exchange name in the Excel file),\n",
    "2. go over imp.data(list), iterate through the exchanges and find Argon-40 and replace it with Argon\n",
    "3. create a migration file for translating ecoinvent 3.9 flows to 3.10"
   ]
  },
  {
   "cell_type": "markdown",
   "id": "d0de0cd2-a144-44cb-b319-23bb01ee1786",
   "metadata": {},
   "source": [
    "### Migration from ei 3.8 to 3.10"
   ]
  },
  {
   "cell_type": "markdown",
   "id": "9d898f73-0a76-4264-832a-69c6be74c144",
   "metadata": {},
   "source": [
    "The data is from ecoinvent 3.8 and we have 3.10. We create a mapping dictionary, and use it to create a `Migration` object."
   ]
  },
  {
   "cell_type": "code",
   "id": "dac5e8d1-3b8c-4464-881c-f25eeeaf6041",
   "metadata": {},
   "source": [
    "migration_38 = {\n",
    "    \"fields\": [\"name\", \"reference product\", \"location\", \"categories\"],\n",
    "    \"data\": [\n",
    "        (\n",
    "            (\"market for neutralising agent, sodium hydroxide-equivalent\", \n",
    "             \"neutralising agent, sodium hydroxide-equivalent\", \n",
    "             \"GLO\"),\n",
    "            {\"location\": \"RER\"}\n",
    "        ),\n",
    "\n",
    "        (\n",
    "            (\"market for soda ash, light, crystalline, heptahydrate\", \n",
    "             \"soda ash, light, crystalline, heptahydrate\", \n",
    "             \"GLO\", \"\"),\n",
    "            {\"name\": \"market for soda ash, light\", \n",
    "             \"reference product\": \"soda ash, light\", \n",
    "             \"location\": \"RER\"}\n",
    "        ),\n",
    "\n",
    "        (\n",
    "            (\"market for sodium hydroxide, without water, in 50% solution state\", \n",
    "             \"sodium hydroxide, without water, in 50% solution state\", \n",
    "             \"GLO\"),\n",
    "            {\"location\": \"RER\"}\n",
    "        ),\n",
    "\n",
    "         (\n",
    "            (\"electricity, high voltage, production mix\", \n",
    "             \"electricity, high voltage\", \n",
    "             \"CN-QH\"),\n",
    "            {\"location\": \"CN-CCG\"}\n",
    "        ), \n",
    "\n",
    "        (\n",
    "            (\"Lithium, in ground\", \"\", \"\", (\"natural resource', 'in ground\",)),\n",
    "            {\n",
    "                \"name\": \"Lithium\",\n",
    "            },\n",
    "        ), \n",
    "\n",
    "        (\n",
    "            (\"Sodium\", \"\", \"\", (\"water\",)),\n",
    "            {\n",
    "                \"name\": \"Sodium I\",\n",
    "            },\n",
    "        ), \n",
    "\n",
    "\n",
    "        (\n",
    "            (\"Particulates, > 2.5 um, and < 10um\", \"\", \"\", (\"air\",)),\n",
    "            {\n",
    "                \"name\": \"Particulate Matter, > 2.5 um, and < 10um\",\n",
    "            },\n",
    "        ), \n",
    "\n",
    "        (\n",
    "            (\"Particulates, < 2.5 um\", \"\", \"\", (\"air\",)),\n",
    "            {\n",
    "                \"name\": \"Particulate Matter, < 2.5 um\",\n",
    "            },\n",
    "        )\n",
    "        \n",
    "    ],\n",
    "}"
   ],
   "outputs": [],
   "execution_count": null
  },
  {
   "cell_type": "code",
   "id": "d93c0b0e-a694-445b-b53b-6d5dc239bc10",
   "metadata": {},
   "source": [
    "bi.Migration(name=\"ei3.8-3.10\").write(data=migration_38, description=\"ei 3.8 to 3.10\")"
   ],
   "outputs": [],
   "execution_count": null
  },
  {
   "cell_type": "code",
   "id": "0b852c66-d6b3-45b2-a3d4-e776b4ad82b6",
   "metadata": {},
   "source": [
    "\"ei3.8-3.10\" in bi.migrations"
   ],
   "outputs": [],
   "execution_count": null
  },
  {
   "cell_type": "code",
   "id": "42f15a95-cba1-40fb-ba21-b61b68fc637c",
   "metadata": {},
   "source": [
    "bi.Migration(\"ei3.8-3.10\")"
   ],
   "outputs": [],
   "execution_count": null
  },
  {
   "cell_type": "markdown",
   "id": "acfd6439-4e86-438c-a8f6-2f53247058ce",
   "metadata": {},
   "source": [
    "We apply the migration on our imported data."
   ]
  },
  {
   "cell_type": "code",
   "id": "c1bc421a-9ba3-48ad-b4f9-a93a25287dfa",
   "metadata": {},
   "source": [
    "lithium.data = bi.strategies.migrate_exchanges(\n",
    "    db=lithium.data,\n",
    "    migration=\"ei3.8-3.10\"\n",
    ")"
   ],
   "outputs": [],
   "execution_count": null
  },
  {
   "cell_type": "code",
   "id": "a195db81-f4e4-4b0e-883b-5c29124dbbd0",
   "metadata": {},
   "source": [
    "lithium.match_database(\"ecoinvent-3.10-cutoff\", fields=('name', 'reference product', 'unit', 'location'))\n",
    "lithium.match_database(\"biosphere3\", fields=('name', 'unit', 'categories'))\n",
    "lithium.statistics()"
   ],
   "outputs": [],
   "execution_count": null
  },
  {
   "cell_type": "code",
   "id": "c42e3c51-a997-46cd-9ac9-78c1cd5e6af2",
   "metadata": {},
   "source": [
    "if len(list(lithium.unlinked)) == 0:\n",
    "    lithium.write_database()"
   ],
   "outputs": [],
   "execution_count": null
  },
  {
   "cell_type": "code",
   "id": "37408b4e-d8c9-4068-86ee-2da7e002a35c",
   "metadata": {},
   "source": [
    "bd.databases"
   ],
   "outputs": [],
   "execution_count": null
  },
  {
   "metadata": {},
   "cell_type": "code",
   "source": "",
   "id": "3697a6307ceec2af",
   "outputs": [],
   "execution_count": null
  },
  {
   "cell_type": "markdown",
   "id": "af9448c6-04ce-47e2-a20a-96b73d14a4a1",
   "metadata": {},
   "source": [
    "## Cobalt"
   ]
  },
  {
   "cell_type": "code",
   "id": "ece255db-198d-440c-84ba-fa20ab3de45d",
   "metadata": {},
   "source": [
    "# LCI from ??\n",
    "cobalt = LCI_DIR / 'from_premise' / 'lci-cobalt.xlsx'\n",
    "cobalt = bi.ExcelImporter(cobalt)\n",
    "# Apply the necessary strategies\n",
    "cobalt.apply_strategies()"
   ],
   "outputs": [],
   "execution_count": null
  },
  {
   "cell_type": "code",
   "id": "cb3c64bb-645d-4b0d-8bfa-a73279a3b910",
   "metadata": {},
   "source": [
    "# we match based on the name, reference product and location\n",
    "cobalt.match_database(fields=('name', 'reference product', 'unit', 'location')) \n",
    "cobalt.statistics()"
   ],
   "outputs": [],
   "execution_count": null
  },
  {
   "cell_type": "code",
   "id": "10b65905-a000-4b4f-b20c-9426c5e7adca",
   "metadata": {},
   "source": [
    "# Let's try to link them with EI\n",
    "cobalt.match_database(\"ecoinvent-3.10-cutoff\", fields=('name', 'reference product', 'unit', 'location'))\n",
    "cobalt.match_database(\"biosphere3\", fields=('name', 'unit', 'categories'))\n",
    "cobalt.statistics()"
   ],
   "outputs": [],
   "execution_count": null
  },
  {
   "cell_type": "code",
   "id": "5ff82982-ce38-42a0-bfc3-946eb7df7085",
   "metadata": {},
   "source": [
    "[u for u in cobalt.unlinked if u[\"type\"] == \"technosphere\"]"
   ],
   "outputs": [],
   "execution_count": null
  },
  {
   "cell_type": "code",
   "id": "899a58c4-d17d-40ae-85c8-16f17e9900a4",
   "metadata": {},
   "source": [
    "[u for u in cobalt.unlinked if u[\"type\"] == \"biosphere\"]"
   ],
   "outputs": [],
   "execution_count": null
  },
  {
   "cell_type": "markdown",
   "id": "d097ab5b-52a5-472a-b55b-3117656368fd",
   "metadata": {},
   "source": [
    "### Migration from ei ? to 3.10"
   ]
  },
  {
   "cell_type": "code",
   "id": "65ff3f7b-b164-4ca0-96d3-e807eb03afd4",
   "metadata": {},
   "source": [
    "migration_3 = {\n",
    "    \"fields\": [\"name\", \"reference product\", \"location\", \"categories\"],\n",
    "    \"data\": [\n",
    "        (\n",
    "            (\"market for sodium hydroxide, without water, in 50% solution state\", \n",
    "             \"sodium hydroxide, without water, in 50% solution state\", \n",
    "             \"GLO\"),\n",
    "            {\"location\": \"RER\"}\n",
    "        ),\n",
    "\n",
    "        (\n",
    "            (\"Sodium\", \"\", \"\", (\"water\",)),\n",
    "            {\n",
    "                \"name\": \"Sodium I\",\n",
    "            },\n",
    "        ), \n",
    "\n",
    "        (\n",
    "            (\"Cobalt, in ground\", \"\", \"\", (\"'natural resource', 'in ground'\",)),\n",
    "            {\n",
    "                \"name\": \"Cobalt\",\n",
    "            },\n",
    "        ), \n",
    "\n",
    "        (\n",
    "            (\"Copper, in ground\", \"\", \"\", (\"'natural resource', 'in ground'\",)),\n",
    "            {\n",
    "                \"name\": \"Copper\",\n",
    "            },\n",
    "        ), \n",
    "\n",
    "        (\n",
    "            (\"Particulates, > 2.5 um, and < 10um\", \"\", \"\", (\"air\",)),\n",
    "            {\n",
    "                \"name\": \"Particulate Matter, > 2.5 um, and < 10um\",\n",
    "            },\n",
    "        ), \n",
    "\n",
    "        (\n",
    "            (\"Particulates, < 2.5 um\", \"\", \"\", (\"air\",)),\n",
    "            {\n",
    "                \"name\": \"Particulate Matter, < 2.5 um\",\n",
    "            },\n",
    "        )\n",
    "        \n",
    "    ],\n",
    "}"
   ],
   "outputs": [],
   "execution_count": null
  },
  {
   "cell_type": "code",
   "id": "565094c6-cc57-45da-be86-b0b366b41e42",
   "metadata": {},
   "source": [
    "bi.Migration(name=\"ei3.?-3.10\").write(data=migration_3, description=\"ei 3.? to 3.10\")"
   ],
   "outputs": [],
   "execution_count": null
  },
  {
   "cell_type": "code",
   "id": "b2790c79-6ac1-4f75-9ae3-7eefa1da2b2b",
   "metadata": {},
   "source": [
    "cobalt.data = bi.strategies.migrate_exchanges(\n",
    "    db=cobalt.data,\n",
    "    migration=\"ei3.?-3.10\"\n",
    ")"
   ],
   "outputs": [],
   "execution_count": null
  },
  {
   "cell_type": "code",
   "id": "1b0c0658-dde0-4313-a777-47cbfde1c362",
   "metadata": {},
   "source": [
    "cobalt.match_database(\"ecoinvent-3.10-cutoff\", fields=('name', 'reference product', 'unit', 'location'))\n",
    "cobalt.match_database(\"biosphere3\", fields=('name', 'unit', 'categories'))\n",
    "cobalt.statistics()"
   ],
   "outputs": [],
   "execution_count": null
  },
  {
   "cell_type": "code",
   "id": "1aebb8dd-5a42-4026-ba9a-60ef22f5f77e",
   "metadata": {},
   "source": [
    "if len(list(cobalt.unlinked)) == 0:\n",
    "    cobalt.write_database()"
   ],
   "outputs": [],
   "execution_count": null
  },
  {
   "cell_type": "markdown",
   "id": "1a1044f6-d928-4f9c-b8bf-b2e6ed21e767",
   "metadata": {},
   "source": [
    "## Graphite "
   ]
  },
  {
   "cell_type": "code",
   "id": "d04d8540-fc7f-4d80-8107-ab35ac2eedc5",
   "metadata": {},
   "source": [
    "# LCI from multiple sources\n",
    "graphite = LCI_DIR / 'from_premise' / 'lci-graphite.xlsx'\n",
    "graphite = bi.ExcelImporter(graphite)\n",
    "graphite.apply_strategies()"
   ],
   "outputs": [],
   "execution_count": null
  },
  {
   "cell_type": "code",
   "id": "c1b52a3b-9b2f-4244-b169-3dfcaf66f81c",
   "metadata": {},
   "source": [
    "graphite.match_database(fields=('name', 'reference product', 'unit', 'location')) \n",
    "graphite.statistics()"
   ],
   "outputs": [],
   "execution_count": null
  },
  {
   "cell_type": "code",
   "id": "1fa54988-b75f-4503-851d-88c3a02f1b65",
   "metadata": {},
   "source": [
    "# Let's try to link them with EI\n",
    "graphite.match_database(\"ecoinvent-3.10-cutoff\", fields=('name', 'reference product', 'unit', 'location'))\n",
    "graphite.match_database(\"biosphere3\", fields=('name', 'unit', 'categories'))\n",
    "graphite.statistics()"
   ],
   "outputs": [],
   "execution_count": null
  },
  {
   "cell_type": "code",
   "id": "b7c8ca15-3651-4298-9bc4-b4eb24518cc6",
   "metadata": {},
   "source": [
    "[u for u in graphite.unlinked if u[\"type\"] == \"technosphere\"]"
   ],
   "outputs": [],
   "execution_count": null
  },
  {
   "cell_type": "code",
   "id": "798cfb8d-1534-40cb-9ad9-05b2d26b9e21",
   "metadata": {},
   "source": [
    "[u for u in graphite.unlinked if u[\"type\"] == \"biosphere\"]"
   ],
   "outputs": [],
   "execution_count": null
  },
  {
   "cell_type": "markdown",
   "id": "1f208742-a972-4af3-be9b-44211ab7394b",
   "metadata": {},
   "source": [
    "## Migration from ei 3.? to 3.10"
   ]
  },
  {
   "cell_type": "code",
   "id": "1d94cbc2-d7d1-4d13-9a1b-47f2af0a7153",
   "metadata": {},
   "source": [
    "migration_graphite = {\n",
    "    \"fields\": [\"name\", \"reference product\", \"location\", \"categories\"],\n",
    "    \"data\": [\n",
    "        (\n",
    "            (\"coking\", \n",
    "             \"coal gas\", \n",
    "             \"ROW\"),\n",
    "            {\"name\": \"coke production\"}\n",
    "        ),\n",
    "        (\n",
    "            (\"Particulates, > 10 um\", \"\", \"\", (\"air\",)),\n",
    "            {\n",
    "                \"name\": \"Particulate Matter, > 10 um\",\n",
    "            },\n",
    "        ),\n",
    "\n",
    "        (\n",
    "            (\"Oil, crude, in ground\", \"\", \"\", (\"'natural resource', 'in ground'\",)),\n",
    "            {\n",
    "                \"name\": \"Oil, crude\",\n",
    "            },\n",
    "        ), \n",
    "        \n",
    "    ],\n",
    "}"
   ],
   "outputs": [],
   "execution_count": null
  },
  {
   "cell_type": "code",
   "id": "21ff41f7-859e-4e44-b4ee-c92c07db6521",
   "metadata": {},
   "source": [
    "bi.Migration(name=\"graphite\").write(data=migration_graphite, description=\"graphite\")"
   ],
   "outputs": [],
   "execution_count": null
  },
  {
   "cell_type": "code",
   "id": "a0c00687-35ab-48d5-9a62-f78bc494ac98",
   "metadata": {},
   "source": [
    "graphite.data = bi.strategies.migrate_exchanges(\n",
    "    db=graphite.data,\n",
    "    migration=\"graphite\"\n",
    ")"
   ],
   "outputs": [],
   "execution_count": null
  },
  {
   "cell_type": "code",
   "id": "4389a4b0-1aab-44a1-8d16-89cea294d917",
   "metadata": {},
   "source": [
    "graphite.match_database(\"ecoinvent-3.10-cutoff\", fields=('name', 'reference product', 'unit', 'location'))\n",
    "graphite.match_database(\"biosphere3\", fields=('name', 'unit', 'categories'))\n",
    "graphite.statistics()"
   ],
   "outputs": [],
   "execution_count": null
  },
  {
   "cell_type": "code",
   "id": "2fbf9673-71c6-495d-b853-eed8f6093354",
   "metadata": {},
   "source": [
    "if len(list(graphite.unlinked)) == 0:\n",
    "    graphite.write_database()"
   ],
   "outputs": [],
   "execution_count": null
  },
  {
   "cell_type": "markdown",
   "id": "e095a21a-ac89-4f8e-99b3-8ac44b9b1383",
   "metadata": {},
   "source": [
    "# First LCA and contribution analysis "
   ]
  },
  {
   "cell_type": "code",
   "id": "d6aa08ab-1956-4939-866b-e22477a71908",
   "metadata": {},
   "source": [],
   "outputs": [],
   "execution_count": null
  },
  {
   "cell_type": "code",
   "id": "e6882521-bd39-49bc-ad74-8926ae85af44",
   "metadata": {},
   "source": [],
   "outputs": [],
   "execution_count": null
  },
  {
   "cell_type": "code",
   "id": "cbb31280-97d1-46f9-88e5-d496029914ed",
   "metadata": {},
   "source": [
    "db = bd.Database(\"lithium\")"
   ],
   "outputs": [],
   "execution_count": null
  },
  {
   "cell_type": "code",
   "id": "46cb4a2b-8930-4055-98db-583c11940e97",
   "metadata": {},
   "source": [
    "[a[\"name\"] for a in db]"
   ],
   "outputs": [],
   "execution_count": null
  },
  {
   "cell_type": "code",
   "id": "3f48e3db-b613-4857-a329-d7dc0f4b157c",
   "metadata": {},
   "source": [
    "activity = db.search('lithium carbonate production, from Salar de Olaroz')[0]\n",
    "activity"
   ],
   "outputs": [],
   "execution_count": null
  },
  {
   "cell_type": "code",
   "id": "2f9b4df7-5b61-45b7-9d4a-8f544f47c323",
   "metadata": {},
   "source": [
    "method = ('IPCC 2021', 'climate change', 'global warming potential (GWP100)')"
   ],
   "outputs": [],
   "execution_count": null
  },
  {
   "cell_type": "code",
   "id": "30fd67c2-b074-44a2-a3fd-173390953838",
   "metadata": {},
   "source": [
    "lca = bc.LCA({activity:1}, method)\n",
    "lca.lci()\n",
    "lca.lcia()\n",
    "lca.score"
   ],
   "outputs": [],
   "execution_count": null
  },
  {
   "cell_type": "code",
   "id": "c1436d37-8d55-4178-b735-4ec957df676a",
   "metadata": {},
   "source": [
    "rev_prod, rev_act, rev_bio = lca.reverse_dict()"
   ],
   "outputs": [],
   "execution_count": null
  },
  {
   "cell_type": "code",
   "id": "100517e5-3e91-4e87-b765-9aa9669d0179",
   "metadata": {},
   "source": [
    "results_by_activity = (lca.characterized_inventory.sum(axis=0)).A1"
   ],
   "outputs": [],
   "execution_count": null
  },
  {
   "cell_type": "code",
   "id": "18b59a07-636b-4e39-97d1-3018d92c6ae6",
   "metadata": {},
   "source": [
    "# Create a list of names in columns\n",
    "list_of_names_in_columns = [\n",
    "    bd.get_activity(rev_prod[col])['name'] \n",
    "    for col in range((lca.characterized_inventory.sum(axis=0)).shape[1])\n",
    "]"
   ],
   "outputs": [],
   "execution_count": null
  },
  {
   "cell_type": "code",
   "id": "4c27da22-2eb5-4857-aaf0-39cb985587ec",
   "metadata": {},
   "source": [
    "pd.Series(index=list_of_names_in_columns, data=results_by_activity).sort_values(ascending=False).head(10)"
   ],
   "outputs": [],
   "execution_count": null
  },
  {
   "cell_type": "code",
   "id": "3b3af6b0-4228-42bd-88e8-9f79df122c5a",
   "metadata": {},
   "source": [
    "# Same analysis but streamlined with bw2analyzer\n",
    "import bw2analyzer as ba"
   ],
   "outputs": [],
   "execution_count": null
  },
  {
   "cell_type": "code",
   "id": "5afed7a5-a8d1-4716-b8ac-c786537d523b",
   "metadata": {},
   "source": [
    "pd.DataFrame(\n",
    "    [(x, y, z[\"name\"]) for x, y, z in ba.ContributionAnalysis().annotated_top_processes(lca=lca)],\n",
    "    columns=[\"score\", \"quantity\", \"name\"]\n",
    ")"
   ],
   "outputs": [],
   "execution_count": null
  },
  {
   "cell_type": "code",
   "id": "157356c7-6784-4653-8eae-e181e20bdc0c",
   "metadata": {},
   "source": [
    "pd.DataFrame(\n",
    "    [(x, y, z[\"name\"]) for x, y, z in ba.ContributionAnalysis().annotated_top_emissions(lca=lca)],\n",
    "    columns=[\"score\", \"quantity\", \"name\"]\n",
    ")"
   ],
   "outputs": [],
   "execution_count": null
  },
  {
   "cell_type": "code",
   "id": "cdf9f1d2-7c5f-48dc-8995-0a4ffc1fb8b9",
   "metadata": {},
   "source": [],
   "outputs": [],
   "execution_count": null
  }
 ],
 "metadata": {
  "kernelspec": {
   "display_name": "Python 3 (ipykernel)",
   "language": "python",
   "name": "python3"
  },
  "language_info": {
   "codemirror_mode": {
    "name": "ipython",
    "version": 3
   },
   "file_extension": ".py",
   "mimetype": "text/x-python",
   "name": "python",
   "nbconvert_exporter": "python",
   "pygments_lexer": "ipython3",
   "version": "3.10.15"
  }
 },
 "nbformat": 4,
 "nbformat_minor": 5
}
