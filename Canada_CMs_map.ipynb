{
 "cells": [
  {
   "cell_type": "code",
   "id": "initial_id",
   "metadata": {
    "collapsed": true
   },
   "source": [
    "import matplotlib.pyplot as plt\n",
    "import matplotlib.image as mpimg\n",
    "import matplotlib.patches as mpatches"
   ],
   "outputs": [],
   "execution_count": null
  },
  {
   "metadata": {},
   "cell_type": "markdown",
   "source": "The map represents the Critical minerals advanced projects, mines and processing facilities in Canada. It has been created using QGIS based on the [map](https://atlas.gc.ca/critical-minerals/en/index.html) provided by NRCan. The dataset can be downloaded [here](https://open.canada.ca/data/en/dataset/22b2db8a-dc12-47f2-9737-99d3da921751), and an xlsx version is avalailable in the data folder",
   "id": "aa77a4f9c26fa0c5"
  },
  {
   "metadata": {},
   "cell_type": "code",
   "source": [
    "# Define commodities and their associated colors in hex codes, sorted alphabetically\n",
    "commodities = {\n",
    "    \"Aluminum\": \"#B0C4DE\",\n",
    "    \"Cobalt\": \"#0047AB\",\n",
    "    \"Copper\": \"#B87333\",\n",
    "    \"Gold\": \"#FFD700\",\n",
    "    \"Graphite\": \"#696969\",\n",
    "    \"Helium\": \"#FFB6C1\",\n",
    "    \"Iron\": \"#A52A2A\",\n",
    "    \"Lithium\": \"#66CDAA\",\n",
    "    \"Nickel\": \"#1F75FE\",\n",
    "    \"PGMs\": \"##ffb81e\",\n",
    "    \"Potash\": \"#D2691E\",\n",
    "    \"REEs\": \"#6A0DAD\",\n",
    "    \"Uranium\": \"#556B2F\",\n",
    "    \"Zinc\": \"#4682B4\",\n",
    "    \"Other\": \"#010101\"\n",
    "}\n",
    "\n",
    "# Define symbols and labels for each project type with specific shapes\n",
    "project_types = {\n",
    "    \"Mine\": \"o\",                # Circle\n",
    "    \"Processing\": \"p\",           # Pentagon\n",
    "    \"Active Project\": \"^\",       # Upward Triangle\n",
    "    \"On hold Project\": \"v\"       # Downward Triangle\n",
    "}\n"
   ],
   "id": "194f864674a2a085",
   "outputs": [],
   "execution_count": null
  },
  {
   "metadata": {},
   "cell_type": "markdown",
   "source": "# One map with everything in it",
   "id": "b662b68d3d080403"
  },
  {
   "metadata": {},
   "cell_type": "code",
   "source": [
    "# We load the map\n",
    "image_path = 'images/Canada_CM_map.png'  \n",
    "img = mpimg.imread(image_path)\n",
    "\n",
    "# Create a figure and show the image\n",
    "fig, ax = plt.subplots(figsize=(10, 10))\n",
    "ax.imshow(img)\n",
    "ax.axis('off')\n",
    "\n",
    "# Create a legend for commodities\n",
    "commodity_handles = [\n",
    "    mpatches.Patch(color=color, label=commodity)\n",
    "    for commodity, color in sorted(commodities.items())\n",
    "]\n",
    "\n",
    "# Create a legend for project types with markers\n",
    "project_handles = [\n",
    "    plt.Line2D([], [], color='black', marker=marker, linestyle='None', markersize=10, label=label)\n",
    "    for label, marker in project_types.items()\n",
    "]\n",
    "\n",
    "# Add the legends to the figure on the right side, one below the other\n",
    "legend_commodities = plt.legend(handles=commodity_handles, loc='center left', bbox_to_anchor=(1, 0.7), frameon=False, fontsize=12, title=\"\")\n",
    "legend_projects = plt.legend(handles=project_handles, loc='center left', bbox_to_anchor=(1, 0.3), frameon=False, fontsize=12, title=\"\")\n",
    "ax.add_artist(legend_commodities)\n",
    "\n",
    "# Save the image with legends\n",
    "output_path = 'images/Canada_CM_map_with_legend.png'  \n",
    "plt.savefig(output_path, bbox_inches='tight', dpi=300)\n",
    "plt.show()"
   ],
   "id": "d34fbd876b21ab90",
   "outputs": [],
   "execution_count": null
  },
  {
   "metadata": {},
   "cell_type": "markdown",
   "source": "# 3 submaps for mine, processing and projects",
   "id": "ffe5e5757576cba8"
  },
  {
   "metadata": {},
   "cell_type": "code",
   "source": [
    "# Load the images\n",
    "image_paths = ['images/Canada_CM_mine_map.png', 'images/Canada_CM_processing_map.png', 'images/Canada_CM_project_map.png']  \n",
    "images = [mpimg.imread(path) for path in image_paths]\n",
    "\n",
    "# Create a figure with subplots\n",
    "fig, axes = plt.subplots(1, 3, figsize=(30, 10))\n",
    "\n",
    "# Display each image in the subplots\n",
    "for ax, img, title in zip(axes, images, [\"Mine\", \"Processing\", \"Projects\"]):\n",
    "    ax.imshow(img)\n",
    "    ax.axis('off')\n",
    "    ax.set_title(title, fontsize=20, fontweight='bold')\n",
    "\n",
    "# Create a legend for commodities\n",
    "commodity_handles = [\n",
    "    mpatches.Patch(color=color, label=commodity)\n",
    "    for commodity, color in sorted(commodities.items())\n",
    "]\n",
    "\n",
    "# Create a legend for project types with markers\n",
    "project_handles = [\n",
    "    plt.Line2D([], [], color='black', marker=marker, linestyle='None', markersize=10, label=label)\n",
    "    for label, marker in project_types.items()\n",
    "]\n",
    "\n",
    "# Add the legends to the figure on the right side, one below the other\n",
    "legend_commodities = plt.legend(handles=commodity_handles, loc='center left', bbox_to_anchor=(1, 0.7), frameon=False, fontsize=12, title=\"\", title_fontsize=14)\n",
    "legend_projects = plt.legend(handles=project_handles, loc='center left', bbox_to_anchor=(1, 0.3), frameon=False, fontsize=12, title=\"\", title_fontsize=14)\n",
    "\n",
    "fig.add_artist(legend_commodities)\n",
    "\n",
    "# Save the image with legends\n",
    "output_path = 'images/Canada_CM_map_with_legend_3subplots.png'  # Replace with your desired output path\n",
    "plt.savefig(output_path, bbox_inches='tight', dpi=300)\n",
    "plt.show()"
   ],
   "id": "f235b1b1c32edb17",
   "outputs": [],
   "execution_count": null
  },
  {
   "metadata": {},
   "cell_type": "code",
   "source": "",
   "id": "686c905b804c4b81",
   "outputs": [],
   "execution_count": null
  },
  {
   "metadata": {},
   "cell_type": "code",
   "source": "",
   "id": "7ead85657863f307",
   "outputs": [],
   "execution_count": null
  },
  {
   "metadata": {},
   "cell_type": "code",
   "source": "",
   "id": "f7e7ee862ea45010",
   "outputs": [],
   "execution_count": null
  }
 ],
 "metadata": {
  "kernelspec": {
   "display_name": "Python 3",
   "language": "python",
   "name": "python3"
  },
  "language_info": {
   "codemirror_mode": {
    "name": "ipython",
    "version": 2
   },
   "file_extension": ".py",
   "mimetype": "text/x-python",
   "name": "python",
   "nbconvert_exporter": "python",
   "pygments_lexer": "ipython2",
   "version": "2.7.6"
  }
 },
 "nbformat": 4,
 "nbformat_minor": 5
}
