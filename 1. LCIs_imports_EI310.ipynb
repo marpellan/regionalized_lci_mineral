{
 "cells": [
  {
   "cell_type": "code",
   "id": "a66d0b29-bf63-40cc-b06b-37ccd2ffea0a",
   "metadata": {
    "ExecuteTime": {
     "end_time": "2025-01-09T14:48:21.506806Z",
     "start_time": "2025-01-09T14:48:21.441288Z"
    }
   },
   "source": [
    "# Let's get comfortable first\n",
    "from IPython.display import display, HTML\n",
    "display(HTML(\"<style>.container { width:80% !important; }</style>\"))"
   ],
   "outputs": [
    {
     "data": {
      "text/plain": [
       "<IPython.core.display.HTML object>"
      ],
      "text/html": [
       "<style>.container { width:80% !important; }</style>"
      ]
     },
     "metadata": {},
     "output_type": "display_data"
    }
   ],
   "execution_count": 1
  },
  {
   "cell_type": "code",
   "id": "4ad8050c-5b7a-4aa6-bd09-8640f90a5da7",
   "metadata": {
    "ExecuteTime": {
     "end_time": "2025-01-09T14:48:25.954136Z",
     "start_time": "2025-01-09T14:48:21.521333Z"
    }
   },
   "source": [
    "# Brightway imports\n",
    "import bw2analyzer as ba\n",
    "import bw2calc as bc\n",
    "import bw2data as bd\n",
    "import bw2io as bi\n",
    "import brightway2 as bw"
   ],
   "outputs": [],
   "execution_count": 2
  },
  {
   "cell_type": "code",
   "id": "6fcfefbe-8716-45c3-ad36-1684e33c18a3",
   "metadata": {
    "ExecuteTime": {
     "end_time": "2025-01-09T14:48:26.303238Z",
     "start_time": "2025-01-09T14:48:26.287536Z"
    }
   },
   "source": [
    "import pandas as pd\n",
    "import openpyxl\n",
    "from pathlib import Path\n",
    "import math\n",
    "import os"
   ],
   "outputs": [],
   "execution_count": 3
  },
  {
   "cell_type": "code",
   "id": "d566cfbf-e0c4-46e9-9f96-f214b1258db6",
   "metadata": {
    "ExecuteTime": {
     "end_time": "2025-01-09T14:48:46.476404Z",
     "start_time": "2025-01-09T14:48:46.452817Z"
    }
   },
   "source": "from useful_lca_functions import create_pedigree_matrix ",
   "outputs": [],
   "execution_count": 5
  },
  {
   "cell_type": "code",
   "id": "5c84891c-d54c-43a3-972c-17ae29e74219",
   "metadata": {
    "ExecuteTime": {
     "end_time": "2025-01-09T14:49:54.832569Z",
     "start_time": "2025-01-09T14:49:54.814539Z"
    }
   },
   "source": [
    "# Define paths as constants\n",
    "LCI_DIR = 'data/LCI'\n",
    "EI_DIR = Path(\"C:/Users/mp_ma/AppData/Local/pylca/EcoinventInterface/cache/ecoinvent 3.10_cutoff_ecoSpold02/datasets\")"
   ],
   "outputs": [],
   "execution_count": 6
  },
  {
   "cell_type": "markdown",
   "id": "2979b225-f4a9-4cb7-9eae-9829d0942337",
   "metadata": {},
   "source": [
    "# Setting project and databases"
   ]
  },
  {
   "cell_type": "code",
   "id": "1a336156-49d5-4aaa-9057-a2910d8272de",
   "metadata": {
    "ExecuteTime": {
     "end_time": "2025-01-09T14:50:06.033954Z",
     "start_time": "2025-01-09T14:50:06.023469Z"
    }
   },
   "source": "ei_name = \"ecoinvent-3.10-cutoff\"",
   "outputs": [],
   "execution_count": 7
  },
  {
   "cell_type": "code",
   "id": "91b7cf58-cc77-4cdc-82d1-119fa5d36359",
   "metadata": {
    "ExecuteTime": {
     "end_time": "2025-01-09T14:50:07.322773Z",
     "start_time": "2025-01-09T14:50:07.300238Z"
    }
   },
   "source": [
    "bd.projects\n",
    "#sorted(bd.projects)"
   ],
   "outputs": [
    {
     "data": {
      "text/plain": [
       "Brightway2 projects manager with 10 objects:\n",
       "\tdefault\n",
       "\tei311\n",
       "\tei39\n",
       "\tincremental_db\n",
       "\tlca-alg-2\n",
       "\tlib_rm\n",
       "\tpremise-elec\n",
       "\tregioinvent\n",
       "\tregioinvent_2025\n",
       "\tregiopremise\n",
       "Use `projects.report()` to get a report on all projects."
      ]
     },
     "execution_count": 8,
     "metadata": {},
     "output_type": "execute_result"
    }
   ],
   "execution_count": 8
  },
  {
   "cell_type": "code",
   "id": "48d2d883-82ad-422c-8d63-71f0e1d335bb",
   "metadata": {
    "ExecuteTime": {
     "end_time": "2025-01-09T14:50:22.310562Z",
     "start_time": "2025-01-09T14:50:22.026607Z"
    }
   },
   "source": [
    "bd.projects.set_current(\"regioinvent_2025\")\n",
    "#bd.projects.delete_project(name='excel importer', delete_dir=True)\n",
    "#bd.projects.rename(\"<new_project_name>\")"
   ],
   "outputs": [],
   "execution_count": 9
  },
  {
   "cell_type": "code",
   "id": "bd3f0014-ec80-4acf-bcd5-79002b6c0f97",
   "metadata": {
    "ExecuteTime": {
     "end_time": "2025-01-09T14:50:23.995525Z",
     "start_time": "2025-01-09T14:50:23.979902Z"
    }
   },
   "source": [
    "bd.databases"
   ],
   "outputs": [
    {
     "data": {
      "text/plain": [
       "Databases dictionary with 5 object(s):\n",
       "\tRegioinvent\n",
       "\tbiosphere3\n",
       "\tbiosphere3_spatialized_flows\n",
       "\tecoinvent-3.10-cutoff\n",
       "\tecoinvent-3.10-cutoff regionalized"
      ]
     },
     "execution_count": 10,
     "metadata": {},
     "output_type": "execute_result"
    }
   ],
   "execution_count": 10
  },
  {
   "cell_type": "code",
   "id": "f8ffdcae-60bf-4cec-a598-210c5d463418",
   "metadata": {
    "ExecuteTime": {
     "end_time": "2025-01-09T14:50:36.115262Z",
     "start_time": "2025-01-09T14:50:36.083959Z"
    }
   },
   "source": [
    "# When we execute this cell, we will check if it's already been imported, and if not (else) we import it.\n",
    "\n",
    "if ei_name in bd.databases:\n",
    "    print(\"Database has already been imported.\")\n",
    "else:\n",
    "# Go ahead and import:\n",
    "    ei_importer = bi.SingleOutputEcospold2Importer(EI_DIR, ei_name)\n",
    "    # Apply stragegies \n",
    "    ei_importer.apply_strategies()\n",
    "    # We can get some statistics\n",
    "    ei_importer.statistics()\n",
    "    # Now we will write the database into our project. \n",
    "    ei_importer.write_database()"
   ],
   "outputs": [
    {
     "name": "stdout",
     "output_type": "stream",
     "text": [
      "Database has already been imported.\n"
     ]
    }
   ],
   "execution_count": 12
  },
  {
   "metadata": {},
   "cell_type": "markdown",
   "source": "# LCI from Istrate et al (2024)",
   "id": "a6f19dc7def6d35b"
  },
  {
   "metadata": {
    "ExecuteTime": {
     "end_time": "2025-01-09T14:51:22.467575Z",
     "start_time": "2025-01-09T14:51:10.639713Z"
    }
   },
   "cell_type": "code",
   "source": [
    "# Import LIB raw materials LCIs\n",
    "lci_lib_rms = bw.ExcelImporter(r'data/LCI/lci_LIB_raw_materials.xlsx')\n",
    "lci_lib_rms.apply_strategies()\n",
    "lci_lib_rms.match_database(\"ecoinvent-3.10-cutoff\", fields=('name', 'reference product', 'unit', 'location'))\n",
    "lci_lib_rms.match_database(\"biosphere3\", fields=('name', 'unit', 'categories'))"
   ],
   "id": "e2ed947b5ab3a2c3",
   "outputs": [
    {
     "name": "stdout",
     "output_type": "stream",
     "text": [
      "Extracted 7 worksheets in 0.87 seconds\n",
      "Applying strategy: csv_restore_tuples\n",
      "Applying strategy: csv_restore_booleans\n",
      "Applying strategy: csv_numerize\n",
      "Applying strategy: csv_drop_unknown\n",
      "Applying strategy: csv_add_missing_exchanges_section\n",
      "Applying strategy: normalize_units\n",
      "Applying strategy: normalize_biosphere_categories\n",
      "Applying strategy: normalize_biosphere_names\n",
      "Applying strategy: strip_biosphere_exc_locations\n",
      "Applying strategy: set_code_by_activity_hash\n",
      "Applying strategy: link_iterable_by_fields\n",
      "Applying strategy: assign_only_product_as_production\n",
      "Applying strategy: link_technosphere_by_activity_hash\n",
      "Applying strategy: drop_falsey_uncertainty_fields_but_keep_zeros\n",
      "Applying strategy: convert_uncertainty_types_to_integers\n",
      "Applying strategy: convert_activity_parameters_to_list\n",
      "Applied 16 strategies in 6.09 seconds\n",
      "Applying strategy: link_iterable_by_fields\n",
      "Applying strategy: link_iterable_by_fields\n"
     ]
    }
   ],
   "execution_count": 14
  },
  {
   "metadata": {
    "ExecuteTime": {
     "end_time": "2025-01-09T14:51:28.667377Z",
     "start_time": "2025-01-09T14:51:28.651510Z"
    }
   },
   "cell_type": "code",
   "source": [
    "# Add uncertainty data for pedigree matrix\n",
    "for ds in lci_lib_rms.data:\n",
    "    for exc in ds[\"exchanges\"]:\n",
    "        if \"pedigree\" in exc:\n",
    "\n",
    "            # Pedigree are stored as strings\n",
    "            pedigree_str = exc[\"pedigree\"].strip(\"()\")\n",
    "            pedigre_scores = tuple([int(x) for x in pedigree_str.split(\", \")])\n",
    "            exc_amount = exc[\"amount\"]\n",
    "\n",
    "            uncertainty_dict = create_pedigree_matrix(pedigre_scores, exc_amount)\n",
    "            exc.update(uncertainty_dict)"
   ],
   "id": "8bf9fd800adb6ade",
   "outputs": [],
   "execution_count": 15
  },
  {
   "metadata": {
    "ExecuteTime": {
     "end_time": "2025-01-09T14:51:30.363049Z",
     "start_time": "2025-01-09T14:51:30.348098Z"
    }
   },
   "cell_type": "code",
   "source": "lci_lib_rms.statistics()",
   "id": "12075316ee0e7243",
   "outputs": [
    {
     "name": "stdout",
     "output_type": "stream",
     "text": [
      "31 datasets\n",
      "498 exchanges\n",
      "0 unlinked exchanges\n",
      "  \n"
     ]
    },
    {
     "data": {
      "text/plain": [
       "(31, 498, 0)"
      ]
     },
     "execution_count": 16,
     "metadata": {},
     "output_type": "execute_result"
    }
   ],
   "execution_count": 16
  },
  {
   "metadata": {},
   "cell_type": "markdown",
   "source": "# LCI from premise",
   "id": "b77fab9ce5067d2e"
  },
  {
   "cell_type": "markdown",
   "id": "02542fdd-5cfb-4db0-83a5-196e912e3678",
   "metadata": {},
   "source": [
    "## Lithium"
   ]
  },
  {
   "cell_type": "code",
   "id": "5820582c-79bc-411c-8eda-8666bba0ba77",
   "metadata": {
    "ExecuteTime": {
     "end_time": "2025-01-09T14:53:27.813443Z",
     "start_time": "2025-01-09T14:53:21.413202Z"
    }
   },
   "source": [
    "# LCI from Schenker et al (2022) \n",
    "lithium = 'data/LCI/lci-lithium.xlsx'\n",
    "lithium = bi.ExcelImporter(lithium)\n",
    "# Apply the necessary strategies\n",
    "lithium.apply_strategies()"
   ],
   "outputs": [
    {
     "name": "stdout",
     "output_type": "stream",
     "text": [
      "Extracted 7 worksheets in 0.09 seconds\n",
      "Applying strategy: csv_restore_tuples\n",
      "Applying strategy: csv_restore_booleans\n",
      "Applying strategy: csv_numerize\n",
      "Applying strategy: csv_drop_unknown\n",
      "Applying strategy: csv_add_missing_exchanges_section\n",
      "Applying strategy: normalize_units\n",
      "Applying strategy: normalize_biosphere_categories\n",
      "Applying strategy: normalize_biosphere_names\n",
      "Applying strategy: strip_biosphere_exc_locations\n",
      "Applying strategy: set_code_by_activity_hash\n",
      "Applying strategy: link_iterable_by_fields\n",
      "Applying strategy: assign_only_product_as_production\n",
      "Applying strategy: link_technosphere_by_activity_hash\n",
      "Applying strategy: drop_falsey_uncertainty_fields_but_keep_zeros\n",
      "Applying strategy: convert_uncertainty_types_to_integers\n",
      "Applying strategy: convert_activity_parameters_to_list\n",
      "Applied 16 strategies in 6.30 seconds\n"
     ]
    }
   ],
   "execution_count": 21
  },
  {
   "cell_type": "code",
   "id": "0289c06b-b25a-4f94-a744-be56945ebd26",
   "metadata": {
    "ExecuteTime": {
     "end_time": "2025-01-09T14:53:29.526335Z",
     "start_time": "2025-01-09T14:53:29.496065Z"
    }
   },
   "source": [
    "# we match based on the name, reference product and location\n",
    "lithium.statistics()"
   ],
   "outputs": [
    {
     "name": "stdout",
     "output_type": "stream",
     "text": [
      "40 datasets\n",
      "263 exchanges\n",
      "126 unlinked exchanges\n",
      "  Type biosphere: 4 unique unlinked exchanges\n",
      "  Type technosphere: 20 unique unlinked exchanges\n"
     ]
    },
    {
     "data": {
      "text/plain": [
       "(40, 263, 126)"
      ]
     },
     "execution_count": 22,
     "metadata": {},
     "output_type": "execute_result"
    }
   ],
   "execution_count": 22
  },
  {
   "cell_type": "code",
   "id": "1be5cd08-f3cc-4635-850e-a13e4fb380ac",
   "metadata": {
    "ExecuteTime": {
     "end_time": "2025-01-09T14:53:30.516263Z",
     "start_time": "2025-01-09T14:53:30.500280Z"
    }
   },
   "source": [
    "# We have some unlinked exchanges, let's see which ones\n",
    "for u in list(lithium.unlinked):\n",
    "    print(u[\"name\"], u.get(\"location\"), u.get(\"categories\"))"
   ],
   "outputs": [
    {
     "name": "stdout",
     "output_type": "stream",
     "text": [
      "market for transport, freight, sea, bulk carrier for dry goods GLO None\n",
      "market for electricity, high voltage CL None\n",
      "market for kerosene RoW None\n",
      "Lithium, in ground None ('natural resource', 'in ground')\n",
      "machine operation, diesel, >= 74.57 kW, high load factor GLO None\n",
      "transport, freight, lorry >32 metric ton, EURO3 RoW None\n",
      "heat production, natural gas, at industrial furnace >100kW RoW None\n",
      "market for hydrochloric acid, without water, in 30% solution state RoW None\n",
      "market for neutralising agent, sodium hydroxide-equivalent GLO None\n",
      "market for soda ash, light, crystalline, heptahydrate GLO None\n",
      "market for quicklime, milled, packed RoW None\n",
      "market for electricity, high voltage AR None\n",
      "heat and power co-generation, natural gas, 1MW electrical, lean burn RoW None\n",
      "heat and power co-generation, natural gas, 1MW electrical, lean burn RoW None\n",
      "market for sodium hydroxide, without water, in 50% solution state GLO None\n",
      "Sodium None ('water',)\n",
      "market for calcium chloride RoW None\n",
      "electricity, high voltage, production mix CN-QH None\n",
      "market for ammonium chloride GLO None\n",
      "market for calcium carbonate, precipitated RoW None\n",
      "market group for electricity, medium voltage GLO None\n",
      "market for diesel, burned in diesel-electric generating set, 18.5kW GLO None\n",
      "Particulates, > 2.5 um, and < 10um None ('air',)\n",
      "Particulates, < 2.5 um None ('air',)\n"
     ]
    }
   ],
   "execution_count": 23
  },
  {
   "cell_type": "code",
   "id": "65976f43-b44e-4637-8bcc-a6b7dd79049f",
   "metadata": {
    "ExecuteTime": {
     "end_time": "2025-01-09T14:53:33.779699Z",
     "start_time": "2025-01-09T14:53:31.363047Z"
    }
   },
   "source": [
    "# Let's try to link them with EI and biosphere\n",
    "lithium.match_database(\"ecoinvent-3.10-cutoff\", fields=('name', 'reference product', 'unit', 'location'))\n",
    "lithium.match_database(\"biosphere3\", fields=('name', 'unit', 'categories'))\n",
    "lithium.statistics()"
   ],
   "outputs": [
    {
     "name": "stdout",
     "output_type": "stream",
     "text": [
      "Applying strategy: link_iterable_by_fields\n",
      "Applying strategy: link_iterable_by_fields\n",
      "40 datasets\n",
      "263 exchanges\n",
      "33 unlinked exchanges\n",
      "  Type biosphere: 4 unique unlinked exchanges\n",
      "  Type technosphere: 4 unique unlinked exchanges\n"
     ]
    },
    {
     "data": {
      "text/plain": [
       "(40, 263, 33)"
      ]
     },
     "execution_count": 24,
     "metadata": {},
     "output_type": "execute_result"
    }
   ],
   "execution_count": 24
  },
  {
   "cell_type": "code",
   "id": "49e4cded-c8b7-489b-b34a-6ced58bef3eb",
   "metadata": {
    "ExecuteTime": {
     "end_time": "2025-01-09T14:53:35.158647Z",
     "start_time": "2025-01-09T14:53:35.127375Z"
    }
   },
   "source": [
    "[u for u in lithium.unlinked if u[\"type\"] == \"technosphere\"]"
   ],
   "outputs": [
    {
     "data": {
      "text/plain": [
       "[{'name': 'market for neutralising agent, sodium hydroxide-equivalent',\n",
       "  'reference product': 'neutralising agent, sodium hydroxide-equivalent',\n",
       "  'location': 'GLO',\n",
       "  'amount': 0.0148,\n",
       "  'unit': 'kilogram',\n",
       "  'database': 'ecoinvent 3.8 cutoff',\n",
       "  'type': 'technosphere',\n",
       "  'uncertainty type': 5,\n",
       "  'loc': 0.0148,\n",
       "  'minimum': 0.0074,\n",
       "  'maximum': 0.0222},\n",
       " {'name': 'market for soda ash, light, crystalline, heptahydrate',\n",
       "  'reference product': 'soda ash, light, crystalline, heptahydrate',\n",
       "  'location': 'GLO',\n",
       "  'amount': 0.01319382605060973,\n",
       "  'unit': 'kilogram',\n",
       "  'database': 'ecoinvent 3.8 cutoff',\n",
       "  'type': 'technosphere',\n",
       "  'uncertainty type': 5,\n",
       "  'loc': 0.01319382605060973,\n",
       "  'minimum': 0.011874443445548758,\n",
       "  'maximum': 0.014513208655670705},\n",
       " {'name': 'market for sodium hydroxide, without water, in 50% solution state',\n",
       "  'reference product': 'sodium hydroxide, without water, in 50% solution state',\n",
       "  'location': 'GLO',\n",
       "  'amount': 0.0008726557490875913,\n",
       "  'unit': 'kilogram',\n",
       "  'database': 'ecoinvent 3.8 cutoff',\n",
       "  'type': 'technosphere'},\n",
       " {'name': 'electricity, high voltage, production mix',\n",
       "  'reference product': 'electricity, high voltage',\n",
       "  'location': 'CN-QH',\n",
       "  'amount': 0.003603,\n",
       "  'unit': 'kilowatt hour',\n",
       "  'database': 'ecoinvent 3.8 cutoff',\n",
       "  'type': 'technosphere',\n",
       "  'uncertainty type': 2,\n",
       "  'loc': -5.625988447216181,\n",
       "  'scale': 0.5226943987482665}]"
      ]
     },
     "execution_count": 25,
     "metadata": {},
     "output_type": "execute_result"
    }
   ],
   "execution_count": 25
  },
  {
   "cell_type": "code",
   "id": "1200ef56-56e4-4d54-840d-f7e1da0b64e7",
   "metadata": {
    "ExecuteTime": {
     "end_time": "2025-01-09T14:53:35.460531Z",
     "start_time": "2025-01-09T14:53:35.452270Z"
    }
   },
   "source": [
    "[u for u in lithium.unlinked if u[\"type\"] == \"biosphere\"]"
   ],
   "outputs": [
    {
     "data": {
      "text/plain": [
       "[{'name': 'Lithium, in ground',\n",
       "  'amount': 0.1055414191739782,\n",
       "  'unit': 'kilogram',\n",
       "  'database': 'biosphere3',\n",
       "  'type': 'biosphere',\n",
       "  'categories': ('natural resource', 'in ground'),\n",
       "  'uncertainty type': 5,\n",
       "  'loc': 0.1055414191739782,\n",
       "  'minimum': 0.07387899342178474,\n",
       "  'maximum': 0.13720384492617166},\n",
       " {'name': 'Sodium',\n",
       "  'amount': 0.0005090491869677618,\n",
       "  'unit': 'kilogram',\n",
       "  'database': 'biosphere3',\n",
       "  'type': 'biosphere',\n",
       "  'categories': ('water',)},\n",
       " {'name': 'Particulates, > 2.5 um, and < 10um',\n",
       "  'amount': 0.0001,\n",
       "  'unit': 'kilogram',\n",
       "  'database': 'biosphere3',\n",
       "  'type': 'biosphere',\n",
       "  'categories': ('air',)},\n",
       " {'name': 'Particulates, < 2.5 um',\n",
       "  'amount': 5e-05,\n",
       "  'unit': 'kilogram',\n",
       "  'database': 'biosphere3',\n",
       "  'type': 'biosphere',\n",
       "  'categories': ('air',)}]"
      ]
     },
     "execution_count": 26,
     "metadata": {},
     "output_type": "execute_result"
    }
   ],
   "execution_count": 26
  },
  {
   "cell_type": "markdown",
   "id": "8f3a09c5-8920-4344-8793-8b9ccc190358",
   "metadata": {},
   "source": [
    "3 ways to deal with this \n",
    "1. manually fix this (i.e., modify the exchange name in the Excel file),\n",
    "2. go over imp.data(list), iterate through the exchanges and find Argon-40 and replace it with Argon\n",
    "3. create a migration file for translating ecoinvent 3.9 flows to 3.10"
   ]
  },
  {
   "cell_type": "markdown",
   "id": "d0de0cd2-a144-44cb-b319-23bb01ee1786",
   "metadata": {},
   "source": [
    "### Migration from ei 3.8 to 3.10"
   ]
  },
  {
   "cell_type": "markdown",
   "id": "9d898f73-0a76-4264-832a-69c6be74c144",
   "metadata": {},
   "source": [
    "The data is from ecoinvent 3.8 and we have 3.10. We create a mapping dictionary, and use it to create a `Migration` object."
   ]
  },
  {
   "cell_type": "code",
   "id": "dac5e8d1-3b8c-4464-881c-f25eeeaf6041",
   "metadata": {
    "ExecuteTime": {
     "end_time": "2025-01-09T14:53:40.552795Z",
     "start_time": "2025-01-09T14:53:40.537787Z"
    }
   },
   "source": [
    "migration_38 = {\n",
    "    \"fields\": [\"name\", \"reference product\", \"location\", \"categories\"],\n",
    "    \"data\": [\n",
    "        (\n",
    "            (\"market for neutralising agent, sodium hydroxide-equivalent\", \n",
    "             \"neutralising agent, sodium hydroxide-equivalent\", \n",
    "             \"GLO\"),\n",
    "            {\"location\": \"RER\"}\n",
    "        ),\n",
    "\n",
    "        (\n",
    "            (\"market for soda ash, light, crystalline, heptahydrate\", \n",
    "             \"soda ash, light, crystalline, heptahydrate\", \n",
    "             \"GLO\", \"\"),\n",
    "            {\"name\": \"market for soda ash, light\", \n",
    "             \"reference product\": \"soda ash, light\", \n",
    "             \"location\": \"RER\"}\n",
    "        ),\n",
    "\n",
    "        (\n",
    "            (\"market for sodium hydroxide, without water, in 50% solution state\", \n",
    "             \"sodium hydroxide, without water, in 50% solution state\", \n",
    "             \"GLO\"),\n",
    "            {\"location\": \"RER\"}\n",
    "        ),\n",
    "\n",
    "         (\n",
    "            (\"electricity, high voltage, production mix\", \n",
    "             \"electricity, high voltage\", \n",
    "             \"CN-QH\"),\n",
    "            {\"location\": \"CN-CCG\"}\n",
    "        ), \n",
    "\n",
    "        (\n",
    "            (\"Lithium, in ground\", \"\", \"\", (\"natural resource', 'in ground\",)),\n",
    "            {\n",
    "                \"name\": \"Lithium\",\n",
    "            },\n",
    "        ), \n",
    "\n",
    "        (\n",
    "            (\"Sodium\", \"\", \"\", (\"water\",)),\n",
    "            {\n",
    "                \"name\": \"Sodium I\",\n",
    "            },\n",
    "        ), \n",
    "\n",
    "\n",
    "        (\n",
    "            (\"Particulates, > 2.5 um, and < 10um\", \"\", \"\", (\"air\",)),\n",
    "            {\n",
    "                \"name\": \"Particulate Matter, > 2.5 um, and < 10um\",\n",
    "            },\n",
    "        ), \n",
    "\n",
    "        (\n",
    "            (\"Particulates, < 2.5 um\", \"\", \"\", (\"air\",)),\n",
    "            {\n",
    "                \"name\": \"Particulate Matter, < 2.5 um\",\n",
    "            },\n",
    "        )\n",
    "        \n",
    "    ],\n",
    "}"
   ],
   "outputs": [],
   "execution_count": 27
  },
  {
   "cell_type": "code",
   "id": "d93c0b0e-a694-445b-b53b-6d5dc239bc10",
   "metadata": {
    "ExecuteTime": {
     "end_time": "2025-01-09T14:53:41.654830Z",
     "start_time": "2025-01-09T14:53:41.623350Z"
    }
   },
   "source": [
    "bi.Migration(name=\"ei3.8-3.10\").write(data=migration_38, description=\"ei 3.8 to 3.10\")"
   ],
   "outputs": [],
   "execution_count": 28
  },
  {
   "cell_type": "code",
   "id": "0b852c66-d6b3-45b2-a3d4-e776b4ad82b6",
   "metadata": {
    "ExecuteTime": {
     "end_time": "2025-01-09T14:53:42.244243Z",
     "start_time": "2025-01-09T14:53:42.230523Z"
    }
   },
   "source": [
    "\"ei3.8-3.10\" in bi.migrations"
   ],
   "outputs": [
    {
     "data": {
      "text/plain": [
       "True"
      ]
     },
     "execution_count": 29,
     "metadata": {},
     "output_type": "execute_result"
    }
   ],
   "execution_count": 29
  },
  {
   "cell_type": "code",
   "id": "42f15a95-cba1-40fb-ba21-b61b68fc637c",
   "metadata": {
    "ExecuteTime": {
     "end_time": "2025-01-09T14:53:42.982654Z",
     "start_time": "2025-01-09T14:53:42.968556Z"
    }
   },
   "source": [
    "bi.Migration(\"ei3.8-3.10\")"
   ],
   "outputs": [
    {
     "data": {
      "text/plain": [
       "Brightway2 Migration: ei3.8-3.10"
      ]
     },
     "execution_count": 30,
     "metadata": {},
     "output_type": "execute_result"
    }
   ],
   "execution_count": 30
  },
  {
   "cell_type": "markdown",
   "id": "acfd6439-4e86-438c-a8f6-2f53247058ce",
   "metadata": {},
   "source": [
    "We apply the migration on our imported data."
   ]
  },
  {
   "cell_type": "code",
   "id": "c1bc421a-9ba3-48ad-b4f9-a93a25287dfa",
   "metadata": {
    "ExecuteTime": {
     "end_time": "2025-01-09T14:53:45.066351Z",
     "start_time": "2025-01-09T14:53:45.035098Z"
    }
   },
   "source": [
    "lithium.data = bi.strategies.migrate_exchanges(\n",
    "    db=lithium.data,\n",
    "    migration=\"ei3.8-3.10\"\n",
    ")"
   ],
   "outputs": [],
   "execution_count": 31
  },
  {
   "cell_type": "code",
   "id": "a195db81-f4e4-4b0e-883b-5c29124dbbd0",
   "metadata": {
    "ExecuteTime": {
     "end_time": "2025-01-09T14:53:50.608048Z",
     "start_time": "2025-01-09T14:53:48.391195Z"
    }
   },
   "source": [
    "lithium.match_database(\"ecoinvent-3.10-cutoff\", fields=('name', 'reference product', 'unit', 'location'))\n",
    "lithium.match_database(\"biosphere3\", fields=('name', 'unit', 'categories'))\n",
    "lithium.statistics()"
   ],
   "outputs": [
    {
     "name": "stdout",
     "output_type": "stream",
     "text": [
      "Applying strategy: link_iterable_by_fields\n",
      "Applying strategy: link_iterable_by_fields\n",
      "40 datasets\n",
      "263 exchanges\n",
      "0 unlinked exchanges\n",
      "  \n"
     ]
    },
    {
     "data": {
      "text/plain": [
       "(40, 263, 0)"
      ]
     },
     "execution_count": 32,
     "metadata": {},
     "output_type": "execute_result"
    }
   ],
   "execution_count": 32
  },
  {
   "cell_type": "code",
   "id": "c42e3c51-a997-46cd-9ac9-78c1cd5e6af2",
   "metadata": {
    "ExecuteTime": {
     "end_time": "2025-01-09T14:53:56.186069Z",
     "start_time": "2025-01-09T14:53:55.640866Z"
    }
   },
   "source": [
    "if len(list(lithium.unlinked)) == 0:\n",
    "    lithium.write_database()"
   ],
   "outputs": [
    {
     "name": "stderr",
     "output_type": "stream",
     "text": [
      "Writing activities to SQLite3 database:\n",
      "0% [##############################] 100% | ETA: 00:00:00\n",
      "Total time elapsed: 00:00:00\n"
     ]
    },
    {
     "name": "stdout",
     "output_type": "stream",
     "text": [
      "Title: Writing activities to SQLite3 database:\n",
      "  Started: 01/09/2025 09:53:55\n",
      "  Finished: 01/09/2025 09:53:55\n",
      "  Total time elapsed: 00:00:00\n",
      "  CPU %: 0.00\n",
      "  Memory %: 1.40\n",
      "Created database: lithium\n"
     ]
    }
   ],
   "execution_count": 33
  },
  {
   "cell_type": "code",
   "id": "37408b4e-d8c9-4068-86ee-2da7e002a35c",
   "metadata": {
    "ExecuteTime": {
     "end_time": "2025-01-09T14:53:57.390312Z",
     "start_time": "2025-01-09T14:53:57.374689Z"
    }
   },
   "source": [
    "bd.databases"
   ],
   "outputs": [
    {
     "data": {
      "text/plain": [
       "Databases dictionary with 6 object(s):\n",
       "\tRegioinvent\n",
       "\tbiosphere3\n",
       "\tbiosphere3_spatialized_flows\n",
       "\tecoinvent-3.10-cutoff\n",
       "\tecoinvent-3.10-cutoff regionalized\n",
       "\tlithium"
      ]
     },
     "execution_count": 34,
     "metadata": {},
     "output_type": "execute_result"
    }
   ],
   "execution_count": 34
  },
  {
   "cell_type": "markdown",
   "id": "af9448c6-04ce-47e2-a20a-96b73d14a4a1",
   "metadata": {},
   "source": [
    "## Cobalt"
   ]
  },
  {
   "cell_type": "code",
   "id": "ece255db-198d-440c-84ba-fa20ab3de45d",
   "metadata": {
    "ExecuteTime": {
     "end_time": "2025-01-09T14:55:10.689975Z",
     "start_time": "2025-01-09T14:55:04.527552Z"
    }
   },
   "source": [
    "# LCI from ??\n",
    "cobalt = 'data/LCI/lci-cobalt.xlsx'\n",
    "cobalt = bi.ExcelImporter(cobalt)\n",
    "# Apply the necessary strategies\n",
    "cobalt.apply_strategies()"
   ],
   "outputs": [
    {
     "name": "stdout",
     "output_type": "stream",
     "text": [
      "Extracted 1 worksheets in 0.06 seconds\n",
      "Applying strategy: csv_restore_tuples\n",
      "Applying strategy: csv_restore_booleans\n",
      "Applying strategy: csv_numerize\n",
      "Applying strategy: csv_drop_unknown\n",
      "Applying strategy: csv_add_missing_exchanges_section\n",
      "Applying strategy: normalize_units\n",
      "Applying strategy: normalize_biosphere_categories\n",
      "Applying strategy: normalize_biosphere_names\n",
      "Applying strategy: strip_biosphere_exc_locations\n",
      "Applying strategy: set_code_by_activity_hash\n",
      "Applying strategy: link_iterable_by_fields\n",
      "Applying strategy: assign_only_product_as_production\n",
      "Applying strategy: link_technosphere_by_activity_hash\n",
      "Applying strategy: drop_falsey_uncertainty_fields_but_keep_zeros\n",
      "Applying strategy: convert_uncertainty_types_to_integers\n",
      "Applying strategy: convert_activity_parameters_to_list\n",
      "Applied 16 strategies in 6.08 seconds\n"
     ]
    }
   ],
   "execution_count": 35
  },
  {
   "cell_type": "code",
   "id": "cb3c64bb-645d-4b0d-8bfa-a73279a3b910",
   "metadata": {
    "ExecuteTime": {
     "end_time": "2025-01-09T14:55:12.652046Z",
     "start_time": "2025-01-09T14:55:12.620740Z"
    }
   },
   "source": [
    "# we match based on the name, reference product and location\n",
    "cobalt.match_database(fields=('name', 'reference product', 'unit', 'location')) \n",
    "cobalt.statistics()"
   ],
   "outputs": [
    {
     "name": "stdout",
     "output_type": "stream",
     "text": [
      "Applying strategy: link_iterable_by_fields\n",
      "10 datasets\n",
      "131 exchanges\n",
      "87 unlinked exchanges\n",
      "  Type biosphere: 5 unique unlinked exchanges\n",
      "  Type technosphere: 39 unique unlinked exchanges\n"
     ]
    },
    {
     "data": {
      "text/plain": [
       "(10, 131, 87)"
      ]
     },
     "execution_count": 36,
     "metadata": {},
     "output_type": "execute_result"
    }
   ],
   "execution_count": 36
  },
  {
   "cell_type": "code",
   "id": "10b65905-a000-4b4f-b20c-9426c5e7adca",
   "metadata": {
    "ExecuteTime": {
     "end_time": "2025-01-09T14:55:16.268594Z",
     "start_time": "2025-01-09T14:55:13.537960Z"
    }
   },
   "source": [
    "# Let's try to link them with EI\n",
    "cobalt.match_database(\"ecoinvent-3.10-cutoff\", fields=('name', 'reference product', 'unit', 'location'))\n",
    "cobalt.match_database(\"biosphere3\", fields=('name', 'unit', 'categories'))\n",
    "cobalt.statistics()"
   ],
   "outputs": [
    {
     "name": "stdout",
     "output_type": "stream",
     "text": [
      "Applying strategy: link_iterable_by_fields\n",
      "Applying strategy: link_iterable_by_fields\n",
      "10 datasets\n",
      "131 exchanges\n",
      "16 unlinked exchanges\n",
      "  Type biosphere: 5 unique unlinked exchanges\n",
      "  Type technosphere: 1 unique unlinked exchanges\n"
     ]
    },
    {
     "data": {
      "text/plain": [
       "(10, 131, 16)"
      ]
     },
     "execution_count": 37,
     "metadata": {},
     "output_type": "execute_result"
    }
   ],
   "execution_count": 37
  },
  {
   "cell_type": "code",
   "id": "5ff82982-ce38-42a0-bfc3-946eb7df7085",
   "metadata": {
    "ExecuteTime": {
     "end_time": "2025-01-09T14:55:16.348158Z",
     "start_time": "2025-01-09T14:55:16.339253Z"
    }
   },
   "source": [
    "[u for u in cobalt.unlinked if u[\"type\"] == \"technosphere\"]"
   ],
   "outputs": [
    {
     "data": {
      "text/plain": [
       "[{'name': 'market for sodium hydroxide, without water, in 50% solution state',\n",
       "  'amount': 0.442985917833257,\n",
       "  'unit': 'kilogram',\n",
       "  'location': 'GLO',\n",
       "  'type': 'technosphere',\n",
       "  'reference product': 'sodium hydroxide, without water, in 50% solution state'}]"
      ]
     },
     "execution_count": 38,
     "metadata": {},
     "output_type": "execute_result"
    }
   ],
   "execution_count": 38
  },
  {
   "cell_type": "code",
   "id": "899a58c4-d17d-40ae-85c8-16f17e9900a4",
   "metadata": {
    "ExecuteTime": {
     "end_time": "2025-01-09T14:55:16.474728Z",
     "start_time": "2025-01-09T14:55:16.443131Z"
    }
   },
   "source": [
    "[u for u in cobalt.unlinked if u[\"type\"] == \"biosphere\"]"
   ],
   "outputs": [
    {
     "data": {
      "text/plain": [
       "[{'name': 'Sodium',\n",
       "  'amount': 0.00134036749331893,\n",
       "  'unit': 'kilogram',\n",
       "  'categories': ('water',),\n",
       "  'type': 'biosphere'},\n",
       " {'name': 'Cobalt, in ground',\n",
       "  'amount': 0.0047,\n",
       "  'unit': 'kilogram',\n",
       "  'categories': ('natural resource', 'in ground'),\n",
       "  'type': 'biosphere'},\n",
       " {'name': 'Copper, in ground',\n",
       "  'amount': 0.024,\n",
       "  'unit': 'kilogram',\n",
       "  'categories': ('natural resource', 'in ground'),\n",
       "  'type': 'biosphere'},\n",
       " {'name': 'Particulates, > 2.5 um, and < 10um',\n",
       "  'amount': 0.0008628824000000001,\n",
       "  'unit': 'kilogram',\n",
       "  'categories': ('air',),\n",
       "  'type': 'biosphere'},\n",
       " {'name': 'Particulates, < 2.5 um',\n",
       "  'amount': 8.906030000000001e-05,\n",
       "  'unit': 'kilogram',\n",
       "  'categories': ('air',),\n",
       "  'type': 'biosphere'}]"
      ]
     },
     "execution_count": 39,
     "metadata": {},
     "output_type": "execute_result"
    }
   ],
   "execution_count": 39
  },
  {
   "cell_type": "markdown",
   "id": "d097ab5b-52a5-472a-b55b-3117656368fd",
   "metadata": {},
   "source": [
    "### Migration from ei ? to 3.10"
   ]
  },
  {
   "cell_type": "code",
   "id": "65ff3f7b-b164-4ca0-96d3-e807eb03afd4",
   "metadata": {
    "ExecuteTime": {
     "end_time": "2025-01-09T14:55:21.174082Z",
     "start_time": "2025-01-09T14:55:21.158453Z"
    }
   },
   "source": [
    "migration_3 = {\n",
    "    \"fields\": [\"name\", \"reference product\", \"location\", \"categories\"],\n",
    "    \"data\": [\n",
    "        (\n",
    "            (\"market for sodium hydroxide, without water, in 50% solution state\", \n",
    "             \"sodium hydroxide, without water, in 50% solution state\", \n",
    "             \"GLO\"),\n",
    "            {\"location\": \"RER\"}\n",
    "        ),\n",
    "\n",
    "        (\n",
    "            (\"Sodium\", \"\", \"\", (\"water\",)),\n",
    "            {\n",
    "                \"name\": \"Sodium I\",\n",
    "            },\n",
    "        ), \n",
    "\n",
    "        (\n",
    "            (\"Cobalt, in ground\", \"\", \"\", (\"'natural resource', 'in ground'\",)),\n",
    "            {\n",
    "                \"name\": \"Cobalt\",\n",
    "            },\n",
    "        ), \n",
    "\n",
    "        (\n",
    "            (\"Copper, in ground\", \"\", \"\", (\"'natural resource', 'in ground'\",)),\n",
    "            {\n",
    "                \"name\": \"Copper\",\n",
    "            },\n",
    "        ), \n",
    "\n",
    "        (\n",
    "            (\"Particulates, > 2.5 um, and < 10um\", \"\", \"\", (\"air\",)),\n",
    "            {\n",
    "                \"name\": \"Particulate Matter, > 2.5 um, and < 10um\",\n",
    "            },\n",
    "        ), \n",
    "\n",
    "        (\n",
    "            (\"Particulates, < 2.5 um\", \"\", \"\", (\"air\",)),\n",
    "            {\n",
    "                \"name\": \"Particulate Matter, < 2.5 um\",\n",
    "            },\n",
    "        )\n",
    "        \n",
    "    ],\n",
    "}"
   ],
   "outputs": [],
   "execution_count": 40
  },
  {
   "cell_type": "code",
   "id": "565094c6-cc57-45da-be86-b0b366b41e42",
   "metadata": {
    "ExecuteTime": {
     "end_time": "2025-01-09T14:55:23.756756Z",
     "start_time": "2025-01-09T14:55:23.741603Z"
    }
   },
   "source": [
    "bi.Migration(name=\"ei3.?-3.10\").write(data=migration_3, description=\"ei 3.? to 3.10\")"
   ],
   "outputs": [],
   "execution_count": 41
  },
  {
   "cell_type": "code",
   "id": "b2790c79-6ac1-4f75-9ae3-7eefa1da2b2b",
   "metadata": {
    "ExecuteTime": {
     "end_time": "2025-01-09T14:55:25.087887Z",
     "start_time": "2025-01-09T14:55:25.056370Z"
    }
   },
   "source": [
    "cobalt.data = bi.strategies.migrate_exchanges(\n",
    "    db=cobalt.data,\n",
    "    migration=\"ei3.?-3.10\"\n",
    ")"
   ],
   "outputs": [],
   "execution_count": 42
  },
  {
   "cell_type": "code",
   "id": "1b0c0658-dde0-4313-a777-47cbfde1c362",
   "metadata": {
    "ExecuteTime": {
     "end_time": "2025-01-09T14:55:31.651792Z",
     "start_time": "2025-01-09T14:55:29.435375Z"
    }
   },
   "source": [
    "cobalt.match_database(\"ecoinvent-3.10-cutoff\", fields=('name', 'reference product', 'unit', 'location'))\n",
    "cobalt.match_database(\"biosphere3\", fields=('name', 'unit', 'categories'))\n",
    "cobalt.statistics()"
   ],
   "outputs": [
    {
     "name": "stdout",
     "output_type": "stream",
     "text": [
      "Applying strategy: link_iterable_by_fields\n",
      "Applying strategy: link_iterable_by_fields\n",
      "10 datasets\n",
      "131 exchanges\n",
      "0 unlinked exchanges\n",
      "  \n"
     ]
    },
    {
     "data": {
      "text/plain": [
       "(10, 131, 0)"
      ]
     },
     "execution_count": 43,
     "metadata": {},
     "output_type": "execute_result"
    }
   ],
   "execution_count": 43
  },
  {
   "cell_type": "code",
   "id": "1aebb8dd-5a42-4026-ba9a-60ef22f5f77e",
   "metadata": {
    "ExecuteTime": {
     "end_time": "2025-01-09T14:55:32.886065Z",
     "start_time": "2025-01-09T14:55:32.441958Z"
    }
   },
   "source": [
    "if len(list(cobalt.unlinked)) == 0:\n",
    "    cobalt.write_database()"
   ],
   "outputs": [
    {
     "name": "stderr",
     "output_type": "stream",
     "text": [
      "Writing activities to SQLite3 database:\n",
      "0% [##########] 100% | ETA: 00:00:00\n",
      "Total time elapsed: 00:00:00\n"
     ]
    },
    {
     "name": "stdout",
     "output_type": "stream",
     "text": [
      "Title: Writing activities to SQLite3 database:\n",
      "  Started: 01/09/2025 09:55:32\n",
      "  Finished: 01/09/2025 09:55:32\n",
      "  Total time elapsed: 00:00:00\n",
      "  CPU %: 0.00\n",
      "  Memory %: 1.47\n",
      "Created database: cobalt\n"
     ]
    }
   ],
   "execution_count": 44
  },
  {
   "cell_type": "markdown",
   "id": "1a1044f6-d928-4f9c-b8bf-b2e6ed21e767",
   "metadata": {},
   "source": [
    "## Graphite "
   ]
  },
  {
   "cell_type": "code",
   "id": "d04d8540-fc7f-4d80-8107-ab35ac2eedc5",
   "metadata": {
    "ExecuteTime": {
     "end_time": "2025-01-09T14:55:50.775961Z",
     "start_time": "2025-01-09T14:55:43.881913Z"
    }
   },
   "source": [
    "# LCI from multiple sources\n",
    "graphite = 'data/LCI/lci-graphite.xlsx'\n",
    "graphite = bi.ExcelImporter(graphite)\n",
    "graphite.apply_strategies()"
   ],
   "outputs": [
    {
     "name": "stdout",
     "output_type": "stream",
     "text": [
      "Extracted 1 worksheets in 0.03 seconds\n",
      "Applying strategy: csv_restore_tuples\n",
      "Applying strategy: csv_restore_booleans\n",
      "Applying strategy: csv_numerize\n",
      "Applying strategy: csv_drop_unknown\n",
      "Applying strategy: csv_add_missing_exchanges_section\n",
      "Applying strategy: normalize_units\n",
      "Applying strategy: normalize_biosphere_categories\n",
      "Applying strategy: normalize_biosphere_names\n",
      "Applying strategy: strip_biosphere_exc_locations\n",
      "Applying strategy: set_code_by_activity_hash\n",
      "Applying strategy: link_iterable_by_fields\n",
      "Applying strategy: assign_only_product_as_production\n",
      "Applying strategy: link_technosphere_by_activity_hash\n",
      "Applying strategy: drop_falsey_uncertainty_fields_but_keep_zeros\n",
      "Applying strategy: convert_uncertainty_types_to_integers\n",
      "Applying strategy: convert_activity_parameters_to_list\n",
      "Applied 16 strategies in 6.85 seconds\n"
     ]
    }
   ],
   "execution_count": 45
  },
  {
   "cell_type": "code",
   "id": "c1b52a3b-9b2f-4244-b169-3dfcaf66f81c",
   "metadata": {
    "ExecuteTime": {
     "end_time": "2025-01-09T14:55:50.807210Z",
     "start_time": "2025-01-09T14:55:50.775961Z"
    }
   },
   "source": [
    "graphite.match_database(fields=('name', 'reference product', 'unit', 'location')) \n",
    "graphite.statistics()"
   ],
   "outputs": [
    {
     "name": "stdout",
     "output_type": "stream",
     "text": [
      "Applying strategy: link_iterable_by_fields\n",
      "11 datasets\n",
      "84 exchanges\n",
      "44 unlinked exchanges\n",
      "  Type biosphere: 2 unique unlinked exchanges\n",
      "  Type technosphere: 21 unique unlinked exchanges\n"
     ]
    },
    {
     "data": {
      "text/plain": [
       "(11, 84, 44)"
      ]
     },
     "execution_count": 46,
     "metadata": {},
     "output_type": "execute_result"
    }
   ],
   "execution_count": 46
  },
  {
   "cell_type": "code",
   "id": "1fa54988-b75f-4503-851d-88c3a02f1b65",
   "metadata": {
    "ExecuteTime": {
     "end_time": "2025-01-09T14:55:53.044310Z",
     "start_time": "2025-01-09T14:55:50.983068Z"
    }
   },
   "source": [
    "# Let's try to link them with EI\n",
    "graphite.match_database(\"ecoinvent-3.10-cutoff\", fields=('name', 'reference product', 'unit', 'location'))\n",
    "graphite.match_database(\"biosphere3\", fields=('name', 'unit', 'categories'))\n",
    "graphite.statistics()"
   ],
   "outputs": [
    {
     "name": "stdout",
     "output_type": "stream",
     "text": [
      "Applying strategy: link_iterable_by_fields\n",
      "Applying strategy: link_iterable_by_fields\n",
      "11 datasets\n",
      "84 exchanges\n",
      "3 unlinked exchanges\n",
      "  Type biosphere: 2 unique unlinked exchanges\n",
      "  Type technosphere: 1 unique unlinked exchanges\n"
     ]
    },
    {
     "data": {
      "text/plain": [
       "(11, 84, 3)"
      ]
     },
     "execution_count": 47,
     "metadata": {},
     "output_type": "execute_result"
    }
   ],
   "execution_count": 47
  },
  {
   "cell_type": "code",
   "id": "b7c8ca15-3651-4298-9bc4-b4eb24518cc6",
   "metadata": {
    "ExecuteTime": {
     "end_time": "2025-01-09T14:55:53.076295Z",
     "start_time": "2025-01-09T14:55:53.060366Z"
    }
   },
   "source": [
    "[u for u in graphite.unlinked if u[\"type\"] == \"technosphere\"]"
   ],
   "outputs": [
    {
     "data": {
      "text/plain": [
       "[{'name': 'coking',\n",
       "  'amount': 169.75,\n",
       "  'unit': 'megajoule',\n",
       "  'location': 'RoW',\n",
       "  'type': 'technosphere',\n",
       "  'reference product': 'coal gas'}]"
      ]
     },
     "execution_count": 48,
     "metadata": {},
     "output_type": "execute_result"
    }
   ],
   "execution_count": 48
  },
  {
   "cell_type": "code",
   "id": "798cfb8d-1534-40cb-9ad9-05b2d26b9e21",
   "metadata": {
    "ExecuteTime": {
     "end_time": "2025-01-09T14:55:53.123304Z",
     "start_time": "2025-01-09T14:55:53.091958Z"
    }
   },
   "source": [
    "[u for u in graphite.unlinked if u[\"type\"] == \"biosphere\"]"
   ],
   "outputs": [
    {
     "data": {
      "text/plain": [
       "[{'name': 'Particulates, > 10 um',\n",
       "  'amount': 0.005,\n",
       "  'unit': 'kilogram',\n",
       "  'categories': ('air',),\n",
       "  'type': 'biosphere',\n",
       "  'comment': 'Originally, it says \"Graphite dust\"'},\n",
       " {'name': 'Oil, crude, in ground',\n",
       "  'amount': 1,\n",
       "  'unit': 'kilogram',\n",
       "  'categories': ('natural resource', 'in ground'),\n",
       "  'type': 'biosphere'}]"
      ]
     },
     "execution_count": 49,
     "metadata": {},
     "output_type": "execute_result"
    }
   ],
   "execution_count": 49
  },
  {
   "cell_type": "markdown",
   "id": "1f208742-a972-4af3-be9b-44211ab7394b",
   "metadata": {},
   "source": [
    "## Migration from ei 3.? to 3.10"
   ]
  },
  {
   "cell_type": "code",
   "id": "1d94cbc2-d7d1-4d13-9a1b-47f2af0a7153",
   "metadata": {
    "ExecuteTime": {
     "end_time": "2025-01-09T14:55:53.186624Z",
     "start_time": "2025-01-09T14:55:53.155269Z"
    }
   },
   "source": [
    "migration_graphite = {\n",
    "    \"fields\": [\"name\", \"reference product\", \"location\", \"categories\"],\n",
    "    \"data\": [\n",
    "        (\n",
    "            (\"coking\", \n",
    "             \"coal gas\", \n",
    "             \"ROW\"),\n",
    "            {\"name\": \"coke production\"}\n",
    "        ),\n",
    "        (\n",
    "            (\"Particulates, > 10 um\", \"\", \"\", (\"air\",)),\n",
    "            {\n",
    "                \"name\": \"Particulate Matter, > 10 um\",\n",
    "            },\n",
    "        ),\n",
    "\n",
    "        (\n",
    "            (\"Oil, crude, in ground\", \"\", \"\", (\"'natural resource', 'in ground'\",)),\n",
    "            {\n",
    "                \"name\": \"Oil, crude\",\n",
    "            },\n",
    "        ), \n",
    "        \n",
    "    ],\n",
    "}"
   ],
   "outputs": [],
   "execution_count": 50
  },
  {
   "cell_type": "code",
   "id": "21ff41f7-859e-4e44-b4ee-c92c07db6521",
   "metadata": {
    "ExecuteTime": {
     "end_time": "2025-01-09T14:55:55.422737Z",
     "start_time": "2025-01-09T14:55:55.391228Z"
    }
   },
   "source": [
    "bi.Migration(name=\"graphite\").write(data=migration_graphite, description=\"graphite\")"
   ],
   "outputs": [],
   "execution_count": 51
  },
  {
   "cell_type": "code",
   "id": "a0c00687-35ab-48d5-9a62-f78bc494ac98",
   "metadata": {
    "ExecuteTime": {
     "end_time": "2025-01-09T14:55:56.919215Z",
     "start_time": "2025-01-09T14:55:56.888656Z"
    }
   },
   "source": [
    "graphite.data = bi.strategies.migrate_exchanges(\n",
    "    db=graphite.data,\n",
    "    migration=\"graphite\"\n",
    ")"
   ],
   "outputs": [],
   "execution_count": 52
  },
  {
   "cell_type": "code",
   "id": "4389a4b0-1aab-44a1-8d16-89cea294d917",
   "metadata": {
    "ExecuteTime": {
     "end_time": "2025-01-09T14:56:00.136777Z",
     "start_time": "2025-01-09T14:55:57.855345Z"
    }
   },
   "source": [
    "graphite.match_database(\"ecoinvent-3.10-cutoff\", fields=('name', 'reference product', 'unit', 'location'))\n",
    "graphite.match_database(\"biosphere3\", fields=('name', 'unit', 'categories'))\n",
    "graphite.statistics()"
   ],
   "outputs": [
    {
     "name": "stdout",
     "output_type": "stream",
     "text": [
      "Applying strategy: link_iterable_by_fields\n",
      "Applying strategy: link_iterable_by_fields\n",
      "11 datasets\n",
      "84 exchanges\n",
      "0 unlinked exchanges\n",
      "  \n"
     ]
    },
    {
     "data": {
      "text/plain": [
       "(11, 84, 0)"
      ]
     },
     "execution_count": 53,
     "metadata": {},
     "output_type": "execute_result"
    }
   ],
   "execution_count": 53
  },
  {
   "cell_type": "code",
   "id": "2fbf9673-71c6-495d-b853-eed8f6093354",
   "metadata": {
    "ExecuteTime": {
     "end_time": "2025-01-09T14:56:00.857885Z",
     "start_time": "2025-01-09T14:56:00.242166Z"
    }
   },
   "source": [
    "if len(list(graphite.unlinked)) == 0:\n",
    "    graphite.write_database()"
   ],
   "outputs": [
    {
     "name": "stderr",
     "output_type": "stream",
     "text": [
      "Writing activities to SQLite3 database:\n",
      "0% [###########] 100% | ETA: 00:00:00\n",
      "Total time elapsed: 00:00:00\n"
     ]
    },
    {
     "name": "stdout",
     "output_type": "stream",
     "text": [
      "Title: Writing activities to SQLite3 database:\n",
      "  Started: 01/09/2025 09:56:00\n",
      "  Finished: 01/09/2025 09:56:00\n",
      "  Total time elapsed: 00:00:00\n",
      "  CPU %: 0.00\n",
      "  Memory %: 1.51\n",
      "Created database: graphite\n"
     ]
    }
   ],
   "execution_count": 54
  }
 ],
 "metadata": {
  "kernelspec": {
   "display_name": "Python 3 (ipykernel)",
   "language": "python",
   "name": "python3"
  },
  "language_info": {
   "codemirror_mode": {
    "name": "ipython",
    "version": 3
   },
   "file_extension": ".py",
   "mimetype": "text/x-python",
   "name": "python",
   "nbconvert_exporter": "python",
   "pygments_lexer": "ipython3",
   "version": "3.10.15"
  }
 },
 "nbformat": 4,
 "nbformat_minor": 5
}
