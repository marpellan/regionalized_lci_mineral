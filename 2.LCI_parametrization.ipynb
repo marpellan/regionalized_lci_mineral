{
 "cells": [
  {
   "cell_type": "code",
   "id": "initial_id",
   "metadata": {
    "collapsed": true
   },
   "source": [
    "# Brightway imports\n",
    "import bw2analyzer as ba\n",
    "import bw2calc as bc\n",
    "import bw2data as bd\n",
    "import bw2io as bi\n",
    "import brightway2 as bw\n",
    "from bw2data import parameters\n",
    "from sympy.physics.units import years\n",
    "from sympy.stats.crv_types import LogNormalDistribution\n",
    "from sympy import init_printing\n",
    "import lca_algebraic as agb\n",
    "from dotenv import load_dotenv\n",
    "\n",
    "# Custom utils defined for the parameterization\n",
    "from lca_algebraic import *\n",
    "from lca_algebraic.stats import *\n",
    "\n",
    "# Pretty print for Sympy\n",
    "init_printing()"
   ],
   "outputs": [],
   "execution_count": null
  },
  {
   "metadata": {},
   "cell_type": "code",
   "source": [
    "import pandas as pd\n",
    "import numpy as np\n",
    "import matplotlib.pyplot as plt\n",
    "import seaborn as sns\n",
    "from scipy.stats import norm, lognorm, expon, beta, uniform, triang, kstest"
   ],
   "id": "e6c3ad7bb6895a47",
   "outputs": [],
   "execution_count": null
  },
  {
   "metadata": {},
   "cell_type": "code",
   "source": [
    "BW_PROJECT = 'lca-alg-2' # insert your project name here\n",
    "bd.projects.set_current(BW_PROJECT)\n",
    "\n",
    "EI_DB = 'ecoinvent-3.9.1-cutoff' # name of ecoinvent database in your project\n",
    "# We use a separate DB for defining our foreground model / activities\n",
    "USER_DB = \"MyForeground\""
   ],
   "id": "3a63a1ecc7f25302",
   "outputs": [],
   "execution_count": null
  },
  {
   "metadata": {},
   "cell_type": "code",
   "source": [
    "# This is better to cleanup the whole foreground model each time, and redefine it in the notebook (or a python file)\n",
    "# instead of relying on a state or previous run.\n",
    "# Any persistent state is prone to errors.\n",
    "agb.resetDb(USER_DB)\n",
    "\n",
    "# Parameters are stored at project level : \n",
    "# Reset them also\n",
    "# You may remove this line if you import a project and parameters from an external source (see loadParam(..))\n",
    "agb.resetParams()\n",
    "\n",
    "# Overview of the databases\n",
    "agb.list_databases()"
   ],
   "id": "25665a2f9ecbcfdf",
   "outputs": [],
   "execution_count": null
  },
  {
   "metadata": {},
   "cell_type": "markdown",
   "source": [
    "# Initial data exploration\n",
    "## Ore grade"
   ],
   "id": "3a4a9a4003875335"
  },
  {
   "metadata": {},
   "cell_type": "markdown",
   "source": "### Load an plot distributions",
   "id": "f71243a2f02fe1da"
  },
  {
   "metadata": {},
   "cell_type": "code",
   "source": [
    "df_nickel = pd.read_excel(r'data/data_metals_pellan.xlsx', sheet_name='Mudd2014_ni')\n",
    "df_copper = pd.read_excel(r'data/data_metals_pellan.xlsx', sheet_name='Mudd2018_cop')"
   ],
   "id": "84449b687fc65f06",
   "outputs": [],
   "execution_count": null
  },
  {
   "metadata": {},
   "cell_type": "code",
   "source": [
    "def plot_grade_statistics(df, grade_column, mineral, country=None):\n",
    "    \"\"\"\n",
    "    Plots two subplots: (1) a histogram of ore grade data and (2) a KDE distribution with key statistics\n",
    "    for a specific mineral. Returns a summary DataFrame with mean, min, max, and standard deviation.\n",
    "\n",
    "    Parameters:\n",
    "    - df (pd.DataFrame): The dataset containing ore grade data.\n",
    "    - grade_column (str): The column name for ore grade values.\n",
    "    - mineral (str): The mineral name (e.g., \"Nickel\" or \"Copper\").\n",
    "    - country (str, optional): Specific country to filter the data by. Defaults to \"All\" if None.\n",
    "\n",
    "    Returns:\n",
    "    - pd.DataFrame: Summary of statistics including Mean, Min, Max, and Std Dev for the selected grade column.\n",
    "    \"\"\"\n",
    "    # Filter by country if specified\n",
    "    if country:\n",
    "        df = df[df['Country'] == country]\n",
    "    else:\n",
    "        country = \"All\"  # Set country to \"All\" if no specific country is provided\n",
    "    \n",
    "    # Calculate statistics\n",
    "    mean_val = df[grade_column].mean()\n",
    "    min_val = df[grade_column].min()\n",
    "    max_val = df[grade_column].max()\n",
    "    std_dev = df[grade_column].std()\n",
    "\n",
    "    # Set up subplots\n",
    "    fig, axes = plt.subplots(1, 2, figsize=(15, 6), gridspec_kw={'width_ratios': [1, 1.2]})\n",
    "\n",
    "    # Plot histogram on the first subplot\n",
    "    sns.histplot(df[grade_column], kde=False, color='lightgrey', bins=15, stat='count', ax=axes[0])\n",
    "    axes[0].set_title(f'{mineral} - {grade_column} Histogram' + (f' for {country}' if country else ''))\n",
    "    axes[0].set_xlabel(grade_column)\n",
    "    axes[0].set_ylabel('Count')\n",
    "\n",
    "    # Plot KDE on the second subplot with key statistics\n",
    "    sns.kdeplot(df[grade_column], fill=True, color='skyblue', ax=axes[1], label=\"KDE\", linewidth=2, clip=(min_val, max_val))\n",
    "    axes[1].axvline(mean_val, color='green', linestyle='--', label=f'Mean: {mean_val:.4f}')\n",
    "    axes[1].axvline(min_val, color='blue', linestyle='--', label=f'Min: {min_val:.4f}')\n",
    "    axes[1].axvline(max_val, color='red', linestyle='--', label=f'Max: {max_val:.4f}')\n",
    "    axes[1].axvline(mean_val + std_dev, color='purple', linestyle=':', label=f'Mean + Std Dev: {(mean_val + std_dev):.4f}')\n",
    "    axes[1].axvline(mean_val - std_dev, color='purple', linestyle=':', label=f'Mean - Std Dev: {(mean_val - std_dev):.4f}')\n",
    "    axes[1].set_title(f'{mineral} - {grade_column} KDE Distribution' + (f' for {country}' if country else ''))\n",
    "    axes[1].set_xlabel(grade_column)\n",
    "    axes[1].set_ylabel('Density')\n",
    "    axes[1].legend()\n",
    "\n",
    "    plt.tight_layout()\n",
    "    plt.show()\n",
    "    \n",
    "    # Return summary statistics in a DataFrame\n",
    "    summary_df = pd.DataFrame({\n",
    "        'Mineral': [mineral],\n",
    "        'Grade Column': [grade_column],\n",
    "        'Country': [country],\n",
    "        'Mean': [mean_val],\n",
    "        'Min': [min_val],\n",
    "        'Max': [max_val],\n",
    "        'Std Dev': [std_dev]\n",
    "    })\n",
    "    \n",
    "    return summary_df"
   ],
   "id": "7e9c67fe74498f62",
   "outputs": [],
   "execution_count": null
  },
  {
   "metadata": {},
   "cell_type": "code",
   "source": [
    "# Using the function for Nickel and Copper grades for all regions and Canada\n",
    "nickel_resv = plot_grade_statistics(df_nickel, 'Grade ResV', 'Nickel')\n",
    "copper_resv = plot_grade_statistics(df_copper, 'Grade ResV', 'Copper')\n",
    "nickel_resv_can = plot_grade_statistics(df_nickel, 'Grade ResV', 'Nickel', country='Canada')\n",
    "copper_resv_can = plot_grade_statistics(df_copper, 'Grade ResV', 'Copper', country='Canada')\n",
    "\n",
    "# Concatenate dfs\n",
    "og_stat = pd.concat([nickel_resv, copper_resv, nickel_resv_can,copper_resv_can ], ignore_index=True)\n",
    "\n",
    "# Display the concatenated summary DataFrame\n",
    "og_stat\n"
   ],
   "id": "fb2b1ed793c8e044",
   "outputs": [],
   "execution_count": null
  },
  {
   "metadata": {},
   "cell_type": "code",
   "source": [
    "# Storing each row in a dictionary for easy retrieval by mineral and region\n",
    "ore_grade_stats = {}\n",
    "for _, row in og_stat.iterrows():\n",
    "    mineral = row['Mineral']\n",
    "    region = row['Country']\n",
    "    \n",
    "    # Initialize dictionary for each mineral if not already present\n",
    "    if mineral not in ore_grade_stats:\n",
    "        ore_grade_stats[mineral] = {}\n",
    "    \n",
    "    # Store values for each region under the mineral key\n",
    "    ore_grade_stats[mineral][region] = {\n",
    "        'Mean': row['Mean'],\n",
    "        'Min': row['Min'],\n",
    "        'Max': row['Max'],\n",
    "        'Std Dev': row['Std Dev']\n",
    "    }"
   ],
   "id": "ee6428a401107421",
   "outputs": [],
   "execution_count": null
  },
  {
   "metadata": {},
   "cell_type": "code",
   "source": [
    "# Example usage to access values:\n",
    "nickel_stats = ore_grade_stats['Nickel']['All']\n",
    "nickel_stats"
   ],
   "id": "442a00acc424dfe4",
   "outputs": [],
   "execution_count": null
  },
  {
   "metadata": {},
   "cell_type": "code",
   "source": [
    "ni_mean = 0.934864\n",
    "ni_min = 0.015\n",
    "ni_max = 3.99003\n",
    "ni_std = 0.842238\n",
    "\n",
    "cu_mean = 0.834055\n",
    "cu_min = 0.004\n",
    "cu_max = 7.92\n",
    "cu_std = 0.907797"
   ],
   "id": "ae3283447d813d46",
   "outputs": [],
   "execution_count": null
  },
  {
   "metadata": {},
   "cell_type": "code",
   "source": [
    "ni_can_mean = 1.3424\n",
    "ni_can_min = 0.0687193\n",
    "ni_can_max = 2.78839\n",
    "ni_can_std = 0.818872\n",
    "\n",
    "cu_can_mean = 0.948472\n",
    "cu_can_min = 0.03\n",
    "cu_can_max = 7.92\n",
    "cu_can_std = 1.31636"
   ],
   "id": "ab50becdeed8371e",
   "outputs": [],
   "execution_count": null
  },
  {
   "metadata": {},
   "cell_type": "markdown",
   "source": "### Choice of distributions",
   "id": "6c139a4f81889d7e"
  },
  {
   "metadata": {},
   "cell_type": "markdown",
   "source": [
    "lca_algebraic supports seven distribution types: \n",
    "- Fixed \n",
    "- Uniform \n",
    "- Triangle\n",
    "- Normal\n",
    "- Log-normal\n",
    "- Beta\n",
    "- Statistic weight"
   ],
   "id": "6bfcc82ac635cac3"
  },
  {
   "metadata": {},
   "cell_type": "code",
   "source": [
    "def plot_distribution_fits(df, grade_column, mineral, country=None):\n",
    "    \"\"\"\n",
    "    Plots KDE with overlays of different distribution fits to visually assess best fit.\n",
    "    \n",
    "    Parameters:\n",
    "    - df (pd.DataFrame): The dataset containing ore grade data.\n",
    "    - grade_column (str): The column name for ore grade values.\n",
    "    - mineral (str): The mineral name (e.g., \"Nickel\" or \"Copper\").\n",
    "    - country (str, optional): Specific country to filter the data by.\n",
    "    \n",
    "    Returns:\n",
    "    - None, shows the plot.\n",
    "    \"\"\"\n",
    "    # Filter data by country if specified\n",
    "    if country:\n",
    "        df = df[df['Country'] == country]\n",
    "    \n",
    "    data = df[grade_column].dropna()\n",
    "    mean_val, std_dev = data.mean(), data.std()\n",
    "    min_val, max_val = data.min(), data.max()\n",
    "    x_values = np.linspace(min_val, max_val, 100)\n",
    "\n",
    "    # Plot KDE, restricted to valid range using clip\n",
    "    plt.figure(figsize=(10, 6))\n",
    "    sns.kdeplot(data, fill=True, color='skyblue', label=\"KDE\", linewidth=2, clip=(min_val, max_val))\n",
    "\n",
    "    # Overlay normal distribution\n",
    "    norm_pdf = norm.pdf(x_values, mean_val, std_dev)\n",
    "    plt.plot(x_values, norm_pdf, 'green', linestyle='--', label=\"Normal\")\n",
    "\n",
    "    # Overlay log-normal distribution\n",
    "    if mean_val > 0 and std_dev > 0:  # Ensure positive values for log-normal\n",
    "        shape, loc, scale = lognorm.fit(data, floc=0)\n",
    "        lognorm_pdf = lognorm.pdf(x_values, shape, loc=loc, scale=scale)\n",
    "        plt.plot(x_values, lognorm_pdf, 'orange', linestyle='--', label=\"Log-normal\")\n",
    "\n",
    "    # Overlay uniform distribution\n",
    "    uniform_pdf = uniform.pdf(x_values, loc=min_val, scale=(max_val - min_val))\n",
    "    plt.plot(x_values, uniform_pdf, 'purple', linestyle='--', label=\"Uniform\")\n",
    "\n",
    "    # Overlay triangular distribution\n",
    "    c = (mean_val - min_val) / (max_val - min_val) if max_val != min_val else 0.5\n",
    "    triang_pdf = triang.pdf(x_values, c, loc=min_val, scale=(max_val - min_val))\n",
    "    plt.plot(x_values, triang_pdf, 'blue', linestyle='--', label=\"Triangular\")\n",
    "\n",
    "    # Overlay beta distribution\n",
    "    try:\n",
    "        a, b, loc, scale = beta.fit(data, floc=min_val, fscale=(max_val - min_val))\n",
    "        beta_pdf = beta.pdf(x_values, a, b, loc=loc, scale=scale)\n",
    "        plt.plot(x_values, beta_pdf, 'red', linestyle='--', label=\"Beta\")\n",
    "    except ValueError:\n",
    "        print(\"Beta distribution fitting failed due to data range constraints.\")\n",
    "\n",
    "    # Titles and labels\n",
    "    plt.title(f'{mineral} - {grade_column} KDE with Distribution Fits' + (f' for {country}' if country else ''))\n",
    "    plt.xlabel(grade_column)\n",
    "    plt.ylabel('Density')\n",
    "    plt.legend()\n",
    "    plt.show()\n",
    "\n"
   ],
   "id": "acef4f715ef436e5",
   "outputs": [],
   "execution_count": null
  },
  {
   "metadata": {},
   "cell_type": "code",
   "source": [
    "plot_distribution_fits(df_nickel, 'Grade ResV', 'Nickel')\n",
    "plot_distribution_fits(df_copper, 'Grade ResV', 'Copper')\n",
    "plot_distribution_fits(df_nickel, 'Grade ResV', 'Nickel', country='Canada')\n",
    "plot_distribution_fits(df_copper, 'Grade ResV', 'Copper', country='Canada')\n"
   ],
   "id": "59511447688336d1",
   "outputs": [],
   "execution_count": null
  },
  {
   "metadata": {},
   "cell_type": "code",
   "source": [
    "# Adjust the function to skip beta fitting if data does not meet the requirement\n",
    "def fit_and_test_distributions(df, grade_column, country=None, mineral=None):\n",
    "    \"\"\"\n",
    "    Fits multiple theoretical distributions to the given ore grade data, \n",
    "    visualizes the data with a histogram and overlaid distribution curves, \n",
    "    and performs a Kolmogorov-Smirnov (K-S) test to assess the goodness of fit.\n",
    "\n",
    "    Parameters:\n",
    "    - df (pd.DataFrame): The dataset containing ore grade data.\n",
    "    - grade_column (str): The column name for ore grade values.\n",
    "    - country (str, optional): Specific country to filter the data by. If None, uses all data.\n",
    "\n",
    "    Returns:\n",
    "    - results (dict): A dictionary of K-S test results for each distribution, containing:\n",
    "        - 'Statistic': The maximum difference between the empirical and theoretical cumulative distributions.\n",
    "        - 'P-value': The probability that the sample data comes from the tested distribution.\n",
    "        \n",
    "    Notes:\n",
    "    - Distributions tested include normal, log-normal, triangular, uniform, and beta (if data is within bounds).\n",
    "    - Lower statistics and higher p-values indicate a better fit between the data and the tested distribution.\n",
    "    \"\"\"\n",
    "     \n",
    "    # Filter by country if specified\n",
    "    if country:\n",
    "        df = df[df['Country'] == country]\n",
    "    \n",
    "    # Drop NaN values and check if data is empty\n",
    "    data = df[grade_column].dropna()\n",
    "    if data.empty:\n",
    "        print(f\"No data available for {grade_column} in {country if country else 'all countries'}\")\n",
    "        return None\n",
    "    \n",
    "    # Plot histogram\n",
    "    plt.figure(figsize=(10, 6))\n",
    "    plt.hist(data, bins=10, density=True, alpha=0.6, color='blue', label=\"Histogram\")\n",
    "\n",
    "    # Fit and plot normal distribution\n",
    "    mu, std = norm.fit(data)\n",
    "    xmin, xmax = plt.xlim()\n",
    "    x = np.linspace(xmin, xmax, 100)\n",
    "    p_norm = norm.pdf(x, mu, std)\n",
    "    plt.plot(x, p_norm, 'r-', label=\"Normal fit\")\n",
    "\n",
    "    # Fit and plot log-normal distribution\n",
    "    shape, loc, scale = lognorm.fit(data, floc=0)\n",
    "    p_lognorm = lognorm.pdf(x, shape, loc, scale)\n",
    "    plt.plot(x, p_lognorm, 'g-', label=\"Log-normal fit\")\n",
    "\n",
    "    # Fit and plot triangular distribution\n",
    "    min_val, max_val = data.min(), data.max()\n",
    "    most_likely = data.mean()  # Typically mean or mode for triangular\n",
    "    c = (most_likely - min_val) / (max_val - min_val) if max_val != min_val else 0.5\n",
    "    p_triang = triang.pdf(x, c, loc=min_val, scale=(max_val - min_val))\n",
    "    plt.plot(x, p_triang, 'b-', label=\"Triangular fit\")\n",
    "\n",
    "    # Fit and plot uniform distribution\n",
    "    p_uniform = uniform.pdf(x, loc=min_val, scale=max_val - min_val)\n",
    "    plt.plot(x, p_uniform, 'm-', label=\"Uniform fit\")\n",
    "\n",
    "    # Store K-S test results for valid distributions\n",
    "    results = {\n",
    "        'Normal': kstest(data, 'norm', args=(mu, std)),\n",
    "        'Log-normal': kstest(data, 'lognorm', args=(shape, loc, scale)),\n",
    "        'Triangular': kstest(data, 'triang', args=(c, min_val, max_val - min_val)),\n",
    "        'Uniform': kstest(data, 'uniform', args=(min_val, max_val - min_val))\n",
    "    }\n",
    "\n",
    "    # Attempt Beta fit, skip if data is outside 0-1 range after scaling\n",
    "    try:\n",
    "        a, b, loc, scale = beta.fit(data, floc=min_val, fscale=max_val - min_val)\n",
    "        p_beta = beta.pdf(x, a, b, loc, scale)\n",
    "        plt.plot(x, p_beta, 'y-', label=\"Beta fit\")\n",
    "        results['Beta'] = kstest(data, 'beta', args=(a, b, loc, scale))\n",
    "    except ValueError:\n",
    "        print(f\"Skipping Beta fit for {grade_column} in {country if country else 'all countries'} (data out of bounds)\")\n",
    "\n",
    "    plt.title(f'{mineral} {grade_column} Distribution Fit' + (f' for {country}' if country else ''))\n",
    "    plt.xlabel(grade_column)\n",
    "    plt.ylabel('Density')\n",
    "    plt.legend()\n",
    "    plt.show()\n",
    "\n",
    "    return results"
   ],
   "id": "760e069d05021e97",
   "outputs": [],
   "execution_count": null
  },
  {
   "metadata": {},
   "cell_type": "code",
   "source": [
    "# Helper function to convert K-S test results into a DataFrame for easier analysis\n",
    "def extract_results_to_df(results, mineral, grade_column, country=None):\n",
    "    extracted_data = []\n",
    "    for dist_name, result in results.items():\n",
    "        extracted_data.append({\n",
    "            'Mineral': mineral,\n",
    "            'Grade Column': grade_column,\n",
    "            'Country': country if country else 'All',\n",
    "            'Distribution': dist_name,\n",
    "            'Statistic': result.statistic,\n",
    "            'P-value': result.pvalue\n",
    "        })\n",
    "    return pd.DataFrame(extracted_data)"
   ],
   "id": "2d529ecdbf87ae04",
   "outputs": [],
   "execution_count": null
  },
  {
   "metadata": {},
   "cell_type": "code",
   "source": [
    "distrib_nickel_resv = fit_and_test_distributions(df_nickel, 'Grade ResV', mineral='Nickel')\n",
    "distrib_copper_resv = fit_and_test_distributions(df_copper, 'Grade ResV', mineral='Copper')\n",
    "distrib_nickel_resv_can = fit_and_test_distributions(df_nickel, 'Grade ResV', country=\"Canada\", mineral='Nickel')\n",
    "distrib_copper_resv_can = fit_and_test_distributions(df_copper, 'Grade ResV', country=\"Canada\", mineral='Copper')\n",
    "\n",
    "# Collect all results into DataFrames if results exist\n",
    "results_dfs = []\n",
    "if distrib_nickel_resv: results_dfs.append(extract_results_to_df(distrib_nickel_resv, 'Nickel', 'Grade ResV'))\n",
    "if distrib_copper_resv: results_dfs.append(extract_results_to_df(distrib_copper_resv, 'Copper', 'Grade ResV'))\n",
    "if distrib_nickel_resv_can: results_dfs.append(extract_results_to_df(distrib_nickel_resv_can, 'Nickel', 'Grade ResV', country='Canada'))\n",
    "if distrib_copper_resv_can: results_dfs.append(extract_results_to_df(distrib_copper_resv_can, 'Copper', 'Grade ResV', country='Canada'))\n",
    "\n",
    "# Combine all results into a single DataFrame\n",
    "df_all_ks_test_results = pd.concat(results_dfs, ignore_index=True)\n",
    "df_all_ks_test_results "
   ],
   "id": "7a4f03a219a236d9",
   "outputs": [],
   "execution_count": null
  },
  {
   "metadata": {},
   "cell_type": "markdown",
   "source": "NormalDistribution (nickel) and LogNormalDistribution (copper) appear to be a good fit",
   "id": "e9f7ff98c2fcbe3f"
  },
  {
   "metadata": {},
   "cell_type": "code",
   "source": [
    "# If log-normal distribution is chosen, we need those formulas to calculate the mean and std\n",
    "cu_mean_log = np.log(cu_mean / np.sqrt(1 + (cu_std / cu_mean) ** 2))\n",
    "cu_std_log = np.sqrt(np.log(1 + (cu_std / cu_mean) ** 2))"
   ],
   "id": "8ca62459d678bcbe",
   "outputs": [],
   "execution_count": null
  },
  {
   "metadata": {},
   "cell_type": "markdown",
   "source": "# Defining input parameters for the parametrization",
   "id": "42a2b269d077abf0"
  },
  {
   "metadata": {},
   "cell_type": "markdown",
   "source": [
    "The following parameters are included:\n",
    "\n",
    "- ore grade\n",
    "- mining technique mix (open cast, underground, ISL)\n",
    "- mining depth\n",
    "- tailings emissions\n",
    "- mining energy mix "
   ],
   "id": "f117736b1f292200"
  },
  {
   "metadata": {},
   "cell_type": "markdown",
   "source": "## Explanation",
   "id": "ea4620942b48266b"
  },
  {
   "metadata": {},
   "cell_type": "markdown",
   "source": "### Ore grade",
   "id": "c5807f0ea22dd114"
  },
  {
   "metadata": {},
   "cell_type": "markdown",
   "source": [
    "Ore grade decline are observed for copper, zinc, lead and nickel in Van der Voet et al (2019). 10.1111/jiec.12722, who takes information from various sources (Mudd et al. (2017), Crowson (2012), Mudd & Jowit (2013), Northey et al. (2014) and Mudd et al. (2013)). \n",
    "\n",
    "The energy ore grade relation defines how energy inputs change as a function of the\n",
    "ore grade. Instead of developing a function for each individual input and output, the energy change often serve as a proxy for the change of other inputs\n",
    "and outputs. \n",
    "\n",
    "Thus, we model the effects of ore grade decline on the mining process\n",
    "by applying the percentage energy change to all other input and output values. The only process affected by an ore grade decline is the metal mine operation."
   ],
   "id": "f43107019de32d02"
  },
  {
   "metadata": {},
   "cell_type": "markdown",
   "source": [
    "- 1 - Definition of future ore grades G(t) and G(t0) for base years\n",
    "- 2 - Definition of energy requirements E(G) based on the energy-ore relation from literature\n",
    "- 3 - Calculate a percentage change p(t) between the base year and the future years\n",
    "- 4 - Calculate modelling factor, which is applied to outflows of mining processes in ecoivent to model how inputs and outputs of mining processes change"
   ],
   "id": "ca979a9c5781cefb"
  },
  {
   "metadata": {},
   "cell_type": "markdown",
   "source": [
    "- 1 - We first use a distribution to generate a set of possible ore grades. This distribution reflects uncertainty in the ore grade parameters\n",
    "- 2 - We calculate the energy requirement for each sample based on the ore grade - energy requirement for each sample"
   ],
   "id": "243228d6da025d2d"
  },
  {
   "metadata": {},
   "cell_type": "code",
   "source": "## Mining technique mix",
   "id": "2370c5cee95f5c25",
   "outputs": [],
   "execution_count": null
  },
  {
   "metadata": {},
   "cell_type": "code",
   "source": "## Mining depth",
   "id": "4c48b798127b0552",
   "outputs": [],
   "execution_count": null
  },
  {
   "metadata": {},
   "cell_type": "code",
   "source": "## Mining energy mix",
   "id": "d6c76428613fb14d",
   "outputs": [],
   "execution_count": null
  },
  {
   "metadata": {},
   "cell_type": "markdown",
   "source": "## Defining distributions for input parameters",
   "id": "2aa1399075cf322c"
  },
  {
   "metadata": {},
   "cell_type": "markdown",
   "source": [
    "lca_algebraic supports seven distribution types: \n",
    "- Fixed \n",
    "- Uniform \n",
    "- Triangle\n",
    "- Normal\n",
    "- Log-normal\n",
    "- Beta\n",
    "- Statistic weight"
   ],
   "id": "8997d7370fd4b3de"
  },
  {
   "metadata": {},
   "cell_type": "code",
   "source": [
    "# Float parameters \n",
    "og_cu_world = newFloatParam(\n",
    "    'ore_grade_copper', \n",
    "    default=cu_mean,\n",
    "    std= cu_std,\n",
    "    min=cu_min,\n",
    "    max=cu_max,\n",
    "    unit='dimensionless',\n",
    "    distrib=DistributionType.NORMAL,\n",
    "    description=\"From statistical analysis of ore grade data from Mudd et al (2018)\",\n",
    "    label=\"Copper ore grade\",\n",
    "    dbname=USER_DB, \n",
    "    save=False #By default, new parameters are kept in memory but also persisted in the project (unless save=False)\n",
    ")\n",
    "\n",
    "og_ni_world = newFloatParam(\n",
    "    'ore_grade_nickel', \n",
    "    default=ni_mean,\n",
    "    std= ni_std,\n",
    "    min=ni_min,\n",
    "    max=ni_max,\n",
    "    unit='dimensionless',\n",
    "    distrib=DistributionType.NORMAL,\n",
    "    description=\"From statistical analysis of ore grade data from Mudd et al (2014)\",\n",
    "    label=\"Nickel ore grade\",\n",
    "    dbname=USER_DB, \n",
    "    save=False #By default, new parameters are kept in memory but also persisted in the project (unless save=False)\n",
    ")"
   ],
   "id": "492681123f347bb0",
   "outputs": [],
   "execution_count": null
  },
  {
   "metadata": {},
   "cell_type": "code",
   "source": [
    "mining_tech_mix = {'open_pit':.161/.935,\n",
    "                'underground':.200/.935,\n",
    "                'ISL':0.574/.935}"
   ],
   "id": "4abcf775ec591482",
   "outputs": [],
   "execution_count": null
  },
  {
   "metadata": {},
   "cell_type": "code",
   "source": [
    "mining_energy_mix = {'diesel':0.3,\n",
    "                        'electricity':0.7}"
   ],
   "id": "956e1d0448a7a635",
   "outputs": [],
   "execution_count": null
  },
  {
   "metadata": {},
   "cell_type": "code",
   "source": [
    "mining_electricity_switch = newEnumParam(\n",
    "    'mining_electricity_switch', \n",
    "    label='Mining electricity, grid or diesel',\n",
    "    values=['dieselgenerator',\n",
    "            'grid'], # You can provide a statistical weight for each value, by using a dict\n",
    "    default='dieselgenerator', \n",
    "    description=\"Choice of electricity source for mining\",\n",
    "    dbname=USER_DB)"
   ],
   "id": "7c04b8e77bc5ea7b",
   "outputs": [],
   "execution_count": null
  },
  {
   "metadata": {},
   "cell_type": "code",
   "source": [
    "# Emissions of radon-222 from tailings\n",
    "tailings_Rn222 = newFloatParam(\n",
    "    'tailings_Rn222', \n",
    "    default=0.01951, min=0.01, max=1,\n",
    "    distrib=DistributionType.TRIANGLE, # Distribution type, linear by default\n",
    "    description=\"Rn222 from tailings, in Bq/s\",\n",
    "    label=\"Rn222 from tailings, in Bq/s\",\n",
    "    unit='Bq/s',\n",
    "    dbname=USER_DB)"
   ],
   "id": "c6eff713e09136ef",
   "outputs": [],
   "execution_count": null
  },
  {
   "metadata": {},
   "cell_type": "code",
   "source": [
    "# Conversion phase, heat consumption\n",
    "conversion_heat = newFloatParam(\n",
    "    'conversion_heat', \n",
    "    default=26, min=26, max=665,\n",
    "    distrib=DistributionType.TRIANGLE,\n",
    "    label='Conversion heat input',\n",
    "    unit='kWh/kg U in UF6',\n",
    "    description=\"Heat required to convert 1 kg of UF6\",\n",
    "    dbname=USER_DB)"
   ],
   "id": "86681730cfabd0bc",
   "outputs": [],
   "execution_count": null
  },
  {
   "metadata": {},
   "cell_type": "code",
   "source": "list_parameters() # recap of all parameters declared in the model ",
   "id": "81d4a248ec9f9593",
   "outputs": [],
   "execution_count": null
  },
  {
   "metadata": {},
   "cell_type": "markdown",
   "source": "## Functions to link the input parameters to elements in the LCI",
   "id": "ca35e5532d521216"
  },
  {
   "metadata": {},
   "cell_type": "markdown",
   "source": "Here we can put the relation between energy and ore grade",
   "id": "7e5c831c1aedb3ca"
  },
  {
   "metadata": {},
   "cell_type": "code",
   "source": [
    "def energy_ore_grade(ore_grade, r, q):\n",
    "    \"\"\"\n",
    "    Calculate the energy requirement based on ore grade.\n",
    "\n",
    "    Parameters:\n",
    "    - ore_grade (float or np.array): The ore grade value(s), e.g., in percentage or fraction.\n",
    "    - r (float): Constant for energy-ore grade relation, specific to the metal.\n",
    "    - q (float): Exponent that defines sensitivity of energy to ore grade changes.\n",
    "\n",
    "    Returns:\n",
    "    - float or np.array: Energy requirement (MJ/kg) based on ore grade.\n",
    "    \"\"\"\n",
    "    return r * np.power(ore_grade, q)"
   ],
   "id": "69dc40f1804ad73d",
   "outputs": [],
   "execution_count": null
  },
  {
   "metadata": {},
   "cell_type": "code",
   "source": [
    "#From Kuipers et al (2016)\n",
    "r = 15.63\n",
    "q = -0.53"
   ],
   "id": "ba833e28fbaf5fc7",
   "outputs": [],
   "execution_count": null
  },
  {
   "metadata": {},
   "cell_type": "code",
   "source": "og_cu_world",
   "id": "f9aabc88389926e5",
   "outputs": [],
   "execution_count": null
  },
  {
   "metadata": {},
   "cell_type": "code",
   "source": [
    "# Calculate updated energy demand based on ore grade\n",
    "updated_energy = energy_ore_grade(og_cu_world, r, q)"
   ],
   "id": "4f29e9dbb0b1ca75",
   "outputs": [],
   "execution_count": null
  },
  {
   "metadata": {},
   "cell_type": "code",
   "source": "updated_energy",
   "id": "4ae37fb4d84c27fa",
   "outputs": [],
   "execution_count": null
  },
  {
   "metadata": {},
   "cell_type": "markdown",
   "source": "# Transforming and updating parametrized inventories",
   "id": "336133cbdc012a96"
  },
  {
   "metadata": {},
   "cell_type": "markdown",
   "source": [
    "We need different activities for the different parameters. For example:\n",
    "    \n",
    "- An open pit and underground activities for the mining technique mix \n",
    "- A diesel machinery and generator\n",
    "- An electricity grid\n",
    "- ..."
   ],
   "id": "5409dc94f5c0e8bc"
  },
  {
   "metadata": {},
   "cell_type": "code",
   "source": [
    "#copper = [act for act in bd.Database(EI_DB) if\n",
    "#                     act['name'] == \"copper mine operation and beneficiation, sulfide ore\" and act['location'] == \"CA\"][\n",
    "#    0]\n",
    "#copper.key\n"
   ],
   "id": "b167e3c1f16d6234",
   "outputs": [],
   "execution_count": null
  },
  {
   "metadata": {},
   "cell_type": "code",
   "source": [
    "# Don't know why it finds several activities, so we take the code\n",
    "copper = findActivity(code='9d722cc3f3dc5522d98392a44fc244b9', loc='CA', db_name=EI_DB)"
   ],
   "id": "b10df82c9df9d2a8",
   "outputs": [],
   "execution_count": null
  },
  {
   "metadata": {},
   "cell_type": "code",
   "source": [
    "# Copy to preserve the non-parametrized inventories \n",
    "copper_p = copyActivity(\n",
    "    USER_DB,\n",
    "    copper,\n",
    "    'copper mine operation and beneficiation, sulfide ore, parameterized')"
   ],
   "id": "17dd71fbd6ecd39",
   "outputs": [],
   "execution_count": null
  },
  {
   "metadata": {},
   "cell_type": "code",
   "source": [
    "# list of activities and exchanges, e.g. biosphere and technosphere flows\n",
    "agb.printAct(copper_p) "
   ],
   "id": "fedf1c55a096553f",
   "outputs": [],
   "execution_count": null
  },
  {
   "metadata": {},
   "cell_type": "code",
   "source": [
    "# Update selected technosphere flow, it is the product name\n",
    "copper_p.updateExchanges({\n",
    "    \"electricity, high voltage\": 15.63*og_cu_world**-0.53\n",
    "})"
   ],
   "id": "2a3b1e6ea08e340b",
   "outputs": [],
   "execution_count": null
  },
  {
   "metadata": {},
   "cell_type": "code",
   "source": "agb.printAct(copper_p) ",
   "id": "80c7eadbb9d00fde",
   "outputs": [],
   "execution_count": null
  },
  {
   "metadata": {},
   "cell_type": "markdown",
   "source": "# Impact calculation",
   "id": "29ecdfafe3ecc27a"
  },
  {
   "metadata": {},
   "cell_type": "code",
   "source": [
    "# Don't know why we don't have recent methods\n",
    "iw_methods = [method for method in bd.methods if \"world\" in \" \".join(method).lower()]\n",
    "iw_methods"
   ],
   "id": "7b0efdae339f4251",
   "outputs": [],
   "execution_count": null
  },
  {
   "metadata": {},
   "cell_type": "code",
   "source": [
    "# List of impacts to consider\n",
    "impacts = agb.findMethods('climate change', mainCat=\"EF v3.0\")\n",
    "impacts"
   ],
   "id": "949d4ccf2fc52a5b",
   "outputs": [],
   "execution_count": null
  },
  {
   "metadata": {},
   "cell_type": "code",
   "source": [
    "# Definition of FU, which can be parametrized\n",
    "functional_value = 1"
   ],
   "id": "c1e351aff255c356",
   "outputs": [],
   "execution_count": null
  },
  {
   "metadata": {},
   "cell_type": "code",
   "source": "agb.list_databases()",
   "id": "9da033689163e802",
   "outputs": [],
   "execution_count": null
  },
  {
   "metadata": {},
   "cell_type": "code",
   "source": [
    "agb.compute_impacts(\n",
    "    \n",
    "    # Root activity of our inventory\n",
    "    copper_p, \n",
    "    \n",
    "    # list of impacts to consider\n",
    "    impacts, \n",
    "    \n",
    "    # The impacts will be divided by the functional unit\n",
    "    functional_unit=functional_value,\n",
    "    \n",
    "    # Parameters of the model\n",
    ")"
   ],
   "id": "79cb1fd3be6cf836",
   "outputs": [],
   "execution_count": null
  },
  {
   "metadata": {},
   "cell_type": "markdown",
   "source": "## OAT sensitivity analysis",
   "id": "44b9b0217bc48c2"
  },
  {
   "metadata": {},
   "cell_type": "code",
   "source": [
    "agb.oat_matrix(\n",
    "    copper_p, \n",
    "    impacts, \n",
    "    functional_unit=functional_value)"
   ],
   "id": "8fcd21a6b6d15b06",
   "outputs": [],
   "execution_count": null
  },
  {
   "metadata": {},
   "cell_type": "code",
   "source": [
    "agb.oat_dashboard(\n",
    "    copper_p, \n",
    "    impacts, \n",
    "    functional_unit=functional_value,\n",
    "    \n",
    "    # Optionnal layout parameters\n",
    "    figspace=(0.5,0.5),\n",
    "    figsize=(15, 15),\n",
    "    sharex=True)"
   ],
   "id": "20adce52f63bfe73",
   "outputs": [],
   "execution_count": null
  },
  {
   "metadata": {},
   "cell_type": "markdown",
   "source": "## GSA",
   "id": "a40217438cd72ed8"
  },
  {
   "metadata": {},
   "cell_type": "code",
   "source": [
    "# Show sobol indices \n",
    "agb.incer_stochastic_matrix(\n",
    "    copper_p, \n",
    "    impacts, \n",
    "    functional_unit=functional_value)"
   ],
   "id": "14372270ce4a3455",
   "outputs": [],
   "execution_count": null
  },
  {
   "metadata": {},
   "cell_type": "code",
   "source": [
    "agb.incer_stochastic_violin(\n",
    "    copper_p, impacts,\n",
    "    functional_unit=functional_value,\n",
    "    \n",
    "    # Optionnal layout parameters\n",
    "    figspace=(0.5,0.5),\n",
    "    figsize=(15, 15),\n",
    "    sharex=True, \n",
    "    nb_cols=3)"
   ],
   "id": "4c82b2156a9b86f4",
   "outputs": [],
   "execution_count": null
  },
  {
   "metadata": {},
   "cell_type": "code",
   "source": [
    "# Alternatively, graphs can be shown horizontally, together with a box of statistical outcomes\n",
    "agb.distrib(\n",
    "    copper_p, impacts,\n",
    "    functional_unit=functional_value,\n",
    "    \n",
    "    # Optionnal layout parameters\n",
    "    height=7, width=15,\n",
    "    nb_cols=2,\n",
    "    percentiles=[5, 95])"
   ],
   "id": "4ee80957760263d6",
   "outputs": [],
   "execution_count": null
  },
  {
   "metadata": {},
   "cell_type": "code",
   "source": [
    "# Full dashboard, including total variation of impacts \n",
    "agb.incer_stochastic_dashboard(\n",
    "    model=copper_p, \n",
    "    methods=impacts,\n",
    "    functional_unit=functional_value)"
   ],
   "id": "763d7f631e0ffda7",
   "outputs": [],
   "execution_count": null
  },
  {
   "metadata": {},
   "cell_type": "markdown",
   "source": "# Simplified model",
   "id": "623e2ed02c1c23b4"
  },
  {
   "metadata": {},
   "cell_type": "code",
   "source": [
    "# First, let's look at the full expression defining our model\n",
    "expr, _ = agb.actToExpression(copper_p)\n",
    "expr"
   ],
   "id": "8c723ca2a527a825",
   "outputs": [],
   "execution_count": null
  },
  {
   "metadata": {},
   "cell_type": "code",
   "source": [
    "simplified = agb.sobol_simplify_model(\n",
    "    copper_p, # The model\n",
    "    impacts, # Impacts to consider\n",
    "    functional_unit=functional_value,\n",
    "    \n",
    "    n=10000, # For large model, you may test other value and ensure ST and sum(S1) are close to 1.0 \n",
    "    fixed_mode = agb.FixedParamMode.MEDIAN, # We replace minor parameters by median by default,\n",
    "    min_ratio=0.8, # Min ratio of variability to explain\n",
    "    num_digits=3)"
   ],
   "id": "9a75626736b50ad3",
   "outputs": [],
   "execution_count": null
  },
  {
   "metadata": {},
   "cell_type": "code",
   "source": [
    "# Let's look at the expression for first impact again \n",
    "# much simpler ! \n",
    "simplified[0].expr"
   ],
   "id": "89d440f5fc612084",
   "outputs": [],
   "execution_count": null
  },
  {
   "metadata": {},
   "cell_type": "code",
   "source": [
    "agb.compare_simplified(\n",
    "    copper_p, \n",
    "    impacts, \n",
    "    simplified,\n",
    "    functional_unit=functional_value)"
   ],
   "id": "d25e6dff48ad8eec",
   "outputs": [],
   "execution_count": null
  },
  {
   "metadata": {},
   "cell_type": "code",
   "source": "",
   "id": "401c60e4a2485ae0",
   "outputs": [],
   "execution_count": null
  }
 ],
 "metadata": {
  "kernelspec": {
   "display_name": "Python 3",
   "language": "python",
   "name": "python3"
  },
  "language_info": {
   "codemirror_mode": {
    "name": "ipython",
    "version": 2
   },
   "file_extension": ".py",
   "mimetype": "text/x-python",
   "name": "python",
   "nbconvert_exporter": "python",
   "pygments_lexer": "ipython2",
   "version": "2.7.6"
  }
 },
 "nbformat": 4,
 "nbformat_minor": 5
}
