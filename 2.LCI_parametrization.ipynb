{
 "cells": [
  {
   "cell_type": "code",
   "id": "initial_id",
   "metadata": {
    "collapsed": true,
    "ExecuteTime": {
     "end_time": "2024-12-12T19:40:33.439297Z",
     "start_time": "2024-12-12T19:40:23.346488Z"
    }
   },
   "source": [
    "# Brightway imports\n",
    "import bw2analyzer as ba\n",
    "import bw2calc as bc\n",
    "import bw2data as bd\n",
    "import bw2io as bi\n",
    "import brightway2 as bw\n",
    "from bw2data import parameters\n",
    "from sympy.physics.units import years\n",
    "from sympy.stats.crv_types import LogNormalDistribution\n",
    "from sympy import init_printing\n",
    "import lca_algebraic as agb\n",
    "from dotenv import load_dotenv\n",
    "\n",
    "# Custom utils defined for the parameterization\n",
    "from lca_algebraic import *\n",
    "from lca_algebraic.stats import *\n",
    "\n",
    "# Pretty print for Sympy\n",
    "init_printing()"
   ],
   "outputs": [],
   "execution_count": 1
  },
  {
   "metadata": {
    "ExecuteTime": {
     "end_time": "2024-12-12T19:40:33.454342Z",
     "start_time": "2024-12-12T19:40:33.447305Z"
    }
   },
   "cell_type": "code",
   "source": [
    "import pandas as pd\n",
    "import numpy as np\n",
    "import matplotlib.pyplot as plt\n",
    "import seaborn as sns\n",
    "from scipy.stats import norm, lognorm, expon, beta, uniform, triang, kstest"
   ],
   "id": "e6c3ad7bb6895a47",
   "outputs": [],
   "execution_count": 2
  },
  {
   "metadata": {
    "ExecuteTime": {
     "end_time": "2024-12-12T19:40:42.304273Z",
     "start_time": "2024-12-12T19:40:42.092612Z"
    }
   },
   "cell_type": "code",
   "source": [
    "BW_PROJECT = 'lca-alg-2' # insert your project name here\n",
    "bd.projects.set_current(BW_PROJECT)\n",
    "\n",
    "EI_DB = 'ecoinvent-3.9.1-cutoff' # name of ecoinvent database in your project\n",
    "# We use a separate DB for defining our foreground model / activities\n",
    "USER_DB = \"MyForeground\""
   ],
   "id": "3a63a1ecc7f25302",
   "outputs": [],
   "execution_count": 3
  },
  {
   "metadata": {
    "ExecuteTime": {
     "end_time": "2024-12-12T19:40:42.799919Z",
     "start_time": "2024-12-12T19:40:42.650898Z"
    }
   },
   "cell_type": "code",
   "source": [
    "# This is better to cleanup the whole foreground model each time, and redefine it in the notebook (or a python file)\n",
    "# instead of relying on a state or previous run.\n",
    "# Any persistent state is prone to errors.\n",
    "agb.resetDb(USER_DB)\n",
    "\n",
    "# Parameters are stored at project level : \n",
    "# Reset them also\n",
    "# You may remove this line if you import a project and parameters from an external source (see loadParam(..))\n",
    "agb.resetParams()\n",
    "\n",
    "# Overview of the databases\n",
    "agb.list_databases()"
   ],
   "id": "25665a2f9ecbcfdf",
   "outputs": [
    {
     "name": "stderr",
     "output_type": "stream",
     "text": [
      "[WARNING] Db MyForeground was here. Reseting it\n"
     ]
    },
    {
     "data": {
      "text/plain": [
       "                       backend  nb_activities        type\n",
       "name                                                     \n",
       "biosphere3              sqlite           4718   biosphere\n",
       "ecoinvent-3.9.1-cutoff  sqlite          21238  background\n",
       "MyForeground            sqlite              0  foreground"
      ],
      "text/html": [
       "<div>\n",
       "<style scoped>\n",
       "    .dataframe tbody tr th:only-of-type {\n",
       "        vertical-align: middle;\n",
       "    }\n",
       "\n",
       "    .dataframe tbody tr th {\n",
       "        vertical-align: top;\n",
       "    }\n",
       "\n",
       "    .dataframe thead th {\n",
       "        text-align: right;\n",
       "    }\n",
       "</style>\n",
       "<table border=\"1\" class=\"dataframe\">\n",
       "  <thead>\n",
       "    <tr style=\"text-align: right;\">\n",
       "      <th></th>\n",
       "      <th>backend</th>\n",
       "      <th>nb_activities</th>\n",
       "      <th>type</th>\n",
       "    </tr>\n",
       "    <tr>\n",
       "      <th>name</th>\n",
       "      <th></th>\n",
       "      <th></th>\n",
       "      <th></th>\n",
       "    </tr>\n",
       "  </thead>\n",
       "  <tbody>\n",
       "    <tr>\n",
       "      <th>biosphere3</th>\n",
       "      <td>sqlite</td>\n",
       "      <td>4718</td>\n",
       "      <td>biosphere</td>\n",
       "    </tr>\n",
       "    <tr>\n",
       "      <th>ecoinvent-3.9.1-cutoff</th>\n",
       "      <td>sqlite</td>\n",
       "      <td>21238</td>\n",
       "      <td>background</td>\n",
       "    </tr>\n",
       "    <tr>\n",
       "      <th>MyForeground</th>\n",
       "      <td>sqlite</td>\n",
       "      <td>0</td>\n",
       "      <td>foreground</td>\n",
       "    </tr>\n",
       "  </tbody>\n",
       "</table>\n",
       "</div>"
      ]
     },
     "execution_count": 4,
     "metadata": {},
     "output_type": "execute_result"
    }
   ],
   "execution_count": 4
  },
  {
   "metadata": {},
   "cell_type": "markdown",
   "source": "# Defining input parameters for the parametrization",
   "id": "42a2b269d077abf0"
  },
  {
   "metadata": {},
   "cell_type": "markdown",
   "source": [
    "The following parameters are included:\n",
    "\n",
    "- ore grade\n",
    "- mining technique mix (open cast, underground, ISL)\n",
    "- mining depth\n",
    "- tailings emissions\n",
    "- mining energy mix "
   ],
   "id": "f117736b1f292200"
  },
  {
   "metadata": {},
   "cell_type": "markdown",
   "source": [
    "lca_algebraic supports seven distribution types: \n",
    "- Fixed \n",
    "- Uniform \n",
    "- Triangle\n",
    "- Normal\n",
    "- Log-normal\n",
    "- Beta\n",
    "- Statistic weight"
   ],
   "id": "8997d7370fd4b3de"
  },
  {
   "metadata": {
    "ExecuteTime": {
     "end_time": "2024-12-12T19:45:46.633186Z",
     "start_time": "2024-12-12T19:45:46.624764Z"
    }
   },
   "cell_type": "code",
   "source": [
    "# Float parameters \n",
    "og_cu_world = newFloatParam(\n",
    "    'ore_grade_copper', \n",
    "    default=cu_mean,\n",
    "    std= cu_std,\n",
    "    min=cu_min,\n",
    "    max=cu_max,\n",
    "    unit='dimensionless',\n",
    "    distrib=DistributionType.NORMAL,\n",
    "    description=\"From statistical analysis of ore grade data from Mudd et al (2018)\",\n",
    "    label=\"Copper ore grade\",\n",
    "    dbname=USER_DB, \n",
    "    save=False #By default, new parameters are kept in memory but also persisted in the project (unless save=False)\n",
    ")\n",
    "\n",
    "og_ni_world = newFloatParam(\n",
    "    'ore_grade_nickel', \n",
    "    default=ni_mean,\n",
    "    std= ni_std,\n",
    "    min=ni_min,\n",
    "    max=ni_max,\n",
    "    unit='dimensionless',\n",
    "    distrib=DistributionType.NORMAL,\n",
    "    description=\"From statistical analysis of ore grade data from Mudd et al (2014)\",\n",
    "    label=\"Nickel ore grade\",\n",
    "    dbname=USER_DB, \n",
    "    save=False #By default, new parameters are kept in memory but also persisted in the project (unless save=False)\n",
    ")"
   ],
   "id": "492681123f347bb0",
   "outputs": [],
   "execution_count": 19
  },
  {
   "metadata": {},
   "cell_type": "code",
   "source": [
    "mining_tech_mix = {'open_pit':.161/.935,\n",
    "                'underground':.200/.935,\n",
    "                'ISL':0.574/.935}"
   ],
   "id": "4abcf775ec591482",
   "outputs": [],
   "execution_count": null
  },
  {
   "metadata": {},
   "cell_type": "code",
   "source": [
    "mining_energy_mix = {'diesel':0.3,\n",
    "                        'electricity':0.7}"
   ],
   "id": "956e1d0448a7a635",
   "outputs": [],
   "execution_count": null
  },
  {
   "metadata": {},
   "cell_type": "code",
   "source": [
    "mining_electricity_switch = newEnumParam(\n",
    "    'mining_electricity_switch', \n",
    "    label='Mining electricity, grid or diesel',\n",
    "    values=['dieselgenerator',\n",
    "            'grid'], # You can provide a statistical weight for each value, by using a dict\n",
    "    default='dieselgenerator', \n",
    "    description=\"Choice of electricity source for mining\",\n",
    "    dbname=USER_DB)"
   ],
   "id": "7c04b8e77bc5ea7b",
   "outputs": [],
   "execution_count": null
  },
  {
   "metadata": {},
   "cell_type": "code",
   "source": [
    "# Emissions of radon-222 from tailings\n",
    "tailings_Rn222 = newFloatParam(\n",
    "    'tailings_Rn222', \n",
    "    default=0.01951, min=0.01, max=1,\n",
    "    distrib=DistributionType.TRIANGLE, # Distribution type, linear by default\n",
    "    description=\"Rn222 from tailings, in Bq/s\",\n",
    "    label=\"Rn222 from tailings, in Bq/s\",\n",
    "    unit='Bq/s',\n",
    "    dbname=USER_DB)"
   ],
   "id": "c6eff713e09136ef",
   "outputs": [],
   "execution_count": null
  },
  {
   "metadata": {},
   "cell_type": "code",
   "source": [
    "# Conversion phase, heat consumption\n",
    "conversion_heat = newFloatParam(\n",
    "    'conversion_heat', \n",
    "    default=26, min=26, max=665,\n",
    "    distrib=DistributionType.TRIANGLE,\n",
    "    label='Conversion heat input',\n",
    "    unit='kWh/kg U in UF6',\n",
    "    description=\"Heat required to convert 1 kg of UF6\",\n",
    "    dbname=USER_DB)"
   ],
   "id": "86681730cfabd0bc",
   "outputs": [],
   "execution_count": null
  },
  {
   "metadata": {},
   "cell_type": "code",
   "source": "list_parameters() # recap of all parameters declared in the model ",
   "id": "81d4a248ec9f9593",
   "outputs": [],
   "execution_count": null
  },
  {
   "metadata": {},
   "cell_type": "markdown",
   "source": "# Transforming and updating parametrized inventories",
   "id": "336133cbdc012a96"
  },
  {
   "metadata": {},
   "cell_type": "markdown",
   "source": [
    "We need different activities for the different parameters. For example:\n",
    "    \n",
    "- An open pit and underground activities for the mining technique mix \n",
    "- A diesel machinery and generator\n",
    "- An electricity grid\n",
    "- ..."
   ],
   "id": "5409dc94f5c0e8bc"
  },
  {
   "metadata": {},
   "cell_type": "code",
   "source": [
    "#copper = [act for act in bd.Database(EI_DB) if\n",
    "#                     act['name'] == \"copper mine operation and beneficiation, sulfide ore\" and act['location'] == \"CA\"][\n",
    "#    0]\n",
    "#copper.key\n"
   ],
   "id": "b167e3c1f16d6234",
   "outputs": [],
   "execution_count": null
  },
  {
   "metadata": {},
   "cell_type": "code",
   "source": [
    "# Don't know why it finds several activities, so we take the code\n",
    "copper = findActivity(code='9d722cc3f3dc5522d98392a44fc244b9', loc='CA', db_name=EI_DB)"
   ],
   "id": "b10df82c9df9d2a8",
   "outputs": [],
   "execution_count": null
  },
  {
   "metadata": {},
   "cell_type": "code",
   "source": [
    "# Copy to preserve the non-parametrized inventories \n",
    "copper_p = copyActivity(\n",
    "    USER_DB,\n",
    "    copper,\n",
    "    'copper mine operation and beneficiation, sulfide ore, parameterized')"
   ],
   "id": "17dd71fbd6ecd39",
   "outputs": [],
   "execution_count": null
  },
  {
   "metadata": {},
   "cell_type": "code",
   "source": [
    "# list of activities and exchanges, e.g. biosphere and technosphere flows\n",
    "agb.printAct(copper_p) "
   ],
   "id": "fedf1c55a096553f",
   "outputs": [],
   "execution_count": null
  },
  {
   "metadata": {},
   "cell_type": "code",
   "source": [
    "# Update selected technosphere flow, it is the product name\n",
    "copper_p.updateExchanges({\n",
    "    \"electricity, high voltage\": 15.63*og_cu_world**-0.53\n",
    "})"
   ],
   "id": "2a3b1e6ea08e340b",
   "outputs": [],
   "execution_count": null
  },
  {
   "metadata": {},
   "cell_type": "code",
   "source": "agb.printAct(copper_p) ",
   "id": "80c7eadbb9d00fde",
   "outputs": [],
   "execution_count": null
  },
  {
   "metadata": {},
   "cell_type": "markdown",
   "source": "# Impact calculation",
   "id": "29ecdfafe3ecc27a"
  },
  {
   "metadata": {},
   "cell_type": "code",
   "source": [
    "# Don't know why we don't have recent methods\n",
    "iw_methods = [method for method in bd.methods if \"world\" in \" \".join(method).lower()]\n",
    "iw_methods"
   ],
   "id": "7b0efdae339f4251",
   "outputs": [],
   "execution_count": null
  },
  {
   "metadata": {},
   "cell_type": "code",
   "source": [
    "# List of impacts to consider\n",
    "impacts = agb.findMethods('climate change', mainCat=\"EF v3.0\")\n",
    "impacts"
   ],
   "id": "949d4ccf2fc52a5b",
   "outputs": [],
   "execution_count": null
  },
  {
   "metadata": {},
   "cell_type": "code",
   "source": [
    "# Definition of FU, which can be parametrized\n",
    "functional_value = 1"
   ],
   "id": "c1e351aff255c356",
   "outputs": [],
   "execution_count": null
  },
  {
   "metadata": {},
   "cell_type": "code",
   "source": "agb.list_databases()",
   "id": "9da033689163e802",
   "outputs": [],
   "execution_count": null
  },
  {
   "metadata": {},
   "cell_type": "code",
   "source": [
    "agb.compute_impacts(\n",
    "    \n",
    "    # Root activity of our inventory\n",
    "    copper_p, \n",
    "    \n",
    "    # list of impacts to consider\n",
    "    impacts, \n",
    "    \n",
    "    # The impacts will be divided by the functional unit\n",
    "    functional_unit=functional_value,\n",
    "    \n",
    "    # Parameters of the model\n",
    ")"
   ],
   "id": "79cb1fd3be6cf836",
   "outputs": [],
   "execution_count": null
  },
  {
   "metadata": {},
   "cell_type": "markdown",
   "source": "## OAT sensitivity analysis",
   "id": "44b9b0217bc48c2"
  },
  {
   "metadata": {},
   "cell_type": "code",
   "source": [
    "agb.oat_matrix(\n",
    "    copper_p, \n",
    "    impacts, \n",
    "    functional_unit=functional_value)"
   ],
   "id": "8fcd21a6b6d15b06",
   "outputs": [],
   "execution_count": null
  },
  {
   "metadata": {},
   "cell_type": "code",
   "source": [
    "agb.oat_dashboard(\n",
    "    copper_p, \n",
    "    impacts, \n",
    "    functional_unit=functional_value,\n",
    "    \n",
    "    # Optionnal layout parameters\n",
    "    figspace=(0.5,0.5),\n",
    "    figsize=(15, 15),\n",
    "    sharex=True)"
   ],
   "id": "20adce52f63bfe73",
   "outputs": [],
   "execution_count": null
  },
  {
   "metadata": {},
   "cell_type": "markdown",
   "source": "## GSA",
   "id": "a40217438cd72ed8"
  },
  {
   "metadata": {},
   "cell_type": "code",
   "source": [
    "# Show sobol indices \n",
    "agb.incer_stochastic_matrix(\n",
    "    copper_p, \n",
    "    impacts, \n",
    "    functional_unit=functional_value)"
   ],
   "id": "14372270ce4a3455",
   "outputs": [],
   "execution_count": null
  },
  {
   "metadata": {},
   "cell_type": "code",
   "source": [
    "agb.incer_stochastic_violin(\n",
    "    copper_p, impacts,\n",
    "    functional_unit=functional_value,\n",
    "    \n",
    "    # Optionnal layout parameters\n",
    "    figspace=(0.5,0.5),\n",
    "    figsize=(15, 15),\n",
    "    sharex=True, \n",
    "    nb_cols=3)"
   ],
   "id": "4c82b2156a9b86f4",
   "outputs": [],
   "execution_count": null
  },
  {
   "metadata": {},
   "cell_type": "code",
   "source": [
    "# Alternatively, graphs can be shown horizontally, together with a box of statistical outcomes\n",
    "agb.distrib(\n",
    "    copper_p, impacts,\n",
    "    functional_unit=functional_value,\n",
    "    \n",
    "    # Optionnal layout parameters\n",
    "    height=7, width=15,\n",
    "    nb_cols=2,\n",
    "    percentiles=[5, 95])"
   ],
   "id": "4ee80957760263d6",
   "outputs": [],
   "execution_count": null
  },
  {
   "metadata": {},
   "cell_type": "code",
   "source": [
    "# Full dashboard, including total variation of impacts \n",
    "agb.incer_stochastic_dashboard(\n",
    "    model=copper_p, \n",
    "    methods=impacts,\n",
    "    functional_unit=functional_value)"
   ],
   "id": "763d7f631e0ffda7",
   "outputs": [],
   "execution_count": null
  },
  {
   "metadata": {},
   "cell_type": "markdown",
   "source": "# Simplified model",
   "id": "623e2ed02c1c23b4"
  },
  {
   "metadata": {},
   "cell_type": "code",
   "source": [
    "# First, let's look at the full expression defining our model\n",
    "expr, _ = agb.actToExpression(copper_p)\n",
    "expr"
   ],
   "id": "8c723ca2a527a825",
   "outputs": [],
   "execution_count": null
  },
  {
   "metadata": {},
   "cell_type": "code",
   "source": [
    "simplified = agb.sobol_simplify_model(\n",
    "    copper_p, # The model\n",
    "    impacts, # Impacts to consider\n",
    "    functional_unit=functional_value,\n",
    "    \n",
    "    n=10000, # For large model, you may test other value and ensure ST and sum(S1) are close to 1.0 \n",
    "    fixed_mode = agb.FixedParamMode.MEDIAN, # We replace minor parameters by median by default,\n",
    "    min_ratio=0.8, # Min ratio of variability to explain\n",
    "    num_digits=3)"
   ],
   "id": "9a75626736b50ad3",
   "outputs": [],
   "execution_count": null
  },
  {
   "metadata": {},
   "cell_type": "code",
   "source": [
    "# Let's look at the expression for first impact again \n",
    "# much simpler ! \n",
    "simplified[0].expr"
   ],
   "id": "89d440f5fc612084",
   "outputs": [],
   "execution_count": null
  },
  {
   "metadata": {},
   "cell_type": "code",
   "source": [
    "agb.compare_simplified(\n",
    "    copper_p, \n",
    "    impacts, \n",
    "    simplified,\n",
    "    functional_unit=functional_value)"
   ],
   "id": "d25e6dff48ad8eec",
   "outputs": [],
   "execution_count": null
  },
  {
   "metadata": {},
   "cell_type": "code",
   "source": "",
   "id": "401c60e4a2485ae0",
   "outputs": [],
   "execution_count": null
  }
 ],
 "metadata": {
  "kernelspec": {
   "display_name": "Python 3",
   "language": "python",
   "name": "python3"
  },
  "language_info": {
   "codemirror_mode": {
    "name": "ipython",
    "version": 2
   },
   "file_extension": ".py",
   "mimetype": "text/x-python",
   "name": "python",
   "nbconvert_exporter": "python",
   "pygments_lexer": "ipython2",
   "version": "2.7.6"
  }
 },
 "nbformat": 4,
 "nbformat_minor": 5
}
