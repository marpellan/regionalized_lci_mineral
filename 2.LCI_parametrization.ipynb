{
 "cells": [
  {
   "cell_type": "code",
   "id": "initial_id",
   "metadata": {
    "collapsed": true,
    "ExecuteTime": {
     "end_time": "2024-12-20T22:08:26.697861Z",
     "start_time": "2024-12-20T22:08:26.677663Z"
    }
   },
   "source": [
    "# Brightway imports\n",
    "import bw2analyzer as ba\n",
    "import bw2calc as bc\n",
    "import bw2data as bd\n",
    "import bw2io as bi\n",
    "import brightway2 as bw\n",
    "from bw2data import parameters\n",
    "from lca_algebraic import findTechAct\n",
    "from sympy.physics.units import years\n",
    "from sympy.stats.crv_types import LogNormalDistribution\n",
    "from sympy import init_printing\n",
    "import lca_algebraic as agb\n",
    "from dotenv import load_dotenv\n",
    "\n",
    "# Custom utils defined for the parameterization\n",
    "from lca_algebraic import *\n",
    "from lca_algebraic.stats import *\n",
    "\n",
    "# Pretty print for Sympy\n",
    "init_printing()"
   ],
   "outputs": [],
   "execution_count": 8
  },
  {
   "metadata": {
    "ExecuteTime": {
     "end_time": "2024-12-20T22:08:26.929187Z",
     "start_time": "2024-12-20T22:08:26.910599Z"
    }
   },
   "cell_type": "code",
   "source": [
    "import pandas as pd\n",
    "import numpy as np\n",
    "import matplotlib.pyplot as plt\n",
    "import seaborn as sns\n",
    "from scipy.stats import norm, lognorm, expon, beta, uniform, triang, kstest"
   ],
   "id": "e6c3ad7bb6895a47",
   "outputs": [],
   "execution_count": 9
  },
  {
   "metadata": {
    "ExecuteTime": {
     "end_time": "2024-12-20T22:08:27.719833Z",
     "start_time": "2024-12-20T22:08:27.574601Z"
    }
   },
   "cell_type": "code",
   "source": [
    "BW_PROJECT = 'lca-alg-2' # insert your project name here\n",
    "bd.projects.set_current(BW_PROJECT)\n",
    "EI_DB = 'ecoinvent-3.9.1-cutoff' # name of ecoinvent database in your project\n",
    "# We use a separate DB for defining our foreground model / activities\n",
    "USER_DB = \"MyForeground\""
   ],
   "id": "3a63a1ecc7f25302",
   "outputs": [],
   "execution_count": 10
  },
  {
   "metadata": {
    "ExecuteTime": {
     "end_time": "2024-12-20T22:08:28.128973Z",
     "start_time": "2024-12-20T22:08:28.115461Z"
    }
   },
   "cell_type": "code",
   "source": "EI_Database = bw.Database(\"ecoinvent-3.9.1-cutoff\")",
   "id": "91410556d33cc786",
   "outputs": [],
   "execution_count": 11
  },
  {
   "metadata": {
    "ExecuteTime": {
     "end_time": "2024-12-20T22:08:28.957175Z",
     "start_time": "2024-12-20T22:08:28.836801Z"
    }
   },
   "cell_type": "code",
   "source": [
    "# This is better to cleanup the whole foreground model each time, and redefine it in the notebook (or a python file)\n",
    "# instead of relying on a state or previous run.\n",
    "# Any persistent state is prone to errors.\n",
    "agb.resetDb(USER_DB)\n",
    "\n",
    "# Parameters are stored at project level : \n",
    "# Reset them also\n",
    "# You may remove this line if you import a project and parameters from an external source (see loadParam(..))\n",
    "agb.resetParams()\n",
    "\n",
    "# Overview of the databases\n",
    "agb.list_databases()"
   ],
   "id": "25665a2f9ecbcfdf",
   "outputs": [
    {
     "name": "stderr",
     "output_type": "stream",
     "text": [
      "[WARNING] Db MyForeground was here. Reseting it\n"
     ]
    },
    {
     "data": {
      "text/plain": [
       "                       backend  nb_activities        type\n",
       "name                                                     \n",
       "biosphere3              sqlite           4718   biosphere\n",
       "ecoinvent-3.9.1-cutoff  sqlite          21238  background\n",
       "MyForeground            sqlite              0  foreground"
      ],
      "text/html": [
       "<div>\n",
       "<style scoped>\n",
       "    .dataframe tbody tr th:only-of-type {\n",
       "        vertical-align: middle;\n",
       "    }\n",
       "\n",
       "    .dataframe tbody tr th {\n",
       "        vertical-align: top;\n",
       "    }\n",
       "\n",
       "    .dataframe thead th {\n",
       "        text-align: right;\n",
       "    }\n",
       "</style>\n",
       "<table border=\"1\" class=\"dataframe\">\n",
       "  <thead>\n",
       "    <tr style=\"text-align: right;\">\n",
       "      <th></th>\n",
       "      <th>backend</th>\n",
       "      <th>nb_activities</th>\n",
       "      <th>type</th>\n",
       "    </tr>\n",
       "    <tr>\n",
       "      <th>name</th>\n",
       "      <th></th>\n",
       "      <th></th>\n",
       "      <th></th>\n",
       "    </tr>\n",
       "  </thead>\n",
       "  <tbody>\n",
       "    <tr>\n",
       "      <th>biosphere3</th>\n",
       "      <td>sqlite</td>\n",
       "      <td>4718</td>\n",
       "      <td>biosphere</td>\n",
       "    </tr>\n",
       "    <tr>\n",
       "      <th>ecoinvent-3.9.1-cutoff</th>\n",
       "      <td>sqlite</td>\n",
       "      <td>21238</td>\n",
       "      <td>background</td>\n",
       "    </tr>\n",
       "    <tr>\n",
       "      <th>MyForeground</th>\n",
       "      <td>sqlite</td>\n",
       "      <td>0</td>\n",
       "      <td>foreground</td>\n",
       "    </tr>\n",
       "  </tbody>\n",
       "</table>\n",
       "</div>"
      ]
     },
     "execution_count": 12,
     "metadata": {},
     "output_type": "execute_result"
    }
   ],
   "execution_count": 12
  },
  {
   "metadata": {},
   "cell_type": "markdown",
   "source": "# A few details on lca-algebraic",
   "id": "43bd598da81f7ad6"
  },
  {
   "metadata": {},
   "cell_type": "markdown",
   "source": "## Search for activities",
   "id": "518272bcee811f9"
  },
  {
   "metadata": {},
   "cell_type": "markdown",
   "source": [
    "* Activities related to biosphere with biosphere with `agb.findBioAct`\n",
    "* Activities related to biosphere with technosphere with `agb.findTechAct`\n",
    "* Activities with `agb.findActivity`"
   ],
   "id": "7c99ec0a27a51a24"
  },
  {
   "metadata": {},
   "cell_type": "markdown",
   "source": "## Distribution types",
   "id": "74c6a81631a2bc00"
  },
  {
   "metadata": {},
   "cell_type": "markdown",
   "source": [
    "**lca_algebraic** supports seven distribution types: \n",
    "- Fixed, not considered as a variable input for MC simulation\n",
    "- Uniform distribution between min and max\n",
    "- Triangle distribution between min and max (set to zero probability), with highest probability at default value\n",
    "- Normal distribution, centered on default value (mean), with deviation of std and truncated between min and max\n",
    "- Log-normal distribution, centered on default value (mean), with deviation of std, not truncated\n",
    "- Beta distribution with extra params a and b, using default value as ‘loc’ (0 of beta distribution) and std as ‘scale’ (1 of beta distribution)\n",
    "- Statistic weight"
   ],
   "id": "14d362f43d08f6b5"
  },
  {
   "metadata": {},
   "cell_type": "markdown",
   "source": "## Parameters types",
   "id": "5bf7a86df7204526"
  },
  {
   "metadata": {},
   "cell_type": "markdown",
   "source": [
    "**lca_algebraic** can define 3 types of parameters :\n",
    "* Float parameter, with `newFloatParam(...)`. The user should provide its name, unit and statistical distribution.\n",
    "* Bool parameter (e.g. 0 or 1), with `newBoolParam(...)`\n",
    "* Enum parameter which represent a set of mutually exclusive choices, that corresponds to the definition of several boolean parameters with newEnumParam(...) > for example, for an electricity mix, we have to choose one mix among others\n",
    "|\n"
   ],
   "id": "6b87f72a7f4d40f5"
  },
  {
   "metadata": {},
   "cell_type": "markdown",
   "source": "## Create, modify or switch activities",
   "id": "4494c4c613f105c6"
  },
  {
   "metadata": {},
   "cell_type": "markdown",
   "source": [
    "* Create a new activity with `agb.newActivity()`\n",
    "* Copy and modified an activity with `agb.copyActivity()`\n",
    "    * Change the value of a flow (with another number of mathematic formula) with `.updateExchanges`() \n",
    "    * Change a flow by another flow with `.updateExchanges`()\n",
    "    * Add a new flow with `.addExchanges`()\n",
    "    * Delete an existing flow with `.updateExchanges`()\n",
    "* Switch activity with `newSwitchAct`(), acting like a switch between several possibilities"
   ],
   "id": "8b15a19ca0258ed4"
  },
  {
   "metadata": {},
   "cell_type": "markdown",
   "source": "# Identify LCI of interests in EI",
   "id": "fa4e2b58a318cacc"
  },
  {
   "metadata": {},
   "cell_type": "markdown",
   "source": "After identifying the LCI of our choice, we need to make a copy to preserve the non-parametrized inventories",
   "id": "9f6962bf3ba31423"
  },
  {
   "metadata": {
    "ExecuteTime": {
     "end_time": "2024-12-20T22:08:42.554041Z",
     "start_time": "2024-12-20T22:08:42.306384Z"
    }
   },
   "cell_type": "code",
   "source": [
    "# Don't know why it finds 2 activities\n",
    "cu_mining_benef = findActivity('copper mine operation and beneficiation, sulfide ore', loc='CA', db_name=EI_DB,\n",
    "                               single=False)"
   ],
   "id": "fbd3b63073a626f7",
   "outputs": [],
   "execution_count": 13
  },
  {
   "metadata": {
    "ExecuteTime": {
     "end_time": "2024-12-20T22:08:51.340963Z",
     "start_time": "2024-12-20T22:08:43.383198Z"
    }
   },
   "cell_type": "code",
   "source": [
    "cu_mining = [act for act in EI_Database \n",
    "             if act[\"name\"] == 'copper mine operation and beneficiation, sulfide ore' \n",
    "             and act['location'] == 'CA'][0]"
   ],
   "id": "603116e2a0106710",
   "outputs": [],
   "execution_count": 14
  },
  {
   "metadata": {
    "ExecuteTime": {
     "end_time": "2024-12-20T22:08:52.177385Z",
     "start_time": "2024-12-20T22:08:51.357842Z"
    }
   },
   "cell_type": "code",
   "source": [
    "cu_mining_p = agb.copyActivity(\n",
    "    db_name=USER_DB,                            # Database where the new activity is copied\n",
    "    activity = cu_mining,                  # initial activity\n",
    "    code = \"copper mine operation and beneficiation, sulfide ore, parametrized\") "
   ],
   "id": "e8630c3fce4b31d7",
   "outputs": [],
   "execution_count": 15
  },
  {
   "metadata": {},
   "cell_type": "code",
   "outputs": [],
   "execution_count": null,
   "source": [
    "mine_open_cast = mine construction, open cast, non-ferrous metal GLO\n",
    "mine_underground = "
   ],
   "id": "6ed24ddab3cb9963"
  },
  {
   "metadata": {},
   "cell_type": "code",
   "outputs": [],
   "execution_count": null,
   "source": "",
   "id": "b7e8a37df3a17764"
  },
  {
   "metadata": {},
   "cell_type": "markdown",
   "source": "# Defining input parameters for the parametrization",
   "id": "42a2b269d077abf0"
  },
  {
   "metadata": {},
   "cell_type": "markdown",
   "source": "## Copper",
   "id": "43f7272337f96e9a"
  },
  {
   "metadata": {
    "ExecuteTime": {
     "end_time": "2024-12-20T22:09:24.461826Z",
     "start_time": "2024-12-20T22:09:24.448316Z"
    }
   },
   "cell_type": "code",
   "source": [
    "# From Ore grade notebooks\n",
    "cu_mean = 0.834055\n",
    "cu_min = 0.004\n",
    "cu_max = 7.92\n",
    "cu_std = 0.907797"
   ],
   "id": "34f4d6f93e1a39c1",
   "outputs": [],
   "execution_count": 16
  },
  {
   "metadata": {
    "ExecuteTime": {
     "end_time": "2024-12-20T22:09:24.998236Z",
     "start_time": "2024-12-20T22:09:24.982590Z"
    }
   },
   "cell_type": "code",
   "source": [
    "og_cu_world = newFloatParam(\n",
    "    'ore_grade_copper', \n",
    "    default=cu_mean,\n",
    "    std= cu_std,\n",
    "    min=cu_min,\n",
    "    max=cu_max,\n",
    "    unit='dimensionless',\n",
    "    distrib=DistributionType.NORMAL,\n",
    "    description=\"From statistical analysis of ore grade data from Mudd et al (2018)\",\n",
    "    label=\"Copper ore grade\",\n",
    "    dbname=USER_DB, \n",
    "    save=False #By default, new parameters are kept in memory but also persisted in the project (unless save=False)\n",
    ")"
   ],
   "id": "492681123f347bb0",
   "outputs": [],
   "execution_count": 17
  },
  {
   "metadata": {
    "ExecuteTime": {
     "end_time": "2024-12-20T22:09:26.822651Z",
     "start_time": "2024-12-20T22:09:25.975370Z"
    }
   },
   "cell_type": "code",
   "source": [
    "#If you print an lca_algebraic parameter, its name is printed but not its value\n",
    "og_cu_world"
   ],
   "id": "b0d9a7e8562fe350",
   "outputs": [
    {
     "data": {
      "text/plain": [
       "ore_grade_copper"
      ],
      "image/png": "[encoded data removed]",
      "text/latex": "$\\displaystyle ore_{grade copper}$"
     },
     "execution_count": 18,
     "metadata": {},
     "output_type": "execute_result"
    }
   ],
   "execution_count": 18
  },
  {
   "metadata": {
    "ExecuteTime": {
     "end_time": "2024-12-20T22:09:27.091476Z",
     "start_time": "2024-12-20T22:09:27.058814Z"
    }
   },
   "cell_type": "code",
   "source": [
    "#Print the name, default value and unit of one parameter\n",
    "(og_cu_world.name, og_cu_world.default, og_cu_world.unit)"
   ],
   "id": "384916eabdd3af2c",
   "outputs": [
    {
     "data": {
      "text/plain": [
       "('ore_grade_copper', 0.834055, 'dimensionless')"
      ]
     },
     "execution_count": 19,
     "metadata": {},
     "output_type": "execute_result"
    }
   ],
   "execution_count": 19
  },
  {
   "metadata": {
    "ExecuteTime": {
     "end_time": "2024-12-20T22:09:30.565656Z",
     "start_time": "2024-12-20T22:09:30.549947Z"
    }
   },
   "cell_type": "code",
   "source": [
    "mining_depth_cu = newFloatParam(\n",
    "    'mining_depth_copper', \n",
    "    default=cu_mean,\n",
    "    std= cu_std,\n",
    "    min=cu_min,\n",
    "    max=cu_max,\n",
    "    unit='dimensionless',\n",
    "    distrib=DistributionType.NORMAL,\n",
    "    description=\"mining depth copper\",\n",
    "    label=\"Mining depth copper\",\n",
    "    dbname=USER_DB, \n",
    "    save=False #By default, new parameters are kept in memory but also persisted in the project (unless save=False)\n",
    ")"
   ],
   "id": "1e63e417ff98bde9",
   "outputs": [],
   "execution_count": 20
  },
  {
   "metadata": {
    "ExecuteTime": {
     "end_time": "2024-12-20T22:09:31.468876Z",
     "start_time": "2024-12-20T22:09:31.454413Z"
    }
   },
   "cell_type": "code",
   "source": [
    "mining_technique_mix = {'open_pit':0.8,\n",
    "                'underground':0.2}"
   ],
   "id": "4abcf775ec591482",
   "outputs": [],
   "execution_count": 21
  },
  {
   "metadata": {
    "ExecuteTime": {
     "end_time": "2024-12-20T22:09:32.654254Z",
     "start_time": "2024-12-20T22:09:32.642837Z"
    }
   },
   "cell_type": "code",
   "source": [
    "mining_energy_mix = {'diesel':0.3,\n",
    "                        'electricity':0.7}"
   ],
   "id": "956e1d0448a7a635",
   "outputs": [],
   "execution_count": 22
  },
  {
   "metadata": {
    "ExecuteTime": {
     "end_time": "2024-12-20T22:10:13.805005Z",
     "start_time": "2024-12-20T22:10:13.773893Z"
    }
   },
   "cell_type": "code",
   "source": [
    "mining_electricity_switch = newEnumParam(\n",
    "    'mining_electricity_switch', \n",
    "    label='Mining electricity, grid or diesel',\n",
    "    values=['dieselgenerator',\n",
    "            'grid'], # You can provide a statistical weight for each value, by using a dict\n",
    "    default='dieselgenerator', \n",
    "    description=\"Choice of electricity source for mining\",\n",
    "    dbname=USER_DB)"
   ],
   "id": "7c04b8e77bc5ea7b",
   "outputs": [],
   "execution_count": 24
  },
  {
   "metadata": {
    "ExecuteTime": {
     "end_time": "2024-12-20T22:29:17.337595Z",
     "start_time": "2024-12-20T22:29:16.039586Z"
    }
   },
   "cell_type": "code",
   "source": [
    "diesel_generator = findActivity('market for diesel', loc='RoW', db_name=EI_DB)\n",
    "elec_grid        = findActivity('market group for electricity, high voltage', loc='CA', db_name=EI_DB)\n",
    "\n",
    "# Update exchanges by their name \n",
    "mining_elec_mix = newSwitchAct(USER_DB, \n",
    "    'mining_elec_mix', # Name\n",
    "    mining_electricity_switch, # Switch parameter\n",
    "    { # Dictionary of enum values / activities\n",
    "        'dieselgenerator' : diesel_generator, # in MJ\n",
    "        'grid' : (elec_grid, 1/3.6)  # in MJ (convert from kWh)\n",
    "    })"
   ],
   "id": "805ebac4f57c6035",
   "outputs": [],
   "execution_count": 32
  },
  {
   "metadata": {
    "ExecuteTime": {
     "end_time": "2024-12-20T22:29:59.336614Z",
     "start_time": "2024-12-20T22:29:59.320775Z"
    }
   },
   "cell_type": "code",
   "source": "mining_elec_mix",
   "id": "c412fd96fd95b954",
   "outputs": [
    {
     "data": {
      "text/plain": [
       "'mining_elec_mix' (kilowatt hour, GLO, None)"
      ]
     },
     "execution_count": 33,
     "metadata": {},
     "output_type": "execute_result"
    }
   ],
   "execution_count": 33
  },
  {
   "metadata": {
    "ExecuteTime": {
     "end_time": "2024-12-20T22:31:50.551665Z",
     "start_time": "2024-12-20T22:31:50.520861Z"
    }
   },
   "cell_type": "code",
   "source": [
    "elec_mix_country=agb.newEnumParam( \n",
    "    \"elec_mix_country\",                     # Short name\n",
    "    label=\"electrical mix\",        # label\n",
    "    description=\"region chosen for the electricity mix\", # Long description  \n",
    "    group=\"mining\",          # (optional) to class your parameters in group\n",
    "    values =[                       # Statistic weight of each option that fits with the market\n",
    "        \"Alberta\",\n",
    "        \"Quebec\"\n",
    "    ],\n",
    "    default=\"Quebec\",\n",
    "    dbname=USER_DB) "
   ],
   "id": "7aae8defa84e170b",
   "outputs": [],
   "execution_count": 41
  },
  {
   "metadata": {
    "ExecuteTime": {
     "end_time": "2024-12-20T22:31:54.240860Z",
     "start_time": "2024-12-20T22:31:51.595790Z"
    }
   },
   "cell_type": "code",
   "source": [
    "alberta_elec_mix=agb.findTechAct('market for electricity, high voltage','CA-AB')\n",
    "quebec_elec_mix=agb.findTechAct('market for electricity, high voltage','CA-QC')\n",
    "\n",
    "elec_mix = agb.newSwitchAct(\n",
    "                    USER_DB, # Database where the new activity is created\n",
    "                    \"electricity mix\",                                      \n",
    "                    elec_mix_country, #enum parameter that is used to switch the activity\n",
    "                            {\n",
    "                                \"Alberta\":alberta_elec_mix,\n",
    "                                \"Quebec\": quebec_elec_mix,\n",
    "                            })"
   ],
   "id": "fc4447d196fc0dec",
   "outputs": [
    {
     "name": "stderr",
     "output_type": "stream",
     "text": [
      "[WARNING] Activity 'electricity mix' was already in 'MyForeground'. Overwriting it\n"
     ]
    }
   ],
   "execution_count": 42
  },
  {
   "metadata": {
    "ExecuteTime": {
     "end_time": "2024-12-20T22:31:54.287424Z",
     "start_time": "2024-12-20T22:31:54.267614Z"
    }
   },
   "cell_type": "code",
   "source": "elec_mix",
   "id": "28e514c56f4cbedd",
   "outputs": [
    {
     "data": {
      "text/plain": [
       "'electricity mix' (kilowatt hour, GLO, None)"
      ]
     },
     "execution_count": 43,
     "metadata": {},
     "output_type": "execute_result"
    }
   ],
   "execution_count": 43
  },
  {
   "metadata": {},
   "cell_type": "markdown",
   "source": "## Nickel",
   "id": "2139b87d4697b09a"
  },
  {
   "metadata": {
    "ExecuteTime": {
     "end_time": "2024-12-20T22:31:54.435739Z",
     "start_time": "2024-12-20T22:31:54.413395Z"
    }
   },
   "cell_type": "code",
   "source": [
    "# From ore grade notebook\n",
    "ni_mean = 0.934864\n",
    "ni_min = 0.015\n",
    "ni_max = 3.99003\n",
    "ni_std = 0.842238"
   ],
   "id": "4be9e3ee38e95712",
   "outputs": [],
   "execution_count": 44
  },
  {
   "metadata": {
    "ExecuteTime": {
     "end_time": "2024-12-20T22:31:54.546405Z",
     "start_time": "2024-12-20T22:31:54.530342Z"
    }
   },
   "cell_type": "code",
   "source": [
    "og_ni_world = newFloatParam(\n",
    "    'ore_grade_nickel', \n",
    "    default=ni_mean,\n",
    "    std= ni_std,\n",
    "    min=ni_min,\n",
    "    max=ni_max,\n",
    "    unit='dimensionless',\n",
    "    distrib=DistributionType.NORMAL,\n",
    "    description=\"From statistical analysis of ore grade data from Mudd et al (2014)\",\n",
    "    label=\"Nickel ore grade\",\n",
    "    dbname=USER_DB, \n",
    "    save=False #By default, new parameters are kept in memory but also persisted in the project (unless save=False)\n",
    ")"
   ],
   "id": "f5956947f8f67f68",
   "outputs": [
    {
     "name": "stderr",
     "output_type": "stream",
     "text": [
      "[WARNING] [ParamRegistry] Param ore_grade_nickel was already defined in 'MyForeground' : overriding.\n"
     ]
    }
   ],
   "execution_count": 45
  },
  {
   "metadata": {
    "ExecuteTime": {
     "end_time": "2024-12-20T22:31:54.670750Z",
     "start_time": "2024-12-20T22:31:54.657748Z"
    }
   },
   "cell_type": "code",
   "source": "list_parameters() # recap of all parameters declared in the model ",
   "id": "81d4a248ec9f9593",
   "outputs": [
    {
     "data": {
      "text/plain": [
       "<IPython.core.display.HTML object>"
      ],
      "text/html": [
       "<table>\n",
       "<thead>\n",
       "<tr><th>group  </th><th>name                     </th><th>label                             </th><th>default        </th><th style=\"text-align: right;\">  min</th><th style=\"text-align: right;\">    max</th><th style=\"text-align: right;\">     std</th><th>distrib  </th><th>unit         </th><th>db          </th></tr>\n",
       "</thead>\n",
       "<tbody>\n",
       "<tr><td>       </td><td>mining_depth_copper      </td><td>Mining depth copper               </td><td>0.834055       </td><td style=\"text-align: right;\">0.004</td><td style=\"text-align: right;\">7.92   </td><td style=\"text-align: right;\">0.907797</td><td>normal   </td><td>dimensionless</td><td>MyForeground</td></tr>\n",
       "<tr><td>       </td><td>mining_electricity_switch</td><td>Mining electricity, grid or diesel</td><td>dieselgenerator</td><td style=\"text-align: right;\">     </td><td style=\"text-align: right;\">       </td><td style=\"text-align: right;\">        </td><td>         </td><td>             </td><td>MyForeground</td></tr>\n",
       "<tr><td>       </td><td>ore_grade_copper         </td><td>Copper ore grade                  </td><td>0.834055       </td><td style=\"text-align: right;\">0.004</td><td style=\"text-align: right;\">7.92   </td><td style=\"text-align: right;\">0.907797</td><td>normal   </td><td>dimensionless</td><td>MyForeground</td></tr>\n",
       "<tr><td>       </td><td>ore_grade_nickel         </td><td>Nickel ore grade                  </td><td>0.934864       </td><td style=\"text-align: right;\">0.015</td><td style=\"text-align: right;\">3.99003</td><td style=\"text-align: right;\">0.842238</td><td>normal   </td><td>dimensionless</td><td>MyForeground</td></tr>\n",
       "<tr><td>mining </td><td>elec_mix_country         </td><td>electrical mix                    </td><td>Quebec         </td><td style=\"text-align: right;\">     </td><td style=\"text-align: right;\">       </td><td style=\"text-align: right;\">        </td><td>         </td><td>             </td><td>[project]   </td></tr>\n",
       "<tr><td>mining </td><td>elec_mix_country         </td><td>electrical mix                    </td><td>Quebec         </td><td style=\"text-align: right;\">     </td><td style=\"text-align: right;\">       </td><td style=\"text-align: right;\">        </td><td>         </td><td>             </td><td>MyForeground</td></tr>\n",
       "</tbody>\n",
       "</table>"
      ]
     },
     "execution_count": 46,
     "metadata": {},
     "output_type": "execute_result"
    }
   ],
   "execution_count": 46
  },
  {
   "metadata": {},
   "cell_type": "markdown",
   "source": "# Transforming and updating parametrized inventories",
   "id": "336133cbdc012a96"
  },
  {
   "metadata": {
    "ExecuteTime": {
     "end_time": "2024-12-20T22:32:04.292269Z",
     "start_time": "2024-12-20T22:32:04.276289Z"
    }
   },
   "cell_type": "code",
   "source": [
    "# From Van der Voelt (2019), who source it from Valero et al. (2011); Norgate and Jahanshahi (2006) Northey et al. (2014)\n",
    "r_cu = 15.63\n",
    "q_cu = -0.53\n",
    "\n",
    "r_zinc = 77.65 \n",
    "q_zinc = -1\n",
    "\n",
    "r_pb = 75.42\n",
    "q_pb = -1\n",
    "\n",
    "r_ni_sulfide = 198.22\n",
    "q_ni_sulfide = -0.406\n",
    "\n",
    "r_ni_sulfide = 194.9\n",
    "q_ni_sulfide = -0.494"
   ],
   "id": "5535b755e9eee4ea",
   "outputs": [],
   "execution_count": 47
  },
  {
   "metadata": {
    "ExecuteTime": {
     "end_time": "2024-12-20T22:33:52.808029Z",
     "start_time": "2024-12-20T22:33:52.776436Z"
    }
   },
   "cell_type": "code",
   "source": [
    "# Update selected technosphere flow, it is the product name\n",
    "cu_mining_p.updateExchanges({\n",
    "    \"electricity, high voltage\": r_cu * np.power(og_cu_world, q_cu) # value or a mathematical formula, see energy_ore_grade function \n",
    "    \n",
    "    #\"diesel\": \n",
    "    \n",
    "    \n",
    "})"
   ],
   "id": "2a3b1e6ea08e340b",
   "outputs": [],
   "execution_count": 48
  },
  {
   "metadata": {
    "ExecuteTime": {
     "end_time": "2024-12-20T22:35:16.766834Z",
     "start_time": "2024-12-20T22:35:15.923288Z"
    }
   },
   "cell_type": "code",
   "source": [
    "cu_mining_p.updateExchanges({\n",
    "    # This is electricity\n",
    "    'electricity, medium voltage': dict(amount=mining_energy_mix['electricity'] * 2,\n",
    "                                                                              input=mining_energy_mix),\n",
    "    # This is diesel used as fuel\n",
    "    'diesel': mining_energy_mix['diesel'] * 3\n",
    "}\n",
    ")"
   ],
   "id": "51add8aef671c17c",
   "outputs": [
    {
     "ename": "ValueError",
     "evalue": "Provided input data is invalid",
     "output_type": "error",
     "traceback": [
      "\u001B[1;31m---------------------------------------------------------------------------\u001B[0m",
      "\u001B[1;31mValueError\u001B[0m                                Traceback (most recent call last)",
      "Cell \u001B[1;32mIn[51], line 1\u001B[0m\n\u001B[1;32m----> 1\u001B[0m \u001B[43mcu_mining_p\u001B[49m\u001B[38;5;241;43m.\u001B[39;49m\u001B[43mupdateExchanges\u001B[49m\u001B[43m(\u001B[49m\u001B[43m{\u001B[49m\n\u001B[0;32m      2\u001B[0m \u001B[43m    \u001B[49m\u001B[38;5;66;43;03m# This is electricity\u001B[39;49;00m\n\u001B[0;32m      3\u001B[0m \u001B[43m    \u001B[49m\u001B[38;5;124;43m'\u001B[39;49m\u001B[38;5;124;43melectricity, medium voltage\u001B[39;49m\u001B[38;5;124;43m'\u001B[39;49m\u001B[43m:\u001B[49m\u001B[43m \u001B[49m\u001B[38;5;28;43mdict\u001B[39;49m\u001B[43m(\u001B[49m\u001B[43mamount\u001B[49m\u001B[38;5;241;43m=\u001B[39;49m\u001B[43mmining_energy_mix\u001B[49m\u001B[43m[\u001B[49m\u001B[38;5;124;43m'\u001B[39;49m\u001B[38;5;124;43melectricity\u001B[39;49m\u001B[38;5;124;43m'\u001B[39;49m\u001B[43m]\u001B[49m\u001B[43m \u001B[49m\u001B[38;5;241;43m*\u001B[39;49m\u001B[43m \u001B[49m\u001B[38;5;241;43m2\u001B[39;49m\u001B[43m,\u001B[49m\n\u001B[0;32m      4\u001B[0m \u001B[43m                                                                              \u001B[49m\u001B[38;5;28;43minput\u001B[39;49m\u001B[38;5;241;43m=\u001B[39;49m\u001B[43mmining_energy_mix\u001B[49m\u001B[43m)\u001B[49m\u001B[43m,\u001B[49m\n\u001B[0;32m      5\u001B[0m \u001B[43m    \u001B[49m\u001B[38;5;66;43;03m# This is diesel used as fuel\u001B[39;49;00m\n\u001B[0;32m      6\u001B[0m \u001B[43m    \u001B[49m\u001B[38;5;124;43m'\u001B[39;49m\u001B[38;5;124;43mdiesel\u001B[39;49m\u001B[38;5;124;43m'\u001B[39;49m\u001B[43m:\u001B[49m\u001B[43m \u001B[49m\u001B[43mmining_energy_mix\u001B[49m\u001B[43m[\u001B[49m\u001B[38;5;124;43m'\u001B[39;49m\u001B[38;5;124;43mdiesel\u001B[39;49m\u001B[38;5;124;43m'\u001B[39;49m\u001B[43m]\u001B[49m\u001B[43m \u001B[49m\u001B[38;5;241;43m*\u001B[39;49m\u001B[43m \u001B[49m\u001B[38;5;241;43m3\u001B[39;49m\n\u001B[0;32m      7\u001B[0m \u001B[43m}\u001B[49m\n\u001B[0;32m      8\u001B[0m \u001B[43m)\u001B[49m\n",
      "File \u001B[1;32m~\\anaconda3\\envs\\lca-alg\\lib\\site-packages\\lca_algebraic\\database.py:209\u001B[0m, in \u001B[0;36mwith_db_context.<locals>.wrapper\u001B[1;34m(*args, **kwargs)\u001B[0m\n\u001B[0;32m    206\u001B[0m     \u001B[38;5;28;01mraise\u001B[39;00m \u001B[38;5;167;01mException\u001B[39;00m(\u001B[38;5;124m\"\u001B[39m\u001B[38;5;124mParam \u001B[39m\u001B[38;5;132;01m%s\u001B[39;00m\u001B[38;5;124m is neither an Activity or a db_name : \u001B[39m\u001B[38;5;132;01m%s\u001B[39;00m\u001B[38;5;124m\"\u001B[39m \u001B[38;5;241m%\u001B[39m (arg, val))\n\u001B[0;32m    208\u001B[0m \u001B[38;5;28;01mwith\u001B[39;00m DbContext(dbname):\n\u001B[1;32m--> 209\u001B[0m     \u001B[38;5;28;01mreturn\u001B[39;00m func(\u001B[38;5;241m*\u001B[39margs, \u001B[38;5;241m*\u001B[39m\u001B[38;5;241m*\u001B[39mkwargs)\n",
      "File \u001B[1;32m~\\anaconda3\\envs\\lca-alg\\lib\\site-packages\\lca_algebraic\\activity.py:171\u001B[0m, in \u001B[0;36mActivityExtended.updateExchanges\u001B[1;34m(self, updates)\u001B[0m\n\u001B[0;32m    169\u001B[0m     \u001B[38;5;28;01mcontinue\u001B[39;00m\n\u001B[0;32m    170\u001B[0m \u001B[38;5;28;01melse\u001B[39;00m:\n\u001B[1;32m--> 171\u001B[0m     \u001B[38;5;28;43mself\u001B[39;49m\u001B[38;5;241;43m.\u001B[39;49m\u001B[43m_update_exchange\u001B[49m\u001B[43m(\u001B[49m\u001B[43mexch\u001B[49m\u001B[43m,\u001B[49m\u001B[43m \u001B[49m\u001B[43mupdates\u001B[49m\u001B[43m)\u001B[49m\n",
      "File \u001B[1;32m~\\anaconda3\\envs\\lca-alg\\lib\\site-packages\\lca_algebraic\\activity.py:311\u001B[0m, in \u001B[0;36mActivityExtended._update_exchange\u001B[1;34m(self, exchange, updates)\u001B[0m\n\u001B[0;32m    307\u001B[0m     \u001B[38;5;66;03m# Extract formula if two separate field \"amount\" and \"formula\"\u001B[39;00m\n\u001B[0;32m    308\u001B[0m     \u001B[38;5;66;03m# Update the list of updates\u001B[39;00m\n\u001B[0;32m    309\u001B[0m     updates\u001B[38;5;241m.\u001B[39mupdate(\u001B[38;5;28mself\u001B[39m\u001B[38;5;241m.\u001B[39m_amount_to_formula(amount, exchange))\n\u001B[1;32m--> 311\u001B[0m \u001B[43mexchange\u001B[49m\u001B[38;5;241;43m.\u001B[39;49m\u001B[43mupdate\u001B[49m\u001B[43m(\u001B[49m\u001B[43mupdates\u001B[49m\u001B[43m)\u001B[49m\n\u001B[0;32m    312\u001B[0m exchange\u001B[38;5;241m.\u001B[39msave()\n",
      "File \u001B[1;32m~\\anaconda3\\envs\\lca-alg\\lib\\_collections_abc.py:999\u001B[0m, in \u001B[0;36mMutableMapping.update\u001B[1;34m(self, other, **kwds)\u001B[0m\n\u001B[0;32m    997\u001B[0m \u001B[38;5;28;01mif\u001B[39;00m \u001B[38;5;28misinstance\u001B[39m(other, Mapping):\n\u001B[0;32m    998\u001B[0m     \u001B[38;5;28;01mfor\u001B[39;00m key \u001B[38;5;129;01min\u001B[39;00m other:\n\u001B[1;32m--> 999\u001B[0m         \u001B[38;5;28mself\u001B[39m[key] \u001B[38;5;241m=\u001B[39m other[key]\n\u001B[0;32m   1000\u001B[0m \u001B[38;5;28;01melif\u001B[39;00m \u001B[38;5;28mhasattr\u001B[39m(other, \u001B[38;5;124m\"\u001B[39m\u001B[38;5;124mkeys\u001B[39m\u001B[38;5;124m\"\u001B[39m):\n\u001B[0;32m   1001\u001B[0m     \u001B[38;5;28;01mfor\u001B[39;00m key \u001B[38;5;129;01min\u001B[39;00m other\u001B[38;5;241m.\u001B[39mkeys():\n",
      "File \u001B[1;32m~\\anaconda3\\envs\\lca-alg\\lib\\site-packages\\bw2data\\proxies.py:189\u001B[0m, in \u001B[0;36mExchangeProxyBase.__setitem__\u001B[1;34m(self, key, value)\u001B[0m\n\u001B[0;32m    187\u001B[0m \u001B[38;5;28;01mdef\u001B[39;00m \u001B[38;5;21m__setitem__\u001B[39m(\u001B[38;5;28mself\u001B[39m, key, value):\n\u001B[0;32m    188\u001B[0m     \u001B[38;5;28;01mif\u001B[39;00m key \u001B[38;5;241m==\u001B[39m \u001B[38;5;124m'\u001B[39m\u001B[38;5;124minput\u001B[39m\u001B[38;5;124m'\u001B[39m:\n\u001B[1;32m--> 189\u001B[0m         \u001B[38;5;28mself\u001B[39m\u001B[38;5;241m.\u001B[39minput \u001B[38;5;241m=\u001B[39m value\n\u001B[0;32m    190\u001B[0m     \u001B[38;5;28;01melif\u001B[39;00m key \u001B[38;5;241m==\u001B[39m \u001B[38;5;124m'\u001B[39m\u001B[38;5;124moutput\u001B[39m\u001B[38;5;124m'\u001B[39m:\n\u001B[0;32m    191\u001B[0m         \u001B[38;5;28mself\u001B[39m\u001B[38;5;241m.\u001B[39moutput \u001B[38;5;241m=\u001B[39m value\n",
      "File \u001B[1;32m~\\anaconda3\\envs\\lca-alg\\lib\\site-packages\\bw2data\\proxies.py:161\u001B[0m, in \u001B[0;36mExchangeProxyBase._set_input\u001B[1;34m(self, value)\u001B[0m\n\u001B[0;32m    159\u001B[0m     \u001B[38;5;28mself\u001B[39m\u001B[38;5;241m.\u001B[39m_data[\u001B[38;5;124m'\u001B[39m\u001B[38;5;124minput\u001B[39m\u001B[38;5;124m'\u001B[39m] \u001B[38;5;241m=\u001B[39m value\n\u001B[0;32m    160\u001B[0m \u001B[38;5;28;01melse\u001B[39;00m:\n\u001B[1;32m--> 161\u001B[0m     \u001B[38;5;28;01mraise\u001B[39;00m \u001B[38;5;167;01mValueError\u001B[39;00m(\u001B[38;5;124m\"\u001B[39m\u001B[38;5;124mProvided input data is invalid\u001B[39m\u001B[38;5;124m\"\u001B[39m)\n",
      "\u001B[1;31mValueError\u001B[0m: Provided input data is invalid"
     ]
    }
   ],
   "execution_count": 51
  },
  {
   "metadata": {
    "ExecuteTime": {
     "end_time": "2024-12-20T22:35:44.805255Z",
     "start_time": "2024-12-20T22:35:44.552532Z"
    }
   },
   "cell_type": "code",
   "source": [
    "# Test add exchanges \n",
    "steel = agb.findTechAct('market for steel, low-alloyed, hot rolled')\n",
    "cu_mining_p.addExchanges({\n",
    "steel: 7.25*0.2 \n",
    "}\n",
    ")"
   ],
   "id": "7508458b8852e1cd",
   "outputs": [],
   "execution_count": 52
  },
  {
   "metadata": {
    "ExecuteTime": {
     "end_time": "2024-12-20T22:36:19.782990Z",
     "start_time": "2024-12-20T22:36:19.518794Z"
    }
   },
   "cell_type": "code",
   "source": [
    "# To compare between the initial and parametrized inventory\n",
    "agb.printAct(cu_mining, cu_mining_p)"
   ],
   "id": "6393d5179b20cae1",
   "outputs": [
    {
     "data": {
      "text/plain": [
       "<pandas.io.formats.style.Styler at 0x25c927f1f90>"
      ],
      "text/html": [
       "<style type=\"text/css\">\n",
       "#T_0ef92_row71_col1, #T_0ef92_row71_col4, #T_0ef92_row75_col0, #T_0ef92_row75_col1, #T_0ef92_row75_col3, #T_0ef92_row75_col4 {\n",
       "  background-color: yellow;\n",
       "}\n",
       "</style>\n",
       "<table id=\"T_0ef92\">\n",
       "  <thead>\n",
       "    <tr>\n",
       "      <th class=\"blank level0\" >&nbsp;</th>\n",
       "      <th id=\"T_0ef92_level0_col0\" class=\"col_heading level0 col0\" colspan=\"3\">copper mine operation and beneficiation, sulfide ore[CA] (1.000000 kilogram)</th>\n",
       "      <th id=\"T_0ef92_level0_col3\" class=\"col_heading level0 col3\" colspan=\"3\">copper mine operation and beneficiation, sulfide ore, parametrized[CA] (1.000000 kilogram)</th>\n",
       "    </tr>\n",
       "    <tr>\n",
       "      <th class=\"blank level1\" >&nbsp;</th>\n",
       "      <th id=\"T_0ef92_level1_col0\" class=\"col_heading level1 col0\" >input</th>\n",
       "      <th id=\"T_0ef92_level1_col1\" class=\"col_heading level1 col1\" >amount</th>\n",
       "      <th id=\"T_0ef92_level1_col2\" class=\"col_heading level1 col2\" >unit</th>\n",
       "      <th id=\"T_0ef92_level1_col3\" class=\"col_heading level1 col3\" >input</th>\n",
       "      <th id=\"T_0ef92_level1_col4\" class=\"col_heading level1 col4\" >amount</th>\n",
       "      <th id=\"T_0ef92_level1_col5\" class=\"col_heading level1 col5\" >unit</th>\n",
       "    </tr>\n",
       "  </thead>\n",
       "  <tbody>\n",
       "    <tr>\n",
       "      <th id=\"T_0ef92_level0_row0\" class=\"row_heading level0 row0\" >Aluminium III</th>\n",
       "      <td id=\"T_0ef92_row0_col0\" class=\"data row0 col0\" >Aluminium III</td>\n",
       "      <td id=\"T_0ef92_row0_col1\" class=\"data row0 col1\" >0.000001</td>\n",
       "      <td id=\"T_0ef92_row0_col2\" class=\"data row0 col2\" >kilogram</td>\n",
       "      <td id=\"T_0ef92_row0_col3\" class=\"data row0 col3\" >Aluminium III</td>\n",
       "      <td id=\"T_0ef92_row0_col4\" class=\"data row0 col4\" >0.000001</td>\n",
       "      <td id=\"T_0ef92_row0_col5\" class=\"data row0 col5\" >kilogram</td>\n",
       "    </tr>\n",
       "    <tr>\n",
       "      <th id=\"T_0ef92_level0_row1\" class=\"row_heading level0 row1\" >Antimony ion</th>\n",
       "      <td id=\"T_0ef92_row1_col0\" class=\"data row1 col0\" >Antimony ion</td>\n",
       "      <td id=\"T_0ef92_row1_col1\" class=\"data row1 col1\" >0.000000</td>\n",
       "      <td id=\"T_0ef92_row1_col2\" class=\"data row1 col2\" >kilogram</td>\n",
       "      <td id=\"T_0ef92_row1_col3\" class=\"data row1 col3\" >Antimony ion</td>\n",
       "      <td id=\"T_0ef92_row1_col4\" class=\"data row1 col4\" >0.000000</td>\n",
       "      <td id=\"T_0ef92_row1_col5\" class=\"data row1 col5\" >kilogram</td>\n",
       "    </tr>\n",
       "    <tr>\n",
       "      <th id=\"T_0ef92_level0_row2\" class=\"row_heading level0 row2\" >Arsenic ion</th>\n",
       "      <td id=\"T_0ef92_row2_col0\" class=\"data row2 col0\" >Arsenic ion</td>\n",
       "      <td id=\"T_0ef92_row2_col1\" class=\"data row2 col1\" >0.000000</td>\n",
       "      <td id=\"T_0ef92_row2_col2\" class=\"data row2 col2\" >kilogram</td>\n",
       "      <td id=\"T_0ef92_row2_col3\" class=\"data row2 col3\" >Arsenic ion</td>\n",
       "      <td id=\"T_0ef92_row2_col4\" class=\"data row2 col4\" >0.000000</td>\n",
       "      <td id=\"T_0ef92_row2_col5\" class=\"data row2 col5\" >kilogram</td>\n",
       "    </tr>\n",
       "    <tr>\n",
       "      <th id=\"T_0ef92_level0_row3\" class=\"row_heading level0 row3\" >Arsenic ion#1</th>\n",
       "      <td id=\"T_0ef92_row3_col0\" class=\"data row3 col0\" >Arsenic ion</td>\n",
       "      <td id=\"T_0ef92_row3_col1\" class=\"data row3 col1\" >0.000000</td>\n",
       "      <td id=\"T_0ef92_row3_col2\" class=\"data row3 col2\" >kilogram</td>\n",
       "      <td id=\"T_0ef92_row3_col3\" class=\"data row3 col3\" >Arsenic ion</td>\n",
       "      <td id=\"T_0ef92_row3_col4\" class=\"data row3 col4\" >0.000000</td>\n",
       "      <td id=\"T_0ef92_row3_col5\" class=\"data row3 col5\" >kilogram</td>\n",
       "    </tr>\n",
       "    <tr>\n",
       "      <th id=\"T_0ef92_level0_row4\" class=\"row_heading level0 row4\" >BOD5, Biological Oxygen Demand</th>\n",
       "      <td id=\"T_0ef92_row4_col0\" class=\"data row4 col0\" >BOD5, Biological Oxygen Demand</td>\n",
       "      <td id=\"T_0ef92_row4_col1\" class=\"data row4 col1\" >0.000170</td>\n",
       "      <td id=\"T_0ef92_row4_col2\" class=\"data row4 col2\" >kilogram</td>\n",
       "      <td id=\"T_0ef92_row4_col3\" class=\"data row4 col3\" >BOD5, Biological Oxygen Demand</td>\n",
       "      <td id=\"T_0ef92_row4_col4\" class=\"data row4 col4\" >0.000170</td>\n",
       "      <td id=\"T_0ef92_row4_col5\" class=\"data row4 col5\" >kilogram</td>\n",
       "    </tr>\n",
       "    <tr>\n",
       "      <th id=\"T_0ef92_level0_row5\" class=\"row_heading level0 row5\" >Barium II</th>\n",
       "      <td id=\"T_0ef92_row5_col0\" class=\"data row5 col0\" >Barium II</td>\n",
       "      <td id=\"T_0ef92_row5_col1\" class=\"data row5 col1\" >0.000000</td>\n",
       "      <td id=\"T_0ef92_row5_col2\" class=\"data row5 col2\" >kilogram</td>\n",
       "      <td id=\"T_0ef92_row5_col3\" class=\"data row5 col3\" >Barium II</td>\n",
       "      <td id=\"T_0ef92_row5_col4\" class=\"data row5 col4\" >0.000000</td>\n",
       "      <td id=\"T_0ef92_row5_col5\" class=\"data row5 col5\" >kilogram</td>\n",
       "    </tr>\n",
       "    <tr>\n",
       "      <th id=\"T_0ef92_level0_row6\" class=\"row_heading level0 row6\" >Beryllium II</th>\n",
       "      <td id=\"T_0ef92_row6_col0\" class=\"data row6 col0\" >Beryllium II</td>\n",
       "      <td id=\"T_0ef92_row6_col1\" class=\"data row6 col1\" >0.000000</td>\n",
       "      <td id=\"T_0ef92_row6_col2\" class=\"data row6 col2\" >kilogram</td>\n",
       "      <td id=\"T_0ef92_row6_col3\" class=\"data row6 col3\" >Beryllium II</td>\n",
       "      <td id=\"T_0ef92_row6_col4\" class=\"data row6 col4\" >0.000000</td>\n",
       "      <td id=\"T_0ef92_row6_col5\" class=\"data row6 col5\" >kilogram</td>\n",
       "    </tr>\n",
       "    <tr>\n",
       "      <th id=\"T_0ef92_level0_row7\" class=\"row_heading level0 row7\" >Boron</th>\n",
       "      <td id=\"T_0ef92_row7_col0\" class=\"data row7 col0\" >Boron</td>\n",
       "      <td id=\"T_0ef92_row7_col1\" class=\"data row7 col1\" >0.000000</td>\n",
       "      <td id=\"T_0ef92_row7_col2\" class=\"data row7 col2\" >kilogram</td>\n",
       "      <td id=\"T_0ef92_row7_col3\" class=\"data row7 col3\" >Boron</td>\n",
       "      <td id=\"T_0ef92_row7_col4\" class=\"data row7 col4\" >0.000000</td>\n",
       "      <td id=\"T_0ef92_row7_col5\" class=\"data row7 col5\" >kilogram</td>\n",
       "    </tr>\n",
       "    <tr>\n",
       "      <th id=\"T_0ef92_level0_row8\" class=\"row_heading level0 row8\" >COD, Chemical Oxygen Demand</th>\n",
       "      <td id=\"T_0ef92_row8_col0\" class=\"data row8 col0\" >COD, Chemical Oxygen Demand</td>\n",
       "      <td id=\"T_0ef92_row8_col1\" class=\"data row8 col1\" >0.000170</td>\n",
       "      <td id=\"T_0ef92_row8_col2\" class=\"data row8 col2\" >kilogram</td>\n",
       "      <td id=\"T_0ef92_row8_col3\" class=\"data row8 col3\" >COD, Chemical Oxygen Demand</td>\n",
       "      <td id=\"T_0ef92_row8_col4\" class=\"data row8 col4\" >0.000170</td>\n",
       "      <td id=\"T_0ef92_row8_col5\" class=\"data row8 col5\" >kilogram</td>\n",
       "    </tr>\n",
       "    <tr>\n",
       "      <th id=\"T_0ef92_level0_row9\" class=\"row_heading level0 row9\" >Cadmium II</th>\n",
       "      <td id=\"T_0ef92_row9_col0\" class=\"data row9 col0\" >Cadmium II</td>\n",
       "      <td id=\"T_0ef92_row9_col1\" class=\"data row9 col1\" >0.000000</td>\n",
       "      <td id=\"T_0ef92_row9_col2\" class=\"data row9 col2\" >kilogram</td>\n",
       "      <td id=\"T_0ef92_row9_col3\" class=\"data row9 col3\" >Cadmium II</td>\n",
       "      <td id=\"T_0ef92_row9_col4\" class=\"data row9 col4\" >0.000000</td>\n",
       "      <td id=\"T_0ef92_row9_col5\" class=\"data row9 col5\" >kilogram</td>\n",
       "    </tr>\n",
       "    <tr>\n",
       "      <th id=\"T_0ef92_level0_row10\" class=\"row_heading level0 row10\" >Cadmium II#1</th>\n",
       "      <td id=\"T_0ef92_row10_col0\" class=\"data row10 col0\" >Cadmium II</td>\n",
       "      <td id=\"T_0ef92_row10_col1\" class=\"data row10 col1\" >0.000000</td>\n",
       "      <td id=\"T_0ef92_row10_col2\" class=\"data row10 col2\" >kilogram</td>\n",
       "      <td id=\"T_0ef92_row10_col3\" class=\"data row10 col3\" >Cadmium II</td>\n",
       "      <td id=\"T_0ef92_row10_col4\" class=\"data row10 col4\" >0.000000</td>\n",
       "      <td id=\"T_0ef92_row10_col5\" class=\"data row10 col5\" >kilogram</td>\n",
       "    </tr>\n",
       "    <tr>\n",
       "      <th id=\"T_0ef92_level0_row11\" class=\"row_heading level0 row11\" >Calcium II</th>\n",
       "      <td id=\"T_0ef92_row11_col0\" class=\"data row11 col0\" >Calcium II</td>\n",
       "      <td id=\"T_0ef92_row11_col1\" class=\"data row11 col1\" >0.011200</td>\n",
       "      <td id=\"T_0ef92_row11_col2\" class=\"data row11 col2\" >kilogram</td>\n",
       "      <td id=\"T_0ef92_row11_col3\" class=\"data row11 col3\" >Calcium II</td>\n",
       "      <td id=\"T_0ef92_row11_col4\" class=\"data row11 col4\" >0.011200</td>\n",
       "      <td id=\"T_0ef92_row11_col5\" class=\"data row11 col5\" >kilogram</td>\n",
       "    </tr>\n",
       "    <tr>\n",
       "      <th id=\"T_0ef92_level0_row12\" class=\"row_heading level0 row12\" >Carbon dioxide, fossil</th>\n",
       "      <td id=\"T_0ef92_row12_col0\" class=\"data row12 col0\" >Carbon dioxide, fossil</td>\n",
       "      <td id=\"T_0ef92_row12_col1\" class=\"data row12 col1\" >0.052063</td>\n",
       "      <td id=\"T_0ef92_row12_col2\" class=\"data row12 col2\" >kilogram</td>\n",
       "      <td id=\"T_0ef92_row12_col3\" class=\"data row12 col3\" >Carbon dioxide, fossil</td>\n",
       "      <td id=\"T_0ef92_row12_col4\" class=\"data row12 col4\" >0.052063</td>\n",
       "      <td id=\"T_0ef92_row12_col5\" class=\"data row12 col5\" >kilogram</td>\n",
       "    </tr>\n",
       "    <tr>\n",
       "      <th id=\"T_0ef92_level0_row13\" class=\"row_heading level0 row13\" >Carbon disulfide</th>\n",
       "      <td id=\"T_0ef92_row13_col0\" class=\"data row13 col0\" >Carbon disulfide</td>\n",
       "      <td id=\"T_0ef92_row13_col1\" class=\"data row13 col1\" >0.009120</td>\n",
       "      <td id=\"T_0ef92_row13_col2\" class=\"data row13 col2\" >kilogram</td>\n",
       "      <td id=\"T_0ef92_row13_col3\" class=\"data row13 col3\" >Carbon disulfide</td>\n",
       "      <td id=\"T_0ef92_row13_col4\" class=\"data row13 col4\" >0.009120</td>\n",
       "      <td id=\"T_0ef92_row13_col5\" class=\"data row13 col5\" >kilogram</td>\n",
       "    </tr>\n",
       "    <tr>\n",
       "      <th id=\"T_0ef92_level0_row14\" class=\"row_heading level0 row14\" >Chromium III</th>\n",
       "      <td id=\"T_0ef92_row14_col0\" class=\"data row14 col0\" >Chromium III</td>\n",
       "      <td id=\"T_0ef92_row14_col1\" class=\"data row14 col1\" >0.000004</td>\n",
       "      <td id=\"T_0ef92_row14_col2\" class=\"data row14 col2\" >kilogram</td>\n",
       "      <td id=\"T_0ef92_row14_col3\" class=\"data row14 col3\" >Chromium III</td>\n",
       "      <td id=\"T_0ef92_row14_col4\" class=\"data row14 col4\" >0.000004</td>\n",
       "      <td id=\"T_0ef92_row14_col5\" class=\"data row14 col5\" >kilogram</td>\n",
       "    </tr>\n",
       "    <tr>\n",
       "      <th id=\"T_0ef92_level0_row15\" class=\"row_heading level0 row15\" >Chromium III#1</th>\n",
       "      <td id=\"T_0ef92_row15_col0\" class=\"data row15 col0\" >Chromium III</td>\n",
       "      <td id=\"T_0ef92_row15_col1\" class=\"data row15 col1\" >0.000000</td>\n",
       "      <td id=\"T_0ef92_row15_col2\" class=\"data row15 col2\" >kilogram</td>\n",
       "      <td id=\"T_0ef92_row15_col3\" class=\"data row15 col3\" >Chromium III</td>\n",
       "      <td id=\"T_0ef92_row15_col4\" class=\"data row15 col4\" >0.000000</td>\n",
       "      <td id=\"T_0ef92_row15_col5\" class=\"data row15 col5\" >kilogram</td>\n",
       "    </tr>\n",
       "    <tr>\n",
       "      <th id=\"T_0ef92_level0_row16\" class=\"row_heading level0 row16\" >Cobalt II</th>\n",
       "      <td id=\"T_0ef92_row16_col0\" class=\"data row16 col0\" >Cobalt II</td>\n",
       "      <td id=\"T_0ef92_row16_col1\" class=\"data row16 col1\" >0.000001</td>\n",
       "      <td id=\"T_0ef92_row16_col2\" class=\"data row16 col2\" >kilogram</td>\n",
       "      <td id=\"T_0ef92_row16_col3\" class=\"data row16 col3\" >Cobalt II</td>\n",
       "      <td id=\"T_0ef92_row16_col4\" class=\"data row16 col4\" >0.000001</td>\n",
       "      <td id=\"T_0ef92_row16_col5\" class=\"data row16 col5\" >kilogram</td>\n",
       "    </tr>\n",
       "    <tr>\n",
       "      <th id=\"T_0ef92_level0_row17\" class=\"row_heading level0 row17\" >Cobalt II#1</th>\n",
       "      <td id=\"T_0ef92_row17_col0\" class=\"data row17 col0\" >Cobalt II</td>\n",
       "      <td id=\"T_0ef92_row17_col1\" class=\"data row17 col1\" >0.000000</td>\n",
       "      <td id=\"T_0ef92_row17_col2\" class=\"data row17 col2\" >kilogram</td>\n",
       "      <td id=\"T_0ef92_row17_col3\" class=\"data row17 col3\" >Cobalt II</td>\n",
       "      <td id=\"T_0ef92_row17_col4\" class=\"data row17 col4\" >0.000000</td>\n",
       "      <td id=\"T_0ef92_row17_col5\" class=\"data row17 col5\" >kilogram</td>\n",
       "    </tr>\n",
       "    <tr>\n",
       "      <th id=\"T_0ef92_level0_row18\" class=\"row_heading level0 row18\" >Copper</th>\n",
       "      <td id=\"T_0ef92_row18_col0\" class=\"data row18 col0\" >Copper</td>\n",
       "      <td id=\"T_0ef92_row18_col1\" class=\"data row18 col1\" >0.282734</td>\n",
       "      <td id=\"T_0ef92_row18_col2\" class=\"data row18 col2\" >kilogram</td>\n",
       "      <td id=\"T_0ef92_row18_col3\" class=\"data row18 col3\" >Copper</td>\n",
       "      <td id=\"T_0ef92_row18_col4\" class=\"data row18 col4\" >0.282734</td>\n",
       "      <td id=\"T_0ef92_row18_col5\" class=\"data row18 col5\" >kilogram</td>\n",
       "    </tr>\n",
       "    <tr>\n",
       "      <th id=\"T_0ef92_level0_row19\" class=\"row_heading level0 row19\" >Copper ion</th>\n",
       "      <td id=\"T_0ef92_row19_col0\" class=\"data row19 col0\" >Copper ion</td>\n",
       "      <td id=\"T_0ef92_row19_col1\" class=\"data row19 col1\" >0.000002</td>\n",
       "      <td id=\"T_0ef92_row19_col2\" class=\"data row19 col2\" >kilogram</td>\n",
       "      <td id=\"T_0ef92_row19_col3\" class=\"data row19 col3\" >Copper ion</td>\n",
       "      <td id=\"T_0ef92_row19_col4\" class=\"data row19 col4\" >0.000002</td>\n",
       "      <td id=\"T_0ef92_row19_col5\" class=\"data row19 col5\" >kilogram</td>\n",
       "    </tr>\n",
       "    <tr>\n",
       "      <th id=\"T_0ef92_level0_row20\" class=\"row_heading level0 row20\" >Copper ion#1</th>\n",
       "      <td id=\"T_0ef92_row20_col0\" class=\"data row20 col0\" >Copper ion</td>\n",
       "      <td id=\"T_0ef92_row20_col1\" class=\"data row20 col1\" >0.000000</td>\n",
       "      <td id=\"T_0ef92_row20_col2\" class=\"data row20 col2\" >kilogram</td>\n",
       "      <td id=\"T_0ef92_row20_col3\" class=\"data row20 col3\" >Copper ion</td>\n",
       "      <td id=\"T_0ef92_row20_col4\" class=\"data row20 col4\" >0.000000</td>\n",
       "      <td id=\"T_0ef92_row20_col5\" class=\"data row20 col5\" >kilogram</td>\n",
       "    </tr>\n",
       "    <tr>\n",
       "      <th id=\"T_0ef92_level0_row21\" class=\"row_heading level0 row21\" >Cyanide</th>\n",
       "      <td id=\"T_0ef92_row21_col0\" class=\"data row21 col0\" >Cyanide</td>\n",
       "      <td id=\"T_0ef92_row21_col1\" class=\"data row21 col1\" >0.000000</td>\n",
       "      <td id=\"T_0ef92_row21_col2\" class=\"data row21 col2\" >kilogram</td>\n",
       "      <td id=\"T_0ef92_row21_col3\" class=\"data row21 col3\" >Cyanide</td>\n",
       "      <td id=\"T_0ef92_row21_col4\" class=\"data row21 col4\" >0.000000</td>\n",
       "      <td id=\"T_0ef92_row21_col5\" class=\"data row21 col5\" >kilogram</td>\n",
       "    </tr>\n",
       "    <tr>\n",
       "      <th id=\"T_0ef92_level0_row22\" class=\"row_heading level0 row22\" >Cyanide#1</th>\n",
       "      <td id=\"T_0ef92_row22_col0\" class=\"data row22 col0\" >Cyanide</td>\n",
       "      <td id=\"T_0ef92_row22_col1\" class=\"data row22 col1\" >0.000056</td>\n",
       "      <td id=\"T_0ef92_row22_col2\" class=\"data row22 col2\" >kilogram</td>\n",
       "      <td id=\"T_0ef92_row22_col3\" class=\"data row22 col3\" >Cyanide</td>\n",
       "      <td id=\"T_0ef92_row22_col4\" class=\"data row22 col4\" >0.000056</td>\n",
       "      <td id=\"T_0ef92_row22_col5\" class=\"data row22 col5\" >kilogram</td>\n",
       "    </tr>\n",
       "    <tr>\n",
       "      <th id=\"T_0ef92_level0_row23\" class=\"row_heading level0 row23\" >DOC, Dissolved Organic Carbon</th>\n",
       "      <td id=\"T_0ef92_row23_col0\" class=\"data row23 col0\" >DOC, Dissolved Organic Carbon</td>\n",
       "      <td id=\"T_0ef92_row23_col1\" class=\"data row23 col1\" >0.000067</td>\n",
       "      <td id=\"T_0ef92_row23_col2\" class=\"data row23 col2\" >kilogram</td>\n",
       "      <td id=\"T_0ef92_row23_col3\" class=\"data row23 col3\" >DOC, Dissolved Organic Carbon</td>\n",
       "      <td id=\"T_0ef92_row23_col4\" class=\"data row23 col4\" >0.000067</td>\n",
       "      <td id=\"T_0ef92_row23_col5\" class=\"data row23 col5\" >kilogram</td>\n",
       "    </tr>\n",
       "    <tr>\n",
       "      <th id=\"T_0ef92_level0_row24\" class=\"row_heading level0 row24\" >Dissolved solids</th>\n",
       "      <td id=\"T_0ef92_row24_col0\" class=\"data row24 col0\" >Dissolved solids</td>\n",
       "      <td id=\"T_0ef92_row24_col1\" class=\"data row24 col1\" >0.000084</td>\n",
       "      <td id=\"T_0ef92_row24_col2\" class=\"data row24 col2\" >kilogram</td>\n",
       "      <td id=\"T_0ef92_row24_col3\" class=\"data row24 col3\" >Dissolved solids</td>\n",
       "      <td id=\"T_0ef92_row24_col4\" class=\"data row24 col4\" >0.000084</td>\n",
       "      <td id=\"T_0ef92_row24_col5\" class=\"data row24 col5\" >kilogram</td>\n",
       "    </tr>\n",
       "    <tr>\n",
       "      <th id=\"T_0ef92_level0_row25\" class=\"row_heading level0 row25\" >Fluorine</th>\n",
       "      <td id=\"T_0ef92_row25_col0\" class=\"data row25 col0\" >Fluorine</td>\n",
       "      <td id=\"T_0ef92_row25_col1\" class=\"data row25 col1\" >0.000040</td>\n",
       "      <td id=\"T_0ef92_row25_col2\" class=\"data row25 col2\" >kilogram</td>\n",
       "      <td id=\"T_0ef92_row25_col3\" class=\"data row25 col3\" >Fluorine</td>\n",
       "      <td id=\"T_0ef92_row25_col4\" class=\"data row25 col4\" >0.000040</td>\n",
       "      <td id=\"T_0ef92_row25_col5\" class=\"data row25 col5\" >kilogram</td>\n",
       "    </tr>\n",
       "    <tr>\n",
       "      <th id=\"T_0ef92_level0_row26\" class=\"row_heading level0 row26\" >Gangue</th>\n",
       "      <td id=\"T_0ef92_row26_col0\" class=\"data row26 col0\" >Gangue</td>\n",
       "      <td id=\"T_0ef92_row26_col1\" class=\"data row26 col1\" >174.103734</td>\n",
       "      <td id=\"T_0ef92_row26_col2\" class=\"data row26 col2\" >kilogram</td>\n",
       "      <td id=\"T_0ef92_row26_col3\" class=\"data row26 col3\" >Gangue</td>\n",
       "      <td id=\"T_0ef92_row26_col4\" class=\"data row26 col4\" >174.103734</td>\n",
       "      <td id=\"T_0ef92_row26_col5\" class=\"data row26 col5\" >kilogram</td>\n",
       "    </tr>\n",
       "    <tr>\n",
       "      <th id=\"T_0ef92_level0_row27\" class=\"row_heading level0 row27\" >Gold</th>\n",
       "      <td id=\"T_0ef92_row27_col0\" class=\"data row27 col0\" >Gold</td>\n",
       "      <td id=\"T_0ef92_row27_col1\" class=\"data row27 col1\" >0.000003</td>\n",
       "      <td id=\"T_0ef92_row27_col2\" class=\"data row27 col2\" >kilogram</td>\n",
       "      <td id=\"T_0ef92_row27_col3\" class=\"data row27 col3\" >Gold</td>\n",
       "      <td id=\"T_0ef92_row27_col4\" class=\"data row27 col4\" >0.000003</td>\n",
       "      <td id=\"T_0ef92_row27_col5\" class=\"data row27 col5\" >kilogram</td>\n",
       "    </tr>\n",
       "    <tr>\n",
       "      <th id=\"T_0ef92_level0_row28\" class=\"row_heading level0 row28\" >Iron ion</th>\n",
       "      <td id=\"T_0ef92_row28_col0\" class=\"data row28 col0\" >Iron ion</td>\n",
       "      <td id=\"T_0ef92_row28_col1\" class=\"data row28 col1\" >0.000005</td>\n",
       "      <td id=\"T_0ef92_row28_col2\" class=\"data row28 col2\" >kilogram</td>\n",
       "      <td id=\"T_0ef92_row28_col3\" class=\"data row28 col3\" >Iron ion</td>\n",
       "      <td id=\"T_0ef92_row28_col4\" class=\"data row28 col4\" >0.000005</td>\n",
       "      <td id=\"T_0ef92_row28_col5\" class=\"data row28 col5\" >kilogram</td>\n",
       "    </tr>\n",
       "    <tr>\n",
       "      <th id=\"T_0ef92_level0_row29\" class=\"row_heading level0 row29\" >Lead II</th>\n",
       "      <td id=\"T_0ef92_row29_col0\" class=\"data row29 col0\" >Lead II</td>\n",
       "      <td id=\"T_0ef92_row29_col1\" class=\"data row29 col1\" >0.000001</td>\n",
       "      <td id=\"T_0ef92_row29_col2\" class=\"data row29 col2\" >kilogram</td>\n",
       "      <td id=\"T_0ef92_row29_col3\" class=\"data row29 col3\" >Lead II</td>\n",
       "      <td id=\"T_0ef92_row29_col4\" class=\"data row29 col4\" >0.000001</td>\n",
       "      <td id=\"T_0ef92_row29_col5\" class=\"data row29 col5\" >kilogram</td>\n",
       "    </tr>\n",
       "    <tr>\n",
       "      <th id=\"T_0ef92_level0_row30\" class=\"row_heading level0 row30\" >Lead II#1</th>\n",
       "      <td id=\"T_0ef92_row30_col0\" class=\"data row30 col0\" >Lead II</td>\n",
       "      <td id=\"T_0ef92_row30_col1\" class=\"data row30 col1\" >0.000000</td>\n",
       "      <td id=\"T_0ef92_row30_col2\" class=\"data row30 col2\" >kilogram</td>\n",
       "      <td id=\"T_0ef92_row30_col3\" class=\"data row30 col3\" >Lead II</td>\n",
       "      <td id=\"T_0ef92_row30_col4\" class=\"data row30 col4\" >0.000000</td>\n",
       "      <td id=\"T_0ef92_row30_col5\" class=\"data row30 col5\" >kilogram</td>\n",
       "    </tr>\n",
       "    <tr>\n",
       "      <th id=\"T_0ef92_level0_row31\" class=\"row_heading level0 row31\" >Manganese II</th>\n",
       "      <td id=\"T_0ef92_row31_col0\" class=\"data row31 col0\" >Manganese II</td>\n",
       "      <td id=\"T_0ef92_row31_col1\" class=\"data row31 col1\" >0.000040</td>\n",
       "      <td id=\"T_0ef92_row31_col2\" class=\"data row31 col2\" >kilogram</td>\n",
       "      <td id=\"T_0ef92_row31_col3\" class=\"data row31 col3\" >Manganese II</td>\n",
       "      <td id=\"T_0ef92_row31_col4\" class=\"data row31 col4\" >0.000040</td>\n",
       "      <td id=\"T_0ef92_row31_col5\" class=\"data row31 col5\" >kilogram</td>\n",
       "    </tr>\n",
       "    <tr>\n",
       "      <th id=\"T_0ef92_level0_row32\" class=\"row_heading level0 row32\" >Manganese II#1</th>\n",
       "      <td id=\"T_0ef92_row32_col0\" class=\"data row32 col0\" >Manganese II</td>\n",
       "      <td id=\"T_0ef92_row32_col1\" class=\"data row32 col1\" >0.000000</td>\n",
       "      <td id=\"T_0ef92_row32_col2\" class=\"data row32 col2\" >kilogram</td>\n",
       "      <td id=\"T_0ef92_row32_col3\" class=\"data row32 col3\" >Manganese II</td>\n",
       "      <td id=\"T_0ef92_row32_col4\" class=\"data row32 col4\" >0.000000</td>\n",
       "      <td id=\"T_0ef92_row32_col5\" class=\"data row32 col5\" >kilogram</td>\n",
       "    </tr>\n",
       "    <tr>\n",
       "      <th id=\"T_0ef92_level0_row33\" class=\"row_heading level0 row33\" >Mercury II</th>\n",
       "      <td id=\"T_0ef92_row33_col0\" class=\"data row33 col0\" >Mercury II</td>\n",
       "      <td id=\"T_0ef92_row33_col1\" class=\"data row33 col1\" >0.000000</td>\n",
       "      <td id=\"T_0ef92_row33_col2\" class=\"data row33 col2\" >kilogram</td>\n",
       "      <td id=\"T_0ef92_row33_col3\" class=\"data row33 col3\" >Mercury II</td>\n",
       "      <td id=\"T_0ef92_row33_col4\" class=\"data row33 col4\" >0.000000</td>\n",
       "      <td id=\"T_0ef92_row33_col5\" class=\"data row33 col5\" >kilogram</td>\n",
       "    </tr>\n",
       "    <tr>\n",
       "      <th id=\"T_0ef92_level0_row34\" class=\"row_heading level0 row34\" >Mercury II#1</th>\n",
       "      <td id=\"T_0ef92_row34_col0\" class=\"data row34 col0\" >Mercury II</td>\n",
       "      <td id=\"T_0ef92_row34_col1\" class=\"data row34 col1\" >0.000000</td>\n",
       "      <td id=\"T_0ef92_row34_col2\" class=\"data row34 col2\" >kilogram</td>\n",
       "      <td id=\"T_0ef92_row34_col3\" class=\"data row34 col3\" >Mercury II</td>\n",
       "      <td id=\"T_0ef92_row34_col4\" class=\"data row34 col4\" >0.000000</td>\n",
       "      <td id=\"T_0ef92_row34_col5\" class=\"data row34 col5\" >kilogram</td>\n",
       "    </tr>\n",
       "    <tr>\n",
       "      <th id=\"T_0ef92_level0_row35\" class=\"row_heading level0 row35\" >Molybdenum</th>\n",
       "      <td id=\"T_0ef92_row35_col0\" class=\"data row35 col0\" >Molybdenum</td>\n",
       "      <td id=\"T_0ef92_row35_col1\" class=\"data row35 col1\" >0.001196</td>\n",
       "      <td id=\"T_0ef92_row35_col2\" class=\"data row35 col2\" >kilogram</td>\n",
       "      <td id=\"T_0ef92_row35_col3\" class=\"data row35 col3\" >Molybdenum</td>\n",
       "      <td id=\"T_0ef92_row35_col4\" class=\"data row35 col4\" >0.001196</td>\n",
       "      <td id=\"T_0ef92_row35_col5\" class=\"data row35 col5\" >kilogram</td>\n",
       "    </tr>\n",
       "    <tr>\n",
       "      <th id=\"T_0ef92_level0_row36\" class=\"row_heading level0 row36\" >Molybdenum VI</th>\n",
       "      <td id=\"T_0ef92_row36_col0\" class=\"data row36 col0\" >Molybdenum VI</td>\n",
       "      <td id=\"T_0ef92_row36_col1\" class=\"data row36 col1\" >0.000000</td>\n",
       "      <td id=\"T_0ef92_row36_col2\" class=\"data row36 col2\" >kilogram</td>\n",
       "      <td id=\"T_0ef92_row36_col3\" class=\"data row36 col3\" >Molybdenum VI</td>\n",
       "      <td id=\"T_0ef92_row36_col4\" class=\"data row36 col4\" >0.000000</td>\n",
       "      <td id=\"T_0ef92_row36_col5\" class=\"data row36 col5\" >kilogram</td>\n",
       "    </tr>\n",
       "    <tr>\n",
       "      <th id=\"T_0ef92_level0_row37\" class=\"row_heading level0 row37\" >Nickel II</th>\n",
       "      <td id=\"T_0ef92_row37_col0\" class=\"data row37 col0\" >Nickel II</td>\n",
       "      <td id=\"T_0ef92_row37_col1\" class=\"data row37 col1\" >0.000003</td>\n",
       "      <td id=\"T_0ef92_row37_col2\" class=\"data row37 col2\" >kilogram</td>\n",
       "      <td id=\"T_0ef92_row37_col3\" class=\"data row37 col3\" >Nickel II</td>\n",
       "      <td id=\"T_0ef92_row37_col4\" class=\"data row37 col4\" >0.000003</td>\n",
       "      <td id=\"T_0ef92_row37_col5\" class=\"data row37 col5\" >kilogram</td>\n",
       "    </tr>\n",
       "    <tr>\n",
       "      <th id=\"T_0ef92_level0_row38\" class=\"row_heading level0 row38\" >Nickel II#1</th>\n",
       "      <td id=\"T_0ef92_row38_col0\" class=\"data row38 col0\" >Nickel II</td>\n",
       "      <td id=\"T_0ef92_row38_col1\" class=\"data row38 col1\" >0.000000</td>\n",
       "      <td id=\"T_0ef92_row38_col2\" class=\"data row38 col2\" >kilogram</td>\n",
       "      <td id=\"T_0ef92_row38_col3\" class=\"data row38 col3\" >Nickel II</td>\n",
       "      <td id=\"T_0ef92_row38_col4\" class=\"data row38 col4\" >0.000000</td>\n",
       "      <td id=\"T_0ef92_row38_col5\" class=\"data row38 col5\" >kilogram</td>\n",
       "    </tr>\n",
       "    <tr>\n",
       "      <th id=\"T_0ef92_level0_row39\" class=\"row_heading level0 row39\" >Nitrogen oxides</th>\n",
       "      <td id=\"T_0ef92_row39_col0\" class=\"data row39 col0\" >Nitrogen oxides</td>\n",
       "      <td id=\"T_0ef92_row39_col1\" class=\"data row39 col1\" >0.000000</td>\n",
       "      <td id=\"T_0ef92_row39_col2\" class=\"data row39 col2\" >kilogram</td>\n",
       "      <td id=\"T_0ef92_row39_col3\" class=\"data row39 col3\" >Nitrogen oxides</td>\n",
       "      <td id=\"T_0ef92_row39_col4\" class=\"data row39 col4\" >0.000000</td>\n",
       "      <td id=\"T_0ef92_row39_col5\" class=\"data row39 col5\" >kilogram</td>\n",
       "    </tr>\n",
       "    <tr>\n",
       "      <th id=\"T_0ef92_level0_row40\" class=\"row_heading level0 row40\" >Nitrogen, organic bound</th>\n",
       "      <td id=\"T_0ef92_row40_col0\" class=\"data row40 col0\" >Nitrogen, organic bound</td>\n",
       "      <td id=\"T_0ef92_row40_col1\" class=\"data row40 col1\" >0.000371</td>\n",
       "      <td id=\"T_0ef92_row40_col2\" class=\"data row40 col2\" >kilogram</td>\n",
       "      <td id=\"T_0ef92_row40_col3\" class=\"data row40 col3\" >Nitrogen, organic bound</td>\n",
       "      <td id=\"T_0ef92_row40_col4\" class=\"data row40 col4\" >0.000371</td>\n",
       "      <td id=\"T_0ef92_row40_col5\" class=\"data row40 col5\" >kilogram</td>\n",
       "    </tr>\n",
       "    <tr>\n",
       "      <th id=\"T_0ef92_level0_row41\" class=\"row_heading level0 row41\" >Occupation, mineral extraction site</th>\n",
       "      <td id=\"T_0ef92_row41_col0\" class=\"data row41 col0\" >Occupation, mineral extraction site</td>\n",
       "      <td id=\"T_0ef92_row41_col1\" class=\"data row41 col1\" >0.004801</td>\n",
       "      <td id=\"T_0ef92_row41_col2\" class=\"data row41 col2\" >square meter-year</td>\n",
       "      <td id=\"T_0ef92_row41_col3\" class=\"data row41 col3\" >Occupation, mineral extraction site</td>\n",
       "      <td id=\"T_0ef92_row41_col4\" class=\"data row41 col4\" >0.004801</td>\n",
       "      <td id=\"T_0ef92_row41_col5\" class=\"data row41 col5\" >square meter-year</td>\n",
       "    </tr>\n",
       "    <tr>\n",
       "      <th id=\"T_0ef92_level0_row42\" class=\"row_heading level0 row42\" >Particulate Matter, < 2.5 um</th>\n",
       "      <td id=\"T_0ef92_row42_col0\" class=\"data row42 col0\" >Particulate Matter, < 2.5 um</td>\n",
       "      <td id=\"T_0ef92_row42_col1\" class=\"data row42 col1\" >0.002062</td>\n",
       "      <td id=\"T_0ef92_row42_col2\" class=\"data row42 col2\" >kilogram</td>\n",
       "      <td id=\"T_0ef92_row42_col3\" class=\"data row42 col3\" >Particulate Matter, < 2.5 um</td>\n",
       "      <td id=\"T_0ef92_row42_col4\" class=\"data row42 col4\" >0.002062</td>\n",
       "      <td id=\"T_0ef92_row42_col5\" class=\"data row42 col5\" >kilogram</td>\n",
       "    </tr>\n",
       "    <tr>\n",
       "      <th id=\"T_0ef92_level0_row43\" class=\"row_heading level0 row43\" >Particulate Matter, > 10 um</th>\n",
       "      <td id=\"T_0ef92_row43_col0\" class=\"data row43 col0\" >Particulate Matter, > 10 um</td>\n",
       "      <td id=\"T_0ef92_row43_col1\" class=\"data row43 col1\" >0.021333</td>\n",
       "      <td id=\"T_0ef92_row43_col2\" class=\"data row43 col2\" >kilogram</td>\n",
       "      <td id=\"T_0ef92_row43_col3\" class=\"data row43 col3\" >Particulate Matter, > 10 um</td>\n",
       "      <td id=\"T_0ef92_row43_col4\" class=\"data row43 col4\" >0.021333</td>\n",
       "      <td id=\"T_0ef92_row43_col5\" class=\"data row43 col5\" >kilogram</td>\n",
       "    </tr>\n",
       "    <tr>\n",
       "      <th id=\"T_0ef92_level0_row44\" class=\"row_heading level0 row44\" >Particulate Matter, > 2.5 um and < 10um</th>\n",
       "      <td id=\"T_0ef92_row44_col0\" class=\"data row44 col0\" >Particulate Matter, > 2.5 um and < 10um</td>\n",
       "      <td id=\"T_0ef92_row44_col1\" class=\"data row44 col1\" >0.018559</td>\n",
       "      <td id=\"T_0ef92_row44_col2\" class=\"data row44 col2\" >kilogram</td>\n",
       "      <td id=\"T_0ef92_row44_col3\" class=\"data row44 col3\" >Particulate Matter, > 2.5 um and < 10um</td>\n",
       "      <td id=\"T_0ef92_row44_col4\" class=\"data row44 col4\" >0.018559</td>\n",
       "      <td id=\"T_0ef92_row44_col5\" class=\"data row44 col5\" >kilogram</td>\n",
       "    </tr>\n",
       "    <tr>\n",
       "      <th id=\"T_0ef92_level0_row45\" class=\"row_heading level0 row45\" >Selenium</th>\n",
       "      <td id=\"T_0ef92_row45_col0\" class=\"data row45 col0\" >Selenium</td>\n",
       "      <td id=\"T_0ef92_row45_col1\" class=\"data row45 col1\" >0.000790</td>\n",
       "      <td id=\"T_0ef92_row45_col2\" class=\"data row45 col2\" >kilogram</td>\n",
       "      <td id=\"T_0ef92_row45_col3\" class=\"data row45 col3\" >Selenium</td>\n",
       "      <td id=\"T_0ef92_row45_col4\" class=\"data row45 col4\" >0.000790</td>\n",
       "      <td id=\"T_0ef92_row45_col5\" class=\"data row45 col5\" >kilogram</td>\n",
       "    </tr>\n",
       "    <tr>\n",
       "      <th id=\"T_0ef92_level0_row46\" class=\"row_heading level0 row46\" >Selenium IV</th>\n",
       "      <td id=\"T_0ef92_row46_col0\" class=\"data row46 col0\" >Selenium IV</td>\n",
       "      <td id=\"T_0ef92_row46_col1\" class=\"data row46 col1\" >0.000000</td>\n",
       "      <td id=\"T_0ef92_row46_col2\" class=\"data row46 col2\" >kilogram</td>\n",
       "      <td id=\"T_0ef92_row46_col3\" class=\"data row46 col3\" >Selenium IV</td>\n",
       "      <td id=\"T_0ef92_row46_col4\" class=\"data row46 col4\" >0.000000</td>\n",
       "      <td id=\"T_0ef92_row46_col5\" class=\"data row46 col5\" >kilogram</td>\n",
       "    </tr>\n",
       "    <tr>\n",
       "      <th id=\"T_0ef92_level0_row47\" class=\"row_heading level0 row47\" >Silver</th>\n",
       "      <td id=\"T_0ef92_row47_col0\" class=\"data row47 col0\" >Silver</td>\n",
       "      <td id=\"T_0ef92_row47_col1\" class=\"data row47 col1\" >0.000096</td>\n",
       "      <td id=\"T_0ef92_row47_col2\" class=\"data row47 col2\" >kilogram</td>\n",
       "      <td id=\"T_0ef92_row47_col3\" class=\"data row47 col3\" >Silver</td>\n",
       "      <td id=\"T_0ef92_row47_col4\" class=\"data row47 col4\" >0.000096</td>\n",
       "      <td id=\"T_0ef92_row47_col5\" class=\"data row47 col5\" >kilogram</td>\n",
       "    </tr>\n",
       "    <tr>\n",
       "      <th id=\"T_0ef92_level0_row48\" class=\"row_heading level0 row48\" >Sulfate</th>\n",
       "      <td id=\"T_0ef92_row48_col0\" class=\"data row48 col0\" >Sulfate</td>\n",
       "      <td id=\"T_0ef92_row48_col1\" class=\"data row48 col1\" >0.038477</td>\n",
       "      <td id=\"T_0ef92_row48_col2\" class=\"data row48 col2\" >kilogram</td>\n",
       "      <td id=\"T_0ef92_row48_col3\" class=\"data row48 col3\" >Sulfate</td>\n",
       "      <td id=\"T_0ef92_row48_col4\" class=\"data row48 col4\" >0.038477</td>\n",
       "      <td id=\"T_0ef92_row48_col5\" class=\"data row48 col5\" >kilogram</td>\n",
       "    </tr>\n",
       "    <tr>\n",
       "      <th id=\"T_0ef92_level0_row49\" class=\"row_heading level0 row49\" >TOC, Total Organic Carbon</th>\n",
       "      <td id=\"T_0ef92_row49_col0\" class=\"data row49 col0\" >TOC, Total Organic Carbon</td>\n",
       "      <td id=\"T_0ef92_row49_col1\" class=\"data row49 col1\" >0.000067</td>\n",
       "      <td id=\"T_0ef92_row49_col2\" class=\"data row49 col2\" >kilogram</td>\n",
       "      <td id=\"T_0ef92_row49_col3\" class=\"data row49 col3\" >TOC, Total Organic Carbon</td>\n",
       "      <td id=\"T_0ef92_row49_col4\" class=\"data row49 col4\" >0.000067</td>\n",
       "      <td id=\"T_0ef92_row49_col5\" class=\"data row49 col5\" >kilogram</td>\n",
       "    </tr>\n",
       "    <tr>\n",
       "      <th id=\"T_0ef92_level0_row50\" class=\"row_heading level0 row50\" >Tellurium</th>\n",
       "      <td id=\"T_0ef92_row50_col0\" class=\"data row50 col0\" >Tellurium</td>\n",
       "      <td id=\"T_0ef92_row50_col1\" class=\"data row50 col1\" >0.000068</td>\n",
       "      <td id=\"T_0ef92_row50_col2\" class=\"data row50 col2\" >kilogram</td>\n",
       "      <td id=\"T_0ef92_row50_col3\" class=\"data row50 col3\" >Tellurium</td>\n",
       "      <td id=\"T_0ef92_row50_col4\" class=\"data row50 col4\" >0.000068</td>\n",
       "      <td id=\"T_0ef92_row50_col5\" class=\"data row50 col5\" >kilogram</td>\n",
       "    </tr>\n",
       "    <tr>\n",
       "      <th id=\"T_0ef92_level0_row51\" class=\"row_heading level0 row51\" >Transformation, from unspecified</th>\n",
       "      <td id=\"T_0ef92_row51_col0\" class=\"data row51 col0\" >Transformation, from unspecified</td>\n",
       "      <td id=\"T_0ef92_row51_col1\" class=\"data row51 col1\" >0.000160</td>\n",
       "      <td id=\"T_0ef92_row51_col2\" class=\"data row51 col2\" >square meter</td>\n",
       "      <td id=\"T_0ef92_row51_col3\" class=\"data row51 col3\" >Transformation, from unspecified</td>\n",
       "      <td id=\"T_0ef92_row51_col4\" class=\"data row51 col4\" >0.000160</td>\n",
       "      <td id=\"T_0ef92_row51_col5\" class=\"data row51 col5\" >square meter</td>\n",
       "    </tr>\n",
       "    <tr>\n",
       "      <th id=\"T_0ef92_level0_row52\" class=\"row_heading level0 row52\" >Transformation, to mineral extraction site</th>\n",
       "      <td id=\"T_0ef92_row52_col0\" class=\"data row52 col0\" >Transformation, to mineral extraction site</td>\n",
       "      <td id=\"T_0ef92_row52_col1\" class=\"data row52 col1\" >0.000160</td>\n",
       "      <td id=\"T_0ef92_row52_col2\" class=\"data row52 col2\" >square meter</td>\n",
       "      <td id=\"T_0ef92_row52_col3\" class=\"data row52 col3\" >Transformation, to mineral extraction site</td>\n",
       "      <td id=\"T_0ef92_row52_col4\" class=\"data row52 col4\" >0.000160</td>\n",
       "      <td id=\"T_0ef92_row52_col5\" class=\"data row52 col5\" >square meter</td>\n",
       "    </tr>\n",
       "    <tr>\n",
       "      <th id=\"T_0ef92_level0_row53\" class=\"row_heading level0 row53\" >Water</th>\n",
       "      <td id=\"T_0ef92_row53_col0\" class=\"data row53 col0\" >Water</td>\n",
       "      <td id=\"T_0ef92_row53_col1\" class=\"data row53 col1\" >0.008166</td>\n",
       "      <td id=\"T_0ef92_row53_col2\" class=\"data row53 col2\" >cubic meter</td>\n",
       "      <td id=\"T_0ef92_row53_col3\" class=\"data row53 col3\" >Water</td>\n",
       "      <td id=\"T_0ef92_row53_col4\" class=\"data row53 col4\" >0.008166</td>\n",
       "      <td id=\"T_0ef92_row53_col5\" class=\"data row53 col5\" >cubic meter</td>\n",
       "    </tr>\n",
       "    <tr>\n",
       "      <th id=\"T_0ef92_level0_row54\" class=\"row_heading level0 row54\" >Water#1</th>\n",
       "      <td id=\"T_0ef92_row54_col0\" class=\"data row54 col0\" >Water</td>\n",
       "      <td id=\"T_0ef92_row54_col1\" class=\"data row54 col1\" >0.000001</td>\n",
       "      <td id=\"T_0ef92_row54_col2\" class=\"data row54 col2\" >cubic meter</td>\n",
       "      <td id=\"T_0ef92_row54_col3\" class=\"data row54 col3\" >Water</td>\n",
       "      <td id=\"T_0ef92_row54_col4\" class=\"data row54 col4\" >0.000001</td>\n",
       "      <td id=\"T_0ef92_row54_col5\" class=\"data row54 col5\" >cubic meter</td>\n",
       "    </tr>\n",
       "    <tr>\n",
       "      <th id=\"T_0ef92_level0_row55\" class=\"row_heading level0 row55\" >Water#2</th>\n",
       "      <td id=\"T_0ef92_row55_col0\" class=\"data row55 col0\" >Water</td>\n",
       "      <td id=\"T_0ef92_row55_col1\" class=\"data row55 col1\" >0.008166</td>\n",
       "      <td id=\"T_0ef92_row55_col2\" class=\"data row55 col2\" >cubic meter</td>\n",
       "      <td id=\"T_0ef92_row55_col3\" class=\"data row55 col3\" >Water</td>\n",
       "      <td id=\"T_0ef92_row55_col4\" class=\"data row55 col4\" >0.008166</td>\n",
       "      <td id=\"T_0ef92_row55_col5\" class=\"data row55 col5\" >cubic meter</td>\n",
       "    </tr>\n",
       "    <tr>\n",
       "      <th id=\"T_0ef92_level0_row56\" class=\"row_heading level0 row56\" >Water, river</th>\n",
       "      <td id=\"T_0ef92_row56_col0\" class=\"data row56 col0\" >Water, river</td>\n",
       "      <td id=\"T_0ef92_row56_col1\" class=\"data row56 col1\" >0.090827</td>\n",
       "      <td id=\"T_0ef92_row56_col2\" class=\"data row56 col2\" >cubic meter</td>\n",
       "      <td id=\"T_0ef92_row56_col3\" class=\"data row56 col3\" >Water, river</td>\n",
       "      <td id=\"T_0ef92_row56_col4\" class=\"data row56 col4\" >0.090827</td>\n",
       "      <td id=\"T_0ef92_row56_col5\" class=\"data row56 col5\" >cubic meter</td>\n",
       "    </tr>\n",
       "    <tr>\n",
       "      <th id=\"T_0ef92_level0_row57\" class=\"row_heading level0 row57\" >Water, well, in ground</th>\n",
       "      <td id=\"T_0ef92_row57_col0\" class=\"data row57 col0\" >Water, well, in ground</td>\n",
       "      <td id=\"T_0ef92_row57_col1\" class=\"data row57 col1\" >0.000001</td>\n",
       "      <td id=\"T_0ef92_row57_col2\" class=\"data row57 col2\" >cubic meter</td>\n",
       "      <td id=\"T_0ef92_row57_col3\" class=\"data row57 col3\" >Water, well, in ground</td>\n",
       "      <td id=\"T_0ef92_row57_col4\" class=\"data row57 col4\" >0.000001</td>\n",
       "      <td id=\"T_0ef92_row57_col5\" class=\"data row57 col5\" >cubic meter</td>\n",
       "    </tr>\n",
       "    <tr>\n",
       "      <th id=\"T_0ef92_level0_row58\" class=\"row_heading level0 row58\" >Zinc II</th>\n",
       "      <td id=\"T_0ef92_row58_col0\" class=\"data row58 col0\" >Zinc II</td>\n",
       "      <td id=\"T_0ef92_row58_col1\" class=\"data row58 col1\" >0.000008</td>\n",
       "      <td id=\"T_0ef92_row58_col2\" class=\"data row58 col2\" >kilogram</td>\n",
       "      <td id=\"T_0ef92_row58_col3\" class=\"data row58 col3\" >Zinc II</td>\n",
       "      <td id=\"T_0ef92_row58_col4\" class=\"data row58 col4\" >0.000008</td>\n",
       "      <td id=\"T_0ef92_row58_col5\" class=\"data row58 col5\" >kilogram</td>\n",
       "    </tr>\n",
       "    <tr>\n",
       "      <th id=\"T_0ef92_level0_row59\" class=\"row_heading level0 row59\" >Zinc II#1</th>\n",
       "      <td id=\"T_0ef92_row59_col0\" class=\"data row59 col0\" >Zinc II</td>\n",
       "      <td id=\"T_0ef92_row59_col1\" class=\"data row59 col1\" >0.000001</td>\n",
       "      <td id=\"T_0ef92_row59_col2\" class=\"data row59 col2\" >kilogram</td>\n",
       "      <td id=\"T_0ef92_row59_col3\" class=\"data row59 col3\" >Zinc II</td>\n",
       "      <td id=\"T_0ef92_row59_col4\" class=\"data row59 col4\" >0.000001</td>\n",
       "      <td id=\"T_0ef92_row59_col5\" class=\"data row59 col5\" >kilogram</td>\n",
       "    </tr>\n",
       "    <tr>\n",
       "      <th id=\"T_0ef92_level0_row60\" class=\"row_heading level0 row60\" >aluminium hydroxide factory</th>\n",
       "      <td id=\"T_0ef92_row60_col0\" class=\"data row60 col0\" >market for aluminium hydroxide factory</td>\n",
       "      <td id=\"T_0ef92_row60_col1\" class=\"data row60 col1\" >0.000000</td>\n",
       "      <td id=\"T_0ef92_row60_col2\" class=\"data row60 col2\" >unit</td>\n",
       "      <td id=\"T_0ef92_row60_col3\" class=\"data row60 col3\" >market for aluminium hydroxide factory</td>\n",
       "      <td id=\"T_0ef92_row60_col4\" class=\"data row60 col4\" >0.000000</td>\n",
       "      <td id=\"T_0ef92_row60_col5\" class=\"data row60 col5\" >unit</td>\n",
       "    </tr>\n",
       "    <tr>\n",
       "      <th id=\"T_0ef92_level0_row61\" class=\"row_heading level0 row61\" >aluminium sulfate, powder</th>\n",
       "      <td id=\"T_0ef92_row61_col0\" class=\"data row61 col0\" >market for aluminium sulfate, powder[RoW]</td>\n",
       "      <td id=\"T_0ef92_row61_col1\" class=\"data row61 col1\" >0.000000</td>\n",
       "      <td id=\"T_0ef92_row61_col2\" class=\"data row61 col2\" >kilogram</td>\n",
       "      <td id=\"T_0ef92_row61_col3\" class=\"data row61 col3\" >market for aluminium sulfate, powder[RoW]</td>\n",
       "      <td id=\"T_0ef92_row61_col4\" class=\"data row61 col4\" >0.000000</td>\n",
       "      <td id=\"T_0ef92_row61_col5\" class=\"data row61 col5\" >kilogram</td>\n",
       "    </tr>\n",
       "    <tr>\n",
       "      <th id=\"T_0ef92_level0_row62\" class=\"row_heading level0 row62\" >blasting</th>\n",
       "      <td id=\"T_0ef92_row62_col0\" class=\"data row62 col0\" >market for blasting</td>\n",
       "      <td id=\"T_0ef92_row62_col1\" class=\"data row62 col1\" >0.050454</td>\n",
       "      <td id=\"T_0ef92_row62_col2\" class=\"data row62 col2\" >kilogram</td>\n",
       "      <td id=\"T_0ef92_row62_col3\" class=\"data row62 col3\" >market for blasting</td>\n",
       "      <td id=\"T_0ef92_row62_col4\" class=\"data row62 col4\" >0.050454</td>\n",
       "      <td id=\"T_0ef92_row62_col5\" class=\"data row62 col5\" >kilogram</td>\n",
       "    </tr>\n",
       "    <tr>\n",
       "      <th id=\"T_0ef92_level0_row63\" class=\"row_heading level0 row63\" >carbon disulfide</th>\n",
       "      <td id=\"T_0ef92_row63_col0\" class=\"data row63 col0\" >market for carbon disulfide</td>\n",
       "      <td id=\"T_0ef92_row63_col1\" class=\"data row63 col1\" >0.000000</td>\n",
       "      <td id=\"T_0ef92_row63_col2\" class=\"data row63 col2\" >kilogram</td>\n",
       "      <td id=\"T_0ef92_row63_col3\" class=\"data row63 col3\" >market for carbon disulfide</td>\n",
       "      <td id=\"T_0ef92_row63_col4\" class=\"data row63 col4\" >0.000000</td>\n",
       "      <td id=\"T_0ef92_row63_col5\" class=\"data row63 col5\" >kilogram</td>\n",
       "    </tr>\n",
       "    <tr>\n",
       "      <th id=\"T_0ef92_level0_row64\" class=\"row_heading level0 row64\" >chemical, inorganic</th>\n",
       "      <td id=\"T_0ef92_row64_col0\" class=\"data row64 col0\" >market for chemical, inorganic</td>\n",
       "      <td id=\"T_0ef92_row64_col1\" class=\"data row64 col1\" >0.038805</td>\n",
       "      <td id=\"T_0ef92_row64_col2\" class=\"data row64 col2\" >kilogram</td>\n",
       "      <td id=\"T_0ef92_row64_col3\" class=\"data row64 col3\" >market for chemical, inorganic</td>\n",
       "      <td id=\"T_0ef92_row64_col4\" class=\"data row64 col4\" >0.038805</td>\n",
       "      <td id=\"T_0ef92_row64_col5\" class=\"data row64 col5\" >kilogram</td>\n",
       "    </tr>\n",
       "    <tr>\n",
       "      <th id=\"T_0ef92_level0_row65\" class=\"row_heading level0 row65\" >chemical, organic</th>\n",
       "      <td id=\"T_0ef92_row65_col0\" class=\"data row65 col0\" >market for chemical, organic</td>\n",
       "      <td id=\"T_0ef92_row65_col1\" class=\"data row65 col1\" >0.020755</td>\n",
       "      <td id=\"T_0ef92_row65_col2\" class=\"data row65 col2\" >kilogram</td>\n",
       "      <td id=\"T_0ef92_row65_col3\" class=\"data row65 col3\" >market for chemical, organic</td>\n",
       "      <td id=\"T_0ef92_row65_col4\" class=\"data row65 col4\" >0.020755</td>\n",
       "      <td id=\"T_0ef92_row65_col5\" class=\"data row65 col5\" >kilogram</td>\n",
       "    </tr>\n",
       "    <tr>\n",
       "      <th id=\"T_0ef92_level0_row66\" class=\"row_heading level0 row66\" >conveyor belt</th>\n",
       "      <td id=\"T_0ef92_row66_col0\" class=\"data row66 col0\" >market for conveyor belt</td>\n",
       "      <td id=\"T_0ef92_row66_col1\" class=\"data row66 col1\" >0.000007</td>\n",
       "      <td id=\"T_0ef92_row66_col2\" class=\"data row66 col2\" >meter</td>\n",
       "      <td id=\"T_0ef92_row66_col3\" class=\"data row66 col3\" >market for conveyor belt</td>\n",
       "      <td id=\"T_0ef92_row66_col4\" class=\"data row66 col4\" >0.000007</td>\n",
       "      <td id=\"T_0ef92_row66_col5\" class=\"data row66 col5\" >meter</td>\n",
       "    </tr>\n",
       "    <tr>\n",
       "      <th id=\"T_0ef92_level0_row67\" class=\"row_heading level0 row67\" >copper sulfate</th>\n",
       "      <td id=\"T_0ef92_row67_col0\" class=\"data row67 col0\" >market for copper sulfate</td>\n",
       "      <td id=\"T_0ef92_row67_col1\" class=\"data row67 col1\" >0.000000</td>\n",
       "      <td id=\"T_0ef92_row67_col2\" class=\"data row67 col2\" >kilogram</td>\n",
       "      <td id=\"T_0ef92_row67_col3\" class=\"data row67 col3\" >market for copper sulfate</td>\n",
       "      <td id=\"T_0ef92_row67_col4\" class=\"data row67 col4\" >0.000000</td>\n",
       "      <td id=\"T_0ef92_row67_col5\" class=\"data row67 col5\" >kilogram</td>\n",
       "    </tr>\n",
       "    <tr>\n",
       "      <th id=\"T_0ef92_level0_row68\" class=\"row_heading level0 row68\" >diesel</th>\n",
       "      <td id=\"T_0ef92_row68_col0\" class=\"data row68 col0\" >market for diesel[RoW]</td>\n",
       "      <td id=\"T_0ef92_row68_col1\" class=\"data row68 col1\" >0.000000</td>\n",
       "      <td id=\"T_0ef92_row68_col2\" class=\"data row68 col2\" >kilogram</td>\n",
       "      <td id=\"T_0ef92_row68_col3\" class=\"data row68 col3\" >market for diesel[RoW]</td>\n",
       "      <td id=\"T_0ef92_row68_col4\" class=\"data row68 col4\" >0.000000</td>\n",
       "      <td id=\"T_0ef92_row68_col5\" class=\"data row68 col5\" >kilogram</td>\n",
       "    </tr>\n",
       "    <tr>\n",
       "      <th id=\"T_0ef92_level0_row69\" class=\"row_heading level0 row69\" >diesel, burned in building machine</th>\n",
       "      <td id=\"T_0ef92_row69_col0\" class=\"data row69 col0\" >market for diesel, burned in building machine</td>\n",
       "      <td id=\"T_0ef92_row69_col1\" class=\"data row69 col1\" >0.003299</td>\n",
       "      <td id=\"T_0ef92_row69_col2\" class=\"data row69 col2\" >megajoule</td>\n",
       "      <td id=\"T_0ef92_row69_col3\" class=\"data row69 col3\" >market for diesel, burned in building machine</td>\n",
       "      <td id=\"T_0ef92_row69_col4\" class=\"data row69 col4\" >0.003299</td>\n",
       "      <td id=\"T_0ef92_row69_col5\" class=\"data row69 col5\" >megajoule</td>\n",
       "    </tr>\n",
       "    <tr>\n",
       "      <th id=\"T_0ef92_level0_row70\" class=\"row_heading level0 row70\" >dithiocarbamate-compound</th>\n",
       "      <td id=\"T_0ef92_row70_col0\" class=\"data row70 col0\" >market for dithiocarbamate-compound</td>\n",
       "      <td id=\"T_0ef92_row70_col1\" class=\"data row70 col1\" >0.000000</td>\n",
       "      <td id=\"T_0ef92_row70_col2\" class=\"data row70 col2\" >kilogram</td>\n",
       "      <td id=\"T_0ef92_row70_col3\" class=\"data row70 col3\" >market for dithiocarbamate-compound</td>\n",
       "      <td id=\"T_0ef92_row70_col4\" class=\"data row70 col4\" >0.000000</td>\n",
       "      <td id=\"T_0ef92_row70_col5\" class=\"data row70 col5\" >kilogram</td>\n",
       "    </tr>\n",
       "    <tr>\n",
       "      <th id=\"T_0ef92_level0_row71\" class=\"row_heading level0 row71\" >electricity, high voltage</th>\n",
       "      <td id=\"T_0ef92_row71_col0\" class=\"data row71 col0\" >market group for electricity, high voltage[CA]</td>\n",
       "      <td id=\"T_0ef92_row71_col1\" class=\"data row71 col1\" >1.190997</td>\n",
       "      <td id=\"T_0ef92_row71_col2\" class=\"data row71 col2\" >kilowatt hour</td>\n",
       "      <td id=\"T_0ef92_row71_col3\" class=\"data row71 col3\" >market group for electricity, high voltage[CA]</td>\n",
       "      <td id=\"T_0ef92_row71_col4\" class=\"data row71 col4\" >15.63/ore_grade_copper**0.53</td>\n",
       "      <td id=\"T_0ef92_row71_col5\" class=\"data row71 col5\" >kilowatt hour</td>\n",
       "    </tr>\n",
       "    <tr>\n",
       "      <th id=\"T_0ef92_level0_row72\" class=\"row_heading level0 row72\" >electricity, medium voltage</th>\n",
       "      <td id=\"T_0ef92_row72_col0\" class=\"data row72 col0\" >market group for electricity, medium voltage[CA]</td>\n",
       "      <td id=\"T_0ef92_row72_col1\" class=\"data row72 col1\" >0.436185</td>\n",
       "      <td id=\"T_0ef92_row72_col2\" class=\"data row72 col2\" >kilowatt hour</td>\n",
       "      <td id=\"T_0ef92_row72_col3\" class=\"data row72 col3\" >market group for electricity, medium voltage[CA]</td>\n",
       "      <td id=\"T_0ef92_row72_col4\" class=\"data row72 col4\" >0.436185</td>\n",
       "      <td id=\"T_0ef92_row72_col5\" class=\"data row72 col5\" >kilowatt hour</td>\n",
       "    </tr>\n",
       "    <tr>\n",
       "      <th id=\"T_0ef92_level0_row73\" class=\"row_heading level0 row73\" >iron pellet</th>\n",
       "      <td id=\"T_0ef92_row73_col0\" class=\"data row73 col0\" >market for iron pellet</td>\n",
       "      <td id=\"T_0ef92_row73_col1\" class=\"data row73 col1\" >0.000002</td>\n",
       "      <td id=\"T_0ef92_row73_col2\" class=\"data row73 col2\" >kilogram</td>\n",
       "      <td id=\"T_0ef92_row73_col3\" class=\"data row73 col3\" >market for iron pellet</td>\n",
       "      <td id=\"T_0ef92_row73_col4\" class=\"data row73 col4\" >0.000002</td>\n",
       "      <td id=\"T_0ef92_row73_col5\" class=\"data row73 col5\" >kilogram</td>\n",
       "    </tr>\n",
       "    <tr>\n",
       "      <th id=\"T_0ef92_level0_row74\" class=\"row_heading level0 row74\" >lime, packed</th>\n",
       "      <td id=\"T_0ef92_row74_col0\" class=\"data row74 col0\" >market for lime, packed[RoW]</td>\n",
       "      <td id=\"T_0ef92_row74_col1\" class=\"data row74 col1\" >0.065476</td>\n",
       "      <td id=\"T_0ef92_row74_col2\" class=\"data row74 col2\" >kilogram</td>\n",
       "      <td id=\"T_0ef92_row74_col3\" class=\"data row74 col3\" >market for lime, packed[RoW]</td>\n",
       "      <td id=\"T_0ef92_row74_col4\" class=\"data row74 col4\" >0.065476</td>\n",
       "      <td id=\"T_0ef92_row74_col5\" class=\"data row74 col5\" >kilogram</td>\n",
       "    </tr>\n",
       "    <tr>\n",
       "      <th id=\"T_0ef92_level0_row75\" class=\"row_heading level0 row75\" >market for steel, low-alloyed, hot rolled</th>\n",
       "      <td id=\"T_0ef92_row75_col0\" class=\"data row75 col0\" >nan</td>\n",
       "      <td id=\"T_0ef92_row75_col1\" class=\"data row75 col1\" >nan</td>\n",
       "      <td id=\"T_0ef92_row75_col2\" class=\"data row75 col2\" >nan</td>\n",
       "      <td id=\"T_0ef92_row75_col3\" class=\"data row75 col3\" >market for steel, low-alloyed, hot rolled</td>\n",
       "      <td id=\"T_0ef92_row75_col4\" class=\"data row75 col4\" >1.450000</td>\n",
       "      <td id=\"T_0ef92_row75_col5\" class=\"data row75 col5\" >kilogram</td>\n",
       "    </tr>\n",
       "    <tr>\n",
       "      <th id=\"T_0ef92_level0_row76\" class=\"row_heading level0 row76\" >mine infrastructure, open cast, non-ferrous metal</th>\n",
       "      <td id=\"T_0ef92_row76_col0\" class=\"data row76 col0\" >market for mine infrastructure, open cast, non-ferrous metal</td>\n",
       "      <td id=\"T_0ef92_row76_col1\" class=\"data row76 col1\" >0.000000</td>\n",
       "      <td id=\"T_0ef92_row76_col2\" class=\"data row76 col2\" >unit</td>\n",
       "      <td id=\"T_0ef92_row76_col3\" class=\"data row76 col3\" >market for mine infrastructure, open cast, non-ferrous metal</td>\n",
       "      <td id=\"T_0ef92_row76_col4\" class=\"data row76 col4\" >0.000000</td>\n",
       "      <td id=\"T_0ef92_row76_col5\" class=\"data row76 col5\" >unit</td>\n",
       "    </tr>\n",
       "    <tr>\n",
       "      <th id=\"T_0ef92_level0_row77\" class=\"row_heading level0 row77\" >mine infrastructure, underground, non-ferrous metal</th>\n",
       "      <td id=\"T_0ef92_row77_col0\" class=\"data row77 col0\" >market for mine infrastructure, underground, non-ferrous metal</td>\n",
       "      <td id=\"T_0ef92_row77_col1\" class=\"data row77 col1\" >0.000000</td>\n",
       "      <td id=\"T_0ef92_row77_col2\" class=\"data row77 col2\" >unit</td>\n",
       "      <td id=\"T_0ef92_row77_col3\" class=\"data row77 col3\" >market for mine infrastructure, underground, non-ferrous metal</td>\n",
       "      <td id=\"T_0ef92_row77_col4\" class=\"data row77 col4\" >0.000000</td>\n",
       "      <td id=\"T_0ef92_row77_col5\" class=\"data row77 col5\" >unit</td>\n",
       "    </tr>\n",
       "    <tr>\n",
       "      <th id=\"T_0ef92_level0_row78\" class=\"row_heading level0 row78\" >non-sulfidic tailing, off-site</th>\n",
       "      <td id=\"T_0ef92_row78_col0\" class=\"data row78 col0\" >market for non-sulfidic tailing, off-site</td>\n",
       "      <td id=\"T_0ef92_row78_col1\" class=\"data row78 col1\" >-157.766266</td>\n",
       "      <td id=\"T_0ef92_row78_col2\" class=\"data row78 col2\" >kilogram</td>\n",
       "      <td id=\"T_0ef92_row78_col3\" class=\"data row78 col3\" >market for non-sulfidic tailing, off-site</td>\n",
       "      <td id=\"T_0ef92_row78_col4\" class=\"data row78 col4\" >-157.766266</td>\n",
       "      <td id=\"T_0ef92_row78_col5\" class=\"data row78 col5\" >kilogram</td>\n",
       "    </tr>\n",
       "    <tr>\n",
       "      <th id=\"T_0ef92_level0_row79\" class=\"row_heading level0 row79\" >potassium carbonate</th>\n",
       "      <td id=\"T_0ef92_row79_col0\" class=\"data row79 col0\" >market for potassium carbonate</td>\n",
       "      <td id=\"T_0ef92_row79_col1\" class=\"data row79 col1\" >0.000000</td>\n",
       "      <td id=\"T_0ef92_row79_col2\" class=\"data row79 col2\" >kilogram</td>\n",
       "      <td id=\"T_0ef92_row79_col3\" class=\"data row79 col3\" >market for potassium carbonate</td>\n",
       "      <td id=\"T_0ef92_row79_col4\" class=\"data row79 col4\" >0.000000</td>\n",
       "      <td id=\"T_0ef92_row79_col5\" class=\"data row79 col5\" >kilogram</td>\n",
       "    </tr>\n",
       "    <tr>\n",
       "      <th id=\"T_0ef92_level0_row80\" class=\"row_heading level0 row80\" >sodium cyanide</th>\n",
       "      <td id=\"T_0ef92_row80_col0\" class=\"data row80 col0\" >market for sodium cyanide[RoW]</td>\n",
       "      <td id=\"T_0ef92_row80_col1\" class=\"data row80 col1\" >0.001769</td>\n",
       "      <td id=\"T_0ef92_row80_col2\" class=\"data row80 col2\" >kilogram</td>\n",
       "      <td id=\"T_0ef92_row80_col3\" class=\"data row80 col3\" >market for sodium cyanide[RoW]</td>\n",
       "      <td id=\"T_0ef92_row80_col4\" class=\"data row80 col4\" >0.001769</td>\n",
       "      <td id=\"T_0ef92_row80_col5\" class=\"data row80 col5\" >kilogram</td>\n",
       "    </tr>\n",
       "    <tr>\n",
       "      <th id=\"T_0ef92_level0_row81\" class=\"row_heading level0 row81\" >steel, chromium steel 18/8, hot rolled</th>\n",
       "      <td id=\"T_0ef92_row81_col0\" class=\"data row81 col0\" >market for steel, chromium steel 18/8, hot rolled</td>\n",
       "      <td id=\"T_0ef92_row81_col1\" class=\"data row81 col1\" >0.066459</td>\n",
       "      <td id=\"T_0ef92_row81_col2\" class=\"data row81 col2\" >kilogram</td>\n",
       "      <td id=\"T_0ef92_row81_col3\" class=\"data row81 col3\" >market for steel, chromium steel 18/8, hot rolled</td>\n",
       "      <td id=\"T_0ef92_row81_col4\" class=\"data row81 col4\" >0.066459</td>\n",
       "      <td id=\"T_0ef92_row81_col5\" class=\"data row81 col5\" >kilogram</td>\n",
       "    </tr>\n",
       "    <tr>\n",
       "      <th id=\"T_0ef92_level0_row82\" class=\"row_heading level0 row82\" >sulfidic tailings, from copper mine operation</th>\n",
       "      <td id=\"T_0ef92_row82_col0\" class=\"data row82 col0\" >market for sulfidic tailings, from copper mine operation[CA]</td>\n",
       "      <td id=\"T_0ef92_row82_col1\" class=\"data row82 col1\" >-90.216373</td>\n",
       "      <td id=\"T_0ef92_row82_col2\" class=\"data row82 col2\" >kilogram</td>\n",
       "      <td id=\"T_0ef92_row82_col3\" class=\"data row82 col3\" >market for sulfidic tailings, from copper mine operation[CA]</td>\n",
       "      <td id=\"T_0ef92_row82_col4\" class=\"data row82 col4\" >-90.216373</td>\n",
       "      <td id=\"T_0ef92_row82_col5\" class=\"data row82 col5\" >kilogram</td>\n",
       "    </tr>\n",
       "    <tr>\n",
       "      <th id=\"T_0ef92_level0_row83\" class=\"row_heading level0 row83\" >synthetic rubber</th>\n",
       "      <td id=\"T_0ef92_row83_col0\" class=\"data row83 col0\" >market for synthetic rubber</td>\n",
       "      <td id=\"T_0ef92_row83_col1\" class=\"data row83 col1\" >0.000001</td>\n",
       "      <td id=\"T_0ef92_row83_col2\" class=\"data row83 col2\" >kilogram</td>\n",
       "      <td id=\"T_0ef92_row83_col3\" class=\"data row83 col3\" >market for synthetic rubber</td>\n",
       "      <td id=\"T_0ef92_row83_col4\" class=\"data row83 col4\" >0.000001</td>\n",
       "      <td id=\"T_0ef92_row83_col5\" class=\"data row83 col5\" >kilogram</td>\n",
       "    </tr>\n",
       "  </tbody>\n",
       "</table>\n"
      ]
     },
     "execution_count": 55,
     "metadata": {},
     "output_type": "execute_result"
    }
   ],
   "execution_count": 55
  },
  {
   "metadata": {},
   "cell_type": "markdown",
   "source": "# Impact calculation",
   "id": "29ecdfafe3ecc27a"
  },
  {
   "metadata": {
    "ExecuteTime": {
     "end_time": "2024-12-20T15:42:51.651014Z",
     "start_time": "2024-12-20T15:42:51.630384Z"
    }
   },
   "cell_type": "code",
   "source": "[m for m in bw.methods if \"IPCC 2021\" in str(m)]",
   "id": "523b98875cc5c1f9",
   "outputs": [
    {
     "data": {
      "text/plain": [
       "[('IPCC 2021 no LT',\n",
       "  'climate change no LT',\n",
       "  'global temperature change potential (GTP100) no LT'),\n",
       " ('IPCC 2021 no LT',\n",
       "  'climate change no LT',\n",
       "  'global temperature change potential (GTP50) no LT'),\n",
       " ('IPCC 2021 no LT',\n",
       "  'climate change no LT',\n",
       "  'global warming potential (GWP100) no LT'),\n",
       " ('IPCC 2021 no LT',\n",
       "  'climate change no LT',\n",
       "  'global warming potential (GWP20) no LT'),\n",
       " ('IPCC 2021 no LT',\n",
       "  'climate change no LT',\n",
       "  'global warming potential (GWP500) no LT'),\n",
       " ('IPCC 2021 no LT',\n",
       "  'climate change: biogenic no LT',\n",
       "  'global temperature change potential (GTP100) no LT'),\n",
       " ('IPCC 2021 no LT',\n",
       "  'climate change: biogenic no LT',\n",
       "  'global temperature change potential (GTP50) no LT'),\n",
       " ('IPCC 2021 no LT',\n",
       "  'climate change: biogenic no LT',\n",
       "  'global warming potential (GWP100) no LT'),\n",
       " ('IPCC 2021 no LT',\n",
       "  'climate change: biogenic no LT',\n",
       "  'global warming potential (GWP20) no LT'),\n",
       " ('IPCC 2021 no LT',\n",
       "  'climate change: biogenic no LT',\n",
       "  'global warming potential (GWP500) no LT'),\n",
       " ('IPCC 2021 no LT',\n",
       "  'climate change: biogenic, including SLCFs no LT',\n",
       "  'global temperature change potential (GTP100) no LT'),\n",
       " ('IPCC 2021 no LT',\n",
       "  'climate change: biogenic, including SLCFs no LT',\n",
       "  'global warming potential (GWP100) no LT'),\n",
       " ('IPCC 2021 no LT',\n",
       "  'climate change: biogenic, including SLCFs no LT',\n",
       "  'global warming potential (GWP20) no LT'),\n",
       " ('IPCC 2021 no LT',\n",
       "  'climate change: fossil no LT',\n",
       "  'global temperature change potential (GTP100) no LT'),\n",
       " ('IPCC 2021 no LT',\n",
       "  'climate change: fossil no LT',\n",
       "  'global temperature change potential (GTP50) no LT'),\n",
       " ('IPCC 2021 no LT',\n",
       "  'climate change: fossil no LT',\n",
       "  'global warming potential (GWP100) no LT'),\n",
       " ('IPCC 2021 no LT',\n",
       "  'climate change: fossil no LT',\n",
       "  'global warming potential (GWP20) no LT'),\n",
       " ('IPCC 2021 no LT',\n",
       "  'climate change: fossil no LT',\n",
       "  'global warming potential (GWP500) no LT'),\n",
       " ('IPCC 2021 no LT',\n",
       "  'climate change: fossil, including SLCFs no LT',\n",
       "  'global temperature change potential (GTP100) no LT'),\n",
       " ('IPCC 2021 no LT',\n",
       "  'climate change: fossil, including SLCFs no LT',\n",
       "  'global warming potential (GWP100) no LT'),\n",
       " ('IPCC 2021 no LT',\n",
       "  'climate change: fossil, including SLCFs no LT',\n",
       "  'global warming potential (GWP20) no LT'),\n",
       " ('IPCC 2021 no LT',\n",
       "  'climate change: including SLCFs no LT',\n",
       "  'global temperature change potential (GTP100) no LT'),\n",
       " ('IPCC 2021 no LT',\n",
       "  'climate change: including SLCFs no LT',\n",
       "  'global warming potential (GWP100) no LT'),\n",
       " ('IPCC 2021 no LT',\n",
       "  'climate change: including SLCFs no LT',\n",
       "  'global warming potential (GWP20) no LT'),\n",
       " ('IPCC 2021 no LT',\n",
       "  'climate change: land use no LT',\n",
       "  'global temperature change potential (GTP100) no LT'),\n",
       " ('IPCC 2021 no LT',\n",
       "  'climate change: land use no LT',\n",
       "  'global temperature change potential (GTP50) no LT'),\n",
       " ('IPCC 2021 no LT',\n",
       "  'climate change: land use no LT',\n",
       "  'global warming potential (GWP100) no LT'),\n",
       " ('IPCC 2021 no LT',\n",
       "  'climate change: land use no LT',\n",
       "  'global warming potential (GWP20) no LT'),\n",
       " ('IPCC 2021 no LT',\n",
       "  'climate change: land use no LT',\n",
       "  'global warming potential (GWP500) no LT'),\n",
       " ('IPCC 2021 no LT',\n",
       "  'climate change: land use, including SLCFs no LT',\n",
       "  'global temperature change potential (GTP100) no LT'),\n",
       " ('IPCC 2021 no LT',\n",
       "  'climate change: land use, including SLCFs no LT',\n",
       "  'global warming potential (GWP100) no LT'),\n",
       " ('IPCC 2021 no LT',\n",
       "  'climate change: land use, including SLCFs no LT',\n",
       "  'global warming potential (GWP20) no LT'),\n",
       " ('IPCC 2021',\n",
       "  'climate change',\n",
       "  'global temperature change potential (GTP100)'),\n",
       " ('IPCC 2021',\n",
       "  'climate change',\n",
       "  'global temperature change potential (GTP50)'),\n",
       " ('IPCC 2021', 'climate change', 'global warming potential (GWP100)'),\n",
       " ('IPCC 2021', 'climate change', 'global warming potential (GWP20)'),\n",
       " ('IPCC 2021', 'climate change', 'global warming potential (GWP500)'),\n",
       " ('IPCC 2021',\n",
       "  'climate change: biogenic',\n",
       "  'global temperature change potential (GTP100)'),\n",
       " ('IPCC 2021',\n",
       "  'climate change: biogenic',\n",
       "  'global temperature change potential (GTP50)'),\n",
       " ('IPCC 2021',\n",
       "  'climate change: biogenic',\n",
       "  'global warming potential (GWP100)'),\n",
       " ('IPCC 2021', 'climate change: biogenic', 'global warming potential (GWP20)'),\n",
       " ('IPCC 2021',\n",
       "  'climate change: biogenic',\n",
       "  'global warming potential (GWP500)'),\n",
       " ('IPCC 2021',\n",
       "  'climate change: biogenic, including SLCFs',\n",
       "  'global temperature change potential (GTP100)'),\n",
       " ('IPCC 2021',\n",
       "  'climate change: biogenic, including SLCFs',\n",
       "  'global warming potential (GWP100)'),\n",
       " ('IPCC 2021',\n",
       "  'climate change: biogenic, including SLCFs',\n",
       "  'global warming potential (GWP20)'),\n",
       " ('IPCC 2021',\n",
       "  'climate change: fossil',\n",
       "  'global temperature change potential (GTP100)'),\n",
       " ('IPCC 2021',\n",
       "  'climate change: fossil',\n",
       "  'global temperature change potential (GTP50)'),\n",
       " ('IPCC 2021', 'climate change: fossil', 'global warming potential (GWP100)'),\n",
       " ('IPCC 2021', 'climate change: fossil', 'global warming potential (GWP20)'),\n",
       " ('IPCC 2021', 'climate change: fossil', 'global warming potential (GWP500)'),\n",
       " ('IPCC 2021',\n",
       "  'climate change: fossil, including SLCFs',\n",
       "  'global temperature change potential (GTP100)'),\n",
       " ('IPCC 2021',\n",
       "  'climate change: fossil, including SLCFs',\n",
       "  'global warming potential (GWP100)'),\n",
       " ('IPCC 2021',\n",
       "  'climate change: fossil, including SLCFs',\n",
       "  'global warming potential (GWP20)'),\n",
       " ('IPCC 2021',\n",
       "  'climate change: including SLCFs',\n",
       "  'global temperature change potential (GTP100)'),\n",
       " ('IPCC 2021',\n",
       "  'climate change: including SLCFs',\n",
       "  'global warming potential (GWP100)'),\n",
       " ('IPCC 2021',\n",
       "  'climate change: including SLCFs',\n",
       "  'global warming potential (GWP20)'),\n",
       " ('IPCC 2021',\n",
       "  'climate change: land use',\n",
       "  'global temperature change potential (GTP100)'),\n",
       " ('IPCC 2021',\n",
       "  'climate change: land use',\n",
       "  'global temperature change potential (GTP50)'),\n",
       " ('IPCC 2021',\n",
       "  'climate change: land use',\n",
       "  'global warming potential (GWP100)'),\n",
       " ('IPCC 2021', 'climate change: land use', 'global warming potential (GWP20)'),\n",
       " ('IPCC 2021',\n",
       "  'climate change: land use',\n",
       "  'global warming potential (GWP500)'),\n",
       " ('IPCC 2021',\n",
       "  'climate change: land use, including SLCFs',\n",
       "  'global temperature change potential (GTP100)'),\n",
       " ('IPCC 2021',\n",
       "  'climate change: land use, including SLCFs',\n",
       "  'global warming potential (GWP100)'),\n",
       " ('IPCC 2021',\n",
       "  'climate change: land use, including SLCFs',\n",
       "  'global warming potential (GWP20)')]"
      ]
     },
     "execution_count": 29,
     "metadata": {},
     "output_type": "execute_result"
    }
   ],
   "execution_count": 29
  },
  {
   "metadata": {
    "ExecuteTime": {
     "end_time": "2024-12-20T15:42:52.687704Z",
     "start_time": "2024-12-20T15:42:52.671725Z"
    }
   },
   "cell_type": "code",
   "source": [
    "method_name = ('IPCC 2021 no LT', 'climate change no LT', 'global warming potential (GWP100) no LT')\n",
    "gwp100 = [method for method in bw.methods if method == method_name]"
   ],
   "id": "92e07c49ee2f3fd0",
   "outputs": [],
   "execution_count": 30
  },
  {
   "metadata": {
    "ExecuteTime": {
     "end_time": "2024-12-20T15:42:53.405135Z",
     "start_time": "2024-12-20T15:42:53.375466Z"
    }
   },
   "cell_type": "code",
   "source": "agb.list_databases()",
   "id": "9da033689163e802",
   "outputs": [
    {
     "data": {
      "text/plain": [
       "                       backend  nb_activities        type\n",
       "name                                                     \n",
       "biosphere3              sqlite           4718   biosphere\n",
       "ecoinvent-3.9.1-cutoff  sqlite          21238  background\n",
       "MyForeground            sqlite              2  foreground"
      ],
      "text/html": [
       "<div>\n",
       "<style scoped>\n",
       "    .dataframe tbody tr th:only-of-type {\n",
       "        vertical-align: middle;\n",
       "    }\n",
       "\n",
       "    .dataframe tbody tr th {\n",
       "        vertical-align: top;\n",
       "    }\n",
       "\n",
       "    .dataframe thead th {\n",
       "        text-align: right;\n",
       "    }\n",
       "</style>\n",
       "<table border=\"1\" class=\"dataframe\">\n",
       "  <thead>\n",
       "    <tr style=\"text-align: right;\">\n",
       "      <th></th>\n",
       "      <th>backend</th>\n",
       "      <th>nb_activities</th>\n",
       "      <th>type</th>\n",
       "    </tr>\n",
       "    <tr>\n",
       "      <th>name</th>\n",
       "      <th></th>\n",
       "      <th></th>\n",
       "      <th></th>\n",
       "    </tr>\n",
       "  </thead>\n",
       "  <tbody>\n",
       "    <tr>\n",
       "      <th>biosphere3</th>\n",
       "      <td>sqlite</td>\n",
       "      <td>4718</td>\n",
       "      <td>biosphere</td>\n",
       "    </tr>\n",
       "    <tr>\n",
       "      <th>ecoinvent-3.9.1-cutoff</th>\n",
       "      <td>sqlite</td>\n",
       "      <td>21238</td>\n",
       "      <td>background</td>\n",
       "    </tr>\n",
       "    <tr>\n",
       "      <th>MyForeground</th>\n",
       "      <td>sqlite</td>\n",
       "      <td>2</td>\n",
       "      <td>foreground</td>\n",
       "    </tr>\n",
       "  </tbody>\n",
       "</table>\n",
       "</div>"
      ]
     },
     "execution_count": 31,
     "metadata": {},
     "output_type": "execute_result"
    }
   ],
   "execution_count": 31
  },
  {
   "metadata": {
    "ExecuteTime": {
     "end_time": "2024-12-20T15:55:30.646406Z",
     "start_time": "2024-12-20T15:55:29.822280Z"
    }
   },
   "cell_type": "code",
   "source": [
    "agb.compute_impacts(\n",
    "\n",
    "    models=[cu_mining, cu_mining_p],    # you can put multiple ones in list eg [act, act2]\n",
    "    # list of impacts to consider\n",
    "    methods=gwp100, \n",
    "    # The impacts will be divided by the functional unit\n",
    "    functional_unit=1, # can be parametrized\n",
    "    elec_mix_country='Quebec',\n",
    "    return_params=True,     \n",
    "    # Parameters of the model\n",
    "    #ore_grade_copper = 0.95\n",
    "    \n",
    ")"
   ],
   "id": "79cb1fd3be6cf836",
   "outputs": [
    {
     "ename": "NameError",
     "evalue": "name 'agb' is not defined",
     "output_type": "error",
     "traceback": [
      "\u001B[1;31m---------------------------------------------------------------------------\u001B[0m",
      "\u001B[1;31mNameError\u001B[0m                                 Traceback (most recent call last)",
      "Cell \u001B[1;32mIn[1], line 1\u001B[0m\n\u001B[1;32m----> 1\u001B[0m \u001B[43magb\u001B[49m\u001B[38;5;241m.\u001B[39mcompute_impacts(\n\u001B[0;32m      2\u001B[0m \n\u001B[0;32m      3\u001B[0m     models\u001B[38;5;241m=\u001B[39m[cu_mining, cu_mining_p],    \u001B[38;5;66;03m# you can put multiple ones in list eg [act, act2]\u001B[39;00m\n\u001B[0;32m      4\u001B[0m     \u001B[38;5;66;03m# list of impacts to consider\u001B[39;00m\n\u001B[0;32m      5\u001B[0m     methods\u001B[38;5;241m=\u001B[39mgwp100, \n\u001B[0;32m      6\u001B[0m     \u001B[38;5;66;03m# The impacts will be divided by the functional unit\u001B[39;00m\n\u001B[0;32m      7\u001B[0m     functional_unit\u001B[38;5;241m=\u001B[39m\u001B[38;5;241m1\u001B[39m, \u001B[38;5;66;03m# can be parametrized\u001B[39;00m\n\u001B[0;32m      8\u001B[0m     elec_mix_country\u001B[38;5;241m=\u001B[39m\u001B[38;5;124m'\u001B[39m\u001B[38;5;124mQuebec\u001B[39m\u001B[38;5;124m'\u001B[39m,\n\u001B[0;32m      9\u001B[0m     return_params\u001B[38;5;241m=\u001B[39m\u001B[38;5;28;01mTrue\u001B[39;00m,     \n\u001B[0;32m     10\u001B[0m     \u001B[38;5;66;03m# Parameters of the model\u001B[39;00m\n\u001B[0;32m     11\u001B[0m     \u001B[38;5;66;03m#ore_grade_copper = 0.95\u001B[39;00m\n\u001B[0;32m     12\u001B[0m     \n\u001B[0;32m     13\u001B[0m )\n",
      "\u001B[1;31mNameError\u001B[0m: name 'agb' is not defined"
     ]
    }
   ],
   "execution_count": 1
  },
  {
   "metadata": {
    "ExecuteTime": {
     "end_time": "2024-12-20T15:43:28.286631Z",
     "start_time": "2024-12-20T15:43:28.238351Z"
    }
   },
   "cell_type": "code",
   "source": [
    "# Need to updgrade to 1.2\n",
    "agb.exploreImpacts(\n",
    "    gwp100,                  #impact category \n",
    "    methods=gwp100                   #name of the activity\n",
    "    )"
   ],
   "id": "98503e37a918e216",
   "outputs": [
    {
     "ename": "AttributeError",
     "evalue": "module 'lca_algebraic' has no attribute 'exploreImpacts'",
     "output_type": "error",
     "traceback": [
      "\u001B[1;31m---------------------------------------------------------------------------\u001B[0m",
      "\u001B[1;31mAttributeError\u001B[0m                            Traceback (most recent call last)",
      "Cell \u001B[1;32mIn[33], line 2\u001B[0m\n\u001B[0;32m      1\u001B[0m \u001B[38;5;66;03m# Need to updgrade to 1.2\u001B[39;00m\n\u001B[1;32m----> 2\u001B[0m \u001B[43magb\u001B[49m\u001B[38;5;241;43m.\u001B[39;49m\u001B[43mexploreImpacts\u001B[49m(\n\u001B[0;32m      3\u001B[0m     gwp100,                  \u001B[38;5;66;03m#impact category \u001B[39;00m\n\u001B[0;32m      4\u001B[0m     methods\u001B[38;5;241m=\u001B[39mgwp100                   \u001B[38;5;66;03m#name of the activity\u001B[39;00m\n\u001B[0;32m      5\u001B[0m     )\n",
      "\u001B[1;31mAttributeError\u001B[0m: module 'lca_algebraic' has no attribute 'exploreImpacts'"
     ]
    }
   ],
   "execution_count": 33
  },
  {
   "metadata": {},
   "cell_type": "markdown",
   "source": "## OAT sensitivity analysis",
   "id": "44b9b0217bc48c2"
  },
  {
   "metadata": {
    "ExecuteTime": {
     "end_time": "2024-12-19T19:55:42.849545Z",
     "start_time": "2024-12-19T19:55:41.675063Z"
    }
   },
   "cell_type": "code",
   "source": [
    "agb.oat_matrix(\n",
    "    cu_mining_p, \n",
    "    gwp100, \n",
    "    functional_unit=1\n",
    ")"
   ],
   "id": "8fcd21a6b6d15b06",
   "outputs": [
    {
     "name": "stderr",
     "output_type": "stream",
     "text": [
      "[INFO] Db changed recently, clearing cache expr\n"
     ]
    },
    {
     "data": {
      "text/plain": [
       "<Figure size 1700x1700 with 2 Axes>"
      ],
      "image/png": "[encoded data removed]"
     },
     "metadata": {},
     "output_type": "display_data"
    }
   ],
   "execution_count": 36
  },
  {
   "metadata": {
    "ExecuteTime": {
     "end_time": "2024-12-19T19:07:21.756619Z",
     "start_time": "2024-12-19T19:07:20.758375Z"
    }
   },
   "cell_type": "code",
   "source": [
    "agb.oat_dashboard(\n",
    "    cu_mining_p, \n",
    "    gwp100, \n",
    "    functional_unit=1,\n",
    "    \n",
    "    # Optionnal layout parameters\n",
    "    figspace=(0.5,0.5),\n",
    "    figsize=(15, 15),\n",
    "    sharex=True)"
   ],
   "id": "20adce52f63bfe73",
   "outputs": [
    {
     "data": {
      "text/plain": [
       "interactive(children=(Dropdown(description='param', options=('ore_grade_copper',), value='ore_grade_copper'), …"
      ],
      "application/vnd.jupyter.widget-view+json": {
       "version_major": 2,
       "version_minor": 0,
       "model_id": "593bc2973a2d40139c4bb038d1cd59ee"
      }
     },
     "metadata": {},
     "output_type": "display_data"
    }
   ],
   "execution_count": 136
  },
  {
   "metadata": {},
   "cell_type": "markdown",
   "source": "## GSA",
   "id": "a40217438cd72ed8"
  },
  {
   "metadata": {
    "ExecuteTime": {
     "end_time": "2024-12-19T19:08:52.499614Z",
     "start_time": "2024-12-19T19:08:52.112368Z"
    }
   },
   "cell_type": "code",
   "source": [
    "# Show sobol indices \n",
    "agb.incer_stochastic_matrix(\n",
    "    cu_mining_copy, \n",
    "    gwp100, \n",
    "    functional_unit=1)"
   ],
   "id": "14372270ce4a3455",
   "outputs": [
    {
     "name": "stdout",
     "output_type": "stream",
     "text": [
      "Generating samples ...\n",
      "Transforming samples ...\n",
      "Processing Sobol indices ...\n",
      "Processing sobol for ('IPCC 2021 no LT', 'climate change no LT', 'global warming potential (GWP100) no LT')\n"
     ]
    },
    {
     "name": "stderr",
     "output_type": "stream",
     "text": [
      "C:\\Users\\mp_ma\\anaconda3\\envs\\lca\\lib\\site-packages\\SALib\\util\\__init__.py:274: FutureWarning: unique with argument that is not not a Series, Index, ExtensionArray, or np.ndarray is deprecated and will raise in a future version.\n",
      "  names = list(pd.unique(groups))\n"
     ]
    },
    {
     "data": {
      "text/plain": [
       "interactive(children=(Dropdown(description='indice', options=('s1', 'st'), value='s1'), Dropdown(description='…"
      ],
      "application/vnd.jupyter.widget-view+json": {
       "version_major": 2,
       "version_minor": 0,
       "model_id": "6b3a29642a9e4297bef0b9a0080cb799"
      }
     },
     "metadata": {},
     "output_type": "display_data"
    }
   ],
   "execution_count": 137
  },
  {
   "metadata": {
    "ExecuteTime": {
     "end_time": "2024-12-19T19:09:25.192234Z",
     "start_time": "2024-12-19T19:09:24.623903Z"
    }
   },
   "cell_type": "code",
   "source": [
    "agb.incer_stochastic_violin(\n",
    "    cu_mining_copy, gwp100,\n",
    "    functional_unit=1,\n",
    "    \n",
    "    # Optionnal layout parameters\n",
    "    figspace=(0.5,0.5),\n",
    "    figsize=(15, 15),\n",
    "    sharex=True, \n",
    "    nb_cols=3)"
   ],
   "id": "4c82b2156a9b86f4",
   "outputs": [
    {
     "name": "stdout",
     "output_type": "stream",
     "text": [
      "Generating samples ...\n",
      "Transforming samples ...\n"
     ]
    },
    {
     "data": {
      "text/plain": [
       "<Figure size 1500x1500 with 3 Axes>"
      ],
      "image/png": "[encoded data removed]"
     },
     "metadata": {},
     "output_type": "display_data"
    }
   ],
   "execution_count": 138
  },
  {
   "metadata": {
    "ExecuteTime": {
     "end_time": "2024-12-19T19:09:55.182244Z",
     "start_time": "2024-12-19T19:09:53.804002Z"
    }
   },
   "cell_type": "code",
   "source": [
    "# Alternatively, graphs can be shown horizontally, together with a box of statistical outcomes\n",
    "agb.distrib(\n",
    "    cu_mining_copy, gwp100,\n",
    "    functional_unit=1,\n",
    "    \n",
    "    # Optionnal layout parameters\n",
    "    height=7, width=15,\n",
    "    nb_cols=2,\n",
    "    percentiles=[5, 95])"
   ],
   "id": "4ee80957760263d6",
   "outputs": [
    {
     "name": "stdout",
     "output_type": "stream",
     "text": [
      "Generating samples ...\n",
      "Transforming samples ...\n"
     ]
    },
    {
     "data": {
      "text/plain": [
       "       climate change no LT - global warming potential (GWP100) no LT [kg CO2-Eq / ]\n",
       "median                                            9.74497                           \n",
       "std                                               3.28935                           \n",
       "p                 [8.722027978618767, 15.235918233809436]                           \n",
       "mean                                              10.6431                           \n",
       "var                                               0.30906                           "
      ],
      "text/html": [
       "<div>\n",
       "<style scoped>\n",
       "    .dataframe tbody tr th:only-of-type {\n",
       "        vertical-align: middle;\n",
       "    }\n",
       "\n",
       "    .dataframe tbody tr th {\n",
       "        vertical-align: top;\n",
       "    }\n",
       "\n",
       "    .dataframe thead th {\n",
       "        text-align: right;\n",
       "    }\n",
       "</style>\n",
       "<table border=\"1\" class=\"dataframe\">\n",
       "  <thead>\n",
       "    <tr style=\"text-align: right;\">\n",
       "      <th></th>\n",
       "      <th>climate change no LT - global warming potential (GWP100) no LT [kg CO2-Eq / ]</th>\n",
       "    </tr>\n",
       "  </thead>\n",
       "  <tbody>\n",
       "    <tr>\n",
       "      <th>median</th>\n",
       "      <td>9.74497</td>\n",
       "    </tr>\n",
       "    <tr>\n",
       "      <th>std</th>\n",
       "      <td>3.28935</td>\n",
       "    </tr>\n",
       "    <tr>\n",
       "      <th>p</th>\n",
       "      <td>[8.722027978618767, 15.235918233809436]</td>\n",
       "    </tr>\n",
       "    <tr>\n",
       "      <th>mean</th>\n",
       "      <td>10.6431</td>\n",
       "    </tr>\n",
       "    <tr>\n",
       "      <th>var</th>\n",
       "      <td>0.30906</td>\n",
       "    </tr>\n",
       "  </tbody>\n",
       "</table>\n",
       "</div>"
      ]
     },
     "execution_count": 139,
     "metadata": {},
     "output_type": "execute_result"
    },
    {
     "data": {
      "text/plain": [
       "<Figure size 1500x700 with 2 Axes>"
      ],
      "image/png": "[encoded data removed]"
     },
     "metadata": {},
     "output_type": "display_data"
    }
   ],
   "execution_count": 139
  },
  {
   "metadata": {
    "ExecuteTime": {
     "end_time": "2024-12-19T19:10:17.816562Z",
     "start_time": "2024-12-19T19:10:16.511549Z"
    }
   },
   "cell_type": "code",
   "source": [
    "# Full dashboard, including total variation of impacts \n",
    "agb.incer_stochastic_dashboard(\n",
    "    model=cu_mining_copy, \n",
    "    methods=gwp100,\n",
    "    functional_unit=1)"
   ],
   "id": "763d7f631e0ffda7",
   "outputs": [
    {
     "name": "stdout",
     "output_type": "stream",
     "text": [
      "Generating samples ...\n",
      "Transforming samples ...\n",
      "Processing Sobol indices ...\n",
      "Processing sobol for ('IPCC 2021 no LT', 'climate change no LT', 'global warming potential (GWP100) no LT')\n"
     ]
    },
    {
     "name": "stderr",
     "output_type": "stream",
     "text": [
      "C:\\Users\\mp_ma\\anaconda3\\envs\\lca\\lib\\site-packages\\SALib\\util\\__init__.py:274: FutureWarning: unique with argument that is not not a Series, Index, ExtensionArray, or np.ndarray is deprecated and will raise in a future version.\n",
      "  names = list(pd.unique(groups))\n"
     ]
    },
    {
     "data": {
      "text/plain": [
       "Tab(children=(Output(), Output(), Output(), Output()), selected_index=0, titles=('Violin graphs', 'Impact vari…"
      ],
      "application/vnd.jupyter.widget-view+json": {
       "version_major": 2,
       "version_minor": 0,
       "model_id": "4745da02d52b4c808d47559082a50f82"
      }
     },
     "metadata": {},
     "output_type": "display_data"
    }
   ],
   "execution_count": 140
  },
  {
   "metadata": {},
   "cell_type": "markdown",
   "source": "# Simplified model",
   "id": "623e2ed02c1c23b4"
  },
  {
   "metadata": {
    "ExecuteTime": {
     "end_time": "2024-12-19T19:10:52.942447Z",
     "start_time": "2024-12-19T19:10:50.523690Z"
    }
   },
   "cell_type": "code",
   "source": [
    "# First, let's look at the full expression defining our model\n",
    "expr, _ = agb.actToExpression(cu_mining_copy)\n",
    "expr"
   ],
   "id": "8c723ca2a527a825",
   "outputs": [
    {
     "data": {
      "text/plain": [
       "                      -0.53                                                    ↪\n",
       "15.63⋅ore_grade_copper     ⋅market_group_for_electricity_high_voltage + 9.8060 ↪\n",
       "\n",
       "↪                                                                              ↪\n",
       "↪ 9911341819e-6⋅Aluminium_III + 5.8337914222177e-8⋅Antimonyᵢₒₙ + 4.37534356666 ↪\n",
       "\n",
       "↪                                                                              ↪\n",
       "↪ 327e-7⋅Arsenicᵢₒₙ + 3.34936691523714e-7⋅Arsenicᵢₒₙ₁ + 0.0011827479684464⋅BOD ↪\n",
       "\n",
       "↪                                                                              ↪\n",
       "↪ _5_Biological_Oxygen_Demand + 1.2095619988748e-10⋅Barium_II + 7.588224912374 ↪\n",
       "\n",
       "↪                                                                              ↪\n",
       "↪ 45e-7⋅Beryllium_II + 2.91689571110885e-6⋅Boron + 0.0011827339562753⋅COD_Chem ↪\n",
       "\n",
       "↪                                                                              ↪\n",
       "↪ ical_Oxygen_Demand + 3.20858528221973e-8⋅Cadmium_II + 3.584328395191e-8⋅Cadm ↪\n",
       "\n",
       "↪                                                                              ↪\n",
       "↪ ium_II1 + 0.0778670993101096⋅Calcium_II + 0.361970259743385⋅Carbon_dioxide_f ↪\n",
       "\n",
       "↪                                                                              ↪\n",
       "↪ ossil + 0.0634107763284533⋅Carbon_disulfide + 2.91689571110885e-5⋅Chromium_I ↪\n",
       "\n",
       "↪                                                                              ↪\n",
       "↪ II + 6.20512749980835e-8⋅Chromium_III1 + 5.8337914222177e-6⋅Cobalt_II + 8.86 ↪\n",
       "\n",
       "↪                                                                              ↪\n",
       "↪ 607376068413e-8⋅Cobalt_II1 + 1.96573406594616⋅Copper + 1.45844785555443e-5⋅C ↪\n",
       "\n",
       "↪                                                                              ↪\n",
       "↪ opperᵢₒₙ + 8.98590561745558e-7⋅Copperᵢₒₙ₁ + 3.6717270323618e-15⋅Cyanide + 0. ↪\n",
       "\n",
       "↪                                                                              ↪\n",
       "↪ 00038771172965638⋅Cyanide₁ + 0.000462696085708195⋅DOC_Dissolved_Organic_Carb ↪\n",
       "\n",
       "↪                                                                              ↪\n",
       "↪ on + 0.000586548221613338⋅Dissolved_solids + 0.000277105092555341⋅Fluorine + ↪\n",
       "\n",
       "↪                                                                              ↪\n",
       "↪  1210.47036048992⋅Gangue + 1.86598908292274e-5⋅Gold + 3.29879914192147e-5⋅Ir ↪\n",
       "\n",
       "↪                                                                              ↪\n",
       "↪ onᵢₒₙ + 4.08365399555239e-6⋅Lead_II + 3.17611411014781e-7⋅Lead_II1 + 0.00027 ↪\n",
       "\n",
       "↪                                                                              ↪\n",
       "↪ 7105092555341⋅Manganese_II + 2.79922864097722e-6⋅Manganese_II1 + 1.458447855 ↪\n",
       "\n",
       "↪                                                                              ↪\n",
       "↪ 55443e-8⋅Mercury_II + 4.27259792369669e-9⋅Mercury_II1 + 0.0083165686583859⋅M ↪\n",
       "\n",
       "↪                                                                              ↪\n",
       "↪ olybdenum + 9.29443182807299e-14⋅Molybdenum_VI + 2.33351656888708e-5⋅Nickel_ ↪\n",
       "\n",
       "↪                                                                              ↪\n",
       "↪ II + 2.76085017358822e-6⋅Nickel_II1 + 0.00258141447759696⋅Nitrogen_organic_b ↪\n",
       "\n",
       "↪                                                                              ↪\n",
       "↪ ound + 3.47834755579601e-7⋅Nitrogen_oxides + 0.0333768917796064⋅Occupation_m ↪\n",
       "\n",
       "↪                                                                              ↪\n",
       "↪ ineral_extraction_site + 0.148321689429287⋅Particulate_Matter_10_um + 0.0143 ↪\n",
       "\n",
       "↪                                                                              ↪\n",
       "↪ 378672390329⋅Particulate_Matter_2_5_um + 0.129030014442565⋅Particulate_Matte ↪\n",
       "\n",
       "↪                                                                              ↪\n",
       "↪ r_2_5_um_and_10um + 0.00549227762711147⋅Selenium + 1.45844785555443e-8⋅Selen ↪\n",
       "\n",
       "↪                                                                              ↪\n",
       "↪ ium_IV + 0.000664292113520494⋅Silver + 0.267511433106252⋅Sulfate + 0.0004626 ↪\n",
       "\n",
       "↪                                                                              ↪\n",
       "↪ 8077828445⋅TOC_Total_Organic_Carbon + 0.000473623013655925⋅Tellurium + 0.001 ↪\n",
       "\n",
       "↪                                                                              ↪\n",
       "↪ 10968858574793⋅Transformation_from_unspecified + 0.00110968858574793⋅Transfo ↪\n",
       "\n",
       "↪                                                                              ↪\n",
       "↪ rmation_to_mineral_extraction_site + 0.0567768267173215⋅Water + 3.5888786463 ↪\n",
       "\n",
       "↪                                                                              ↪\n",
       "↪ 404e-6⋅Water₁ + 0.0567761933857957⋅Water₂ + 0.631479554628702⋅Waterᵣᵢᵥₑᵣ + 6 ↪\n",
       "\n",
       "↪                                                                              ↪\n",
       "↪ .41302457373351e-6⋅Water_well_in_ground + 5.54210185110681e-5⋅Zinc_II + 8.61 ↪\n",
       "\n",
       "↪                                                                              ↪\n",
       "↪ 038482348985e-6⋅Zinc_II1 + 5.36640901480986e-9⋅market_for_aluminium_hydroxid ↪\n",
       "\n",
       "↪                                                                              ↪\n",
       "↪ e_factory + 1.44943626364627e-6⋅market_for_aluminium_sulfate_powder + 0.3507 ↪\n",
       "\n",
       "↪                                                                              ↪\n",
       "↪ 8454359245⋅market_for_blasting + 7.29564621050156e-7⋅market_for_carbon_disul ↪\n",
       "\n",
       "↪                                                                              ↪\n",
       "↪ fide + 0.269792143764237⋅market_for_chemical_inorganic + 0.144299827585158⋅m ↪\n",
       "\n",
       "↪                                                                              ↪\n",
       "↪ arket_for_chemical_organic + 4.83287081570984e-5⋅market_for_conveyor_belt +  ↪\n",
       "\n",
       "↪                                                                              ↪\n",
       "↪ 3.24354481910431e-6⋅market_for_copper_sulfate + 1.61167457195626e-6⋅market_f ↪\n",
       "\n",
       "↪                                                                              ↪\n",
       "↪ or_diesel + 0.0229379387679655⋅market_for_diesel_burned_in_building_machine  ↪\n",
       "\n",
       "↪                                                                              ↪\n",
       "↪ + 2.41472097233864e-6⋅market_for_dithiocarbamate_compound + 1.33300774795796 ↪\n",
       "\n",
       "↪                                                                              ↪\n",
       "↪ e-5⋅market_for_iron_pellet + 0.455226935120064⋅market_for_lime_packed + 6.02 ↪\n",
       "\n",
       "↪                                                                              ↪\n",
       "↪ 703808163742e-9⋅market_for_mine_infrastructure_open_cast_non_ferrous_metal + ↪\n",
       "\n",
       "↪                                                                              ↪\n",
       "↪  2.62941723099188e-9⋅market_for_mine_infrastructure_underground_non_ferrous_ ↪\n",
       "\n",
       "↪                                                                              ↪\n",
       "↪ metal - 1096.88278829998⋅market_for_non_sulfidic_tailing_off_site + 1.545350 ↪\n",
       "\n",
       "↪                                                                              ↪\n",
       "↪ 51549715e-8⋅market_for_potassium_carbonate + 0.0123002051493369⋅market_for_s ↪\n",
       "\n",
       "↪                                                                              ↪\n",
       "↪ odium_cyanide + 0.462064924483151⋅market_for_steel_chromium_steel_18_8_hot_r ↪\n",
       "\n",
       "↪                                                                              ↪\n",
       "↪ olled - 627.236662975491⋅market_for_sulfidic_tailings_from_copper_mine_opera ↪\n",
       "\n",
       "↪                                                                              ↪\n",
       "↪ tion + 3.60229282013965e-6⋅market_for_synthetic_rubber + 3.03260960181819⋅ma ↪\n",
       "\n",
       "↪                                          \n",
       "↪ rket_group_for_electricity_medium_voltage"
      ],
      "image/png": "[encoded data removed]",
      "text/latex": "$\\displaystyle \\frac{15.63 market_{group for electricity high voltage}}{ore_{grade copper}^{0.53}} + 9.80609911341819 \\cdot 10^{-6} Aluminium_{III} + 5.8337914222177 \\cdot 10^{-8} Antimony_{ion} + 4.37534356666327 \\cdot 10^{-7} Arsenic_{ion} + 3.34936691523714 \\cdot 10^{-7} Arsenic_{ion1} + 0.0011827479684464 BOD_{5 \\mathcal{Biologi} Oxygen Demand} + 1.2095619988748 \\cdot 10^{-10} Barium_{II} + 7.58822491237445 \\cdot 10^{-7} Beryllium_{II} + 2.91689571110885 \\cdot 10^{-6} Boron + 0.0011827339562753 COD_{\\mathcal{Chemi} Oxygen Demand} + 3.20858528221973 \\cdot 10^{-8} Cadmium_{II} + 3.584328395191 \\cdot 10^{-8} Cadmium_{II1} + 0.0778670993101096 Calcium_{II} + 0.361970259743385 Carbon_{dioxide fossil} + 0.0634107763284533 Carbon_{disulfide} + 2.91689571110885 \\cdot 10^{-5} Chromium_{III} + 6.20512749980835 \\cdot 10^{-8} Chromium_{III1} + 5.8337914222177 \\cdot 10^{-6} Cobalt_{II} + 8.86607376068413 \\cdot 10^{-8} Cobalt_{II1} + 1.96573406594616 Copper + 1.45844785555443 \\cdot 10^{-5} Copper_{ion} + 8.98590561745558 \\cdot 10^{-7} Copper_{ion1} + 3.6717270323618 \\cdot 10^{-15} Cyanide + 0.00038771172965638 Cyanide_{1} + 0.000462696085708195 DOC_{Dissolved Organic Carbon} + 0.000586548221613338 Dissolved_{solids} + 0.000277105092555341 Fluorine + 1210.47036048992 Gangue + 1.86598908292274 \\cdot 10^{-5} Gold + 3.29879914192147 \\cdot 10^{-5} Iron_{ion} + 4.08365399555239 \\cdot 10^{-6} Lead_{II} + 3.17611411014781 \\cdot 10^{-7} Lead_{II1} + 0.000277105092555341 Manganese_{II} + 2.79922864097722 \\cdot 10^{-6} Manganese_{II1} + 1.45844785555443 \\cdot 10^{-8} Mercury_{II} + 4.27259792369669 \\cdot 10^{-9} Mercury_{II1} + 0.0083165686583859 Molybdenum + 9.29443182807299 \\cdot 10^{-14} Molybdenum_{VI} + 2.33351656888708 \\cdot 10^{-5} Nickel_{II} + 2.76085017358822 \\cdot 10^{-6} Nickel_{II1} + 0.00258141447759696 Nitrogen_{organic bound} + 3.47834755579601 \\cdot 10^{-7} Nitrogen_{oxides} + 0.0333768917796064 Occupation_{mineral extraction site} + 0.148321689429287 Particulate_{Matter 10 um} + 0.0143378672390329 Particulate_{Matter 2 5 um} + 0.129030014442565 Particulate_{Matter 2 5 um and 10um} + 0.00549227762711147 Selenium + 1.45844785555443 \\cdot 10^{-8} Selenium_{IV} + 0.000664292113520494 Silver + 0.267511433106252 Sulfate + 0.00046268077828445 TOC_{Total Organic Carbon} + 0.000473623013655925 Tellurium + 0.00110968858574793 Transformation_{from unspecified} + 0.00110968858574793 Transformation_{to mineral extraction site} + 0.0567768267173215 Water + 3.5888786463404 \\cdot 10^{-6} Water_{1} + 0.0567761933857957 Water_{2} + 0.631479554628702 Water_{river} + 6.41302457373351 \\cdot 10^{-6} Water_{well in ground} + 5.54210185110681 \\cdot 10^{-5} Zinc_{II} + 8.61038482348985 \\cdot 10^{-6} Zinc_{II1} + 5.36640901480986 \\cdot 10^{-9} market_{for aluminium hydroxide factory} + 1.44943626364627 \\cdot 10^{-6} market_{for aluminium sulfate powder} + 0.35078454359245 market_{for blasting} + 7.29564621050156 \\cdot 10^{-7} market_{for carbon disulfide} + 0.269792143764237 market_{for \\mathcal{chemi} inorganic} + 0.144299827585158 market_{for \\mathcal{chemi} organic} + 4.83287081570984 \\cdot 10^{-5} market_{for conveyor belt} + 3.24354481910431 \\cdot 10^{-6} market_{for copper sulfate} + 1.61167457195626 \\cdot 10^{-6} market_{for diesel} + 0.0229379387679655 market_{for diesel burned in building machine} + 2.41472097233864 \\cdot 10^{-6} market_{for dithiocarbamate compound} + 1.33300774795796 \\cdot 10^{-5} market_{for iron pellet} + 0.455226935120064 market_{for lime packed} + 6.02703808163742 \\cdot 10^{-9} market_{for mine infrastructure open cast non ferrous metal} + 2.62941723099188 \\cdot 10^{-9} market_{for mine infrastructure underground non ferrous metal} - 1096.88278829998 market_{for non sulfidic tailing off site} + 1.54535051549715 \\cdot 10^{-8} market_{for potassium carbonate} + 0.0123002051493369 market_{for sodium cyanide} + 0.462064924483151 market_{for steel chromium steel 18 8 hot rolled} - 627.236662975491 market_{for sulfidic tailings from copper mine operation} + 3.60229282013965 \\cdot 10^{-6} market_{for synthetic rubber} + 3.03260960181819 market_{group for electricity medium voltage}$"
     },
     "execution_count": 141,
     "metadata": {},
     "output_type": "execute_result"
    }
   ],
   "execution_count": 141
  },
  {
   "metadata": {
    "ExecuteTime": {
     "end_time": "2024-12-19T19:11:36.727049Z",
     "start_time": "2024-12-19T19:11:34.994637Z"
    }
   },
   "cell_type": "code",
   "source": [
    "simplified = agb.sobol_simplify_model(\n",
    "    cu_mining_copy, # The model\n",
    "    gwp100, # Impacts to consider\n",
    "    functional_unit=1,\n",
    "    \n",
    "    n=10000, # For large model, you may test other value and ensure ST and sum(S1) are close to 1.0 \n",
    "    fixed_mode = agb.FixedParamMode.MEDIAN, # We replace minor parameters by median by default,\n",
    "    min_ratio=0.8, # Min ratio of variability to explain\n",
    "    num_digits=3)"
   ],
   "id": "9a75626736b50ad3",
   "outputs": [
    {
     "name": "stdout",
     "output_type": "stream",
     "text": [
      "Generating samples ...\n",
      "Transforming samples ...\n"
     ]
    },
    {
     "name": "stderr",
     "output_type": "stream",
     "text": [
      "C:\\Users\\mp_ma\\anaconda3\\envs\\lca\\lib\\site-packages\\scipy\\stats\\_qmc.py:958: UserWarning: The balance properties of Sobol' points require n to be a power of 2.\n",
      "  sample = self._random(n, workers=workers)\n"
     ]
    },
    {
     "name": "stdout",
     "output_type": "stream",
     "text": [
      "Processing sobol for ('IPCC 2021 no LT', 'climate change no LT', 'global warming potential (GWP100) no LT')\n"
     ]
    },
    {
     "name": "stderr",
     "output_type": "stream",
     "text": [
      "C:\\Users\\mp_ma\\anaconda3\\envs\\lca\\lib\\site-packages\\SALib\\util\\__init__.py:274: FutureWarning: unique with argument that is not not a Series, Index, ExtensionArray, or np.ndarray is deprecated and will raise in a future version.\n",
      "  names = list(pd.unique(groups))\n"
     ]
    },
    {
     "name": "stdout",
     "output_type": "stream",
     "text": [
      "> Method :  climate change no LT - global warming potential (GWP100) no LT\n",
      "S1:  0.9978569033701155\n",
      "S2:  0.0016207311406579716\n",
      "ST:  0.99826208615528\n",
      "Selected params :  ['ore_grade_copper'] explains:  0.9978569033701155\n"
     ]
    },
    {
     "data": {
      "text/plain": [
       "                   -0.53      \n",
       "2.91⋅OreGradeCopper      + 6.9"
      ],
      "image/png": "[encoded data removed]",
      "text/latex": "$\\displaystyle \\frac{2.91}{OreGradeCopper^{0.53}} + 6.9$"
     },
     "metadata": {},
     "output_type": "display_data"
    }
   ],
   "execution_count": 142
  },
  {
   "metadata": {
    "ExecuteTime": {
     "end_time": "2024-12-19T19:11:47.169160Z",
     "start_time": "2024-12-19T19:11:47.083587Z"
    }
   },
   "cell_type": "code",
   "source": [
    "# Let's look at the expression for first impact again \n",
    "# much simpler ! \n",
    "simplified[0].expr"
   ],
   "id": "89d440f5fc612084",
   "outputs": [
    {
     "data": {
      "text/plain": [
       "                     -0.53      \n",
       "2.91⋅ore_grade_copper      + 6.9"
      ],
      "image/png": "[encoded data removed]",
      "text/latex": "$\\displaystyle \\frac{2.91}{ore_{grade copper}^{0.53}} + 6.9$"
     },
     "execution_count": 143,
     "metadata": {},
     "output_type": "execute_result"
    }
   ],
   "execution_count": 143
  },
  {
   "metadata": {
    "ExecuteTime": {
     "end_time": "2024-12-19T19:12:09.914790Z",
     "start_time": "2024-12-19T19:12:08.690375Z"
    }
   },
   "cell_type": "code",
   "source": [
    "agb.compare_simplified(\n",
    "    cu_mining_copy, \n",
    "    gwp100, \n",
    "    simplified,\n",
    "    functional_unit=1)"
   ],
   "id": "d25e6dff48ad8eec",
   "outputs": [
    {
     "name": "stderr",
     "output_type": "stream",
     "text": [
      "[INFO] Required param 'ore_grade_copper' was missing, replacing by default value : 0.834055\n",
      "[INFO] Required param 'ore_grade_copper' was missing, replacing by default value : 0.834055\n"
     ]
    },
    {
     "name": "stdout",
     "output_type": "stream",
     "text": [
      "Generating samples ...\n",
      "Transforming samples ...\n"
     ]
    },
    {
     "name": "stderr",
     "output_type": "stream",
     "text": [
      "C:\\Users\\mp_ma\\anaconda3\\envs\\lca\\lib\\site-packages\\lca_algebraic\\stats.py:1349: FutureWarning: Calling float on a single element Series is deprecated and will raise a TypeError in the future. Use float(ser.iloc[0]) instead\n",
      "  \"R² : %0.3g\" % r_value,\n"
     ]
    },
    {
     "data": {
      "text/plain": [
       "<Figure size 1500x1000 with 2 Axes>"
      ],
      "image/png": "[encoded data removed]"
     },
     "metadata": {},
     "output_type": "display_data"
    }
   ],
   "execution_count": 144
  },
  {
   "metadata": {},
   "cell_type": "code",
   "source": "",
   "id": "401c60e4a2485ae0",
   "outputs": [],
   "execution_count": null
  }
 ],
 "metadata": {
  "kernelspec": {
   "display_name": "Python 3",
   "language": "python",
   "name": "python3"
  },
  "language_info": {
   "codemirror_mode": {
    "name": "ipython",
    "version": 2
   },
   "file_extension": ".py",
   "mimetype": "text/x-python",
   "name": "python",
   "nbconvert_exporter": "python",
   "pygments_lexer": "ipython2",
   "version": "2.7.6"
  }
 },
 "nbformat": 4,
 "nbformat_minor": 5
}
