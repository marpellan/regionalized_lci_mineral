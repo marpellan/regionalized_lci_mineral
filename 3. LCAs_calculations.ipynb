{
 "cells": [
  {
   "cell_type": "code",
   "id": "c92e8bba-2d0c-429f-b341-f21e0da46995",
   "metadata": {},
   "source": [
    "from IPython.display import display, HTML\n",
    "display(HTML(\"<style>.container { width:80% !important; }</style>\"))"
   ],
   "outputs": [],
   "execution_count": null
  },
  {
   "cell_type": "code",
   "id": "06dc908c-bc70-475f-8241-49b98d1c291b",
   "metadata": {},
   "source": [
    "# Brightway imports\n",
    "import bw2analyzer as ba\n",
    "import bw2calc as bc\n",
    "import bw2data as bd\n",
    "import bw2io as bi\n",
    "import brightway2 as bw"
   ],
   "outputs": [],
   "execution_count": null
  },
  {
   "cell_type": "code",
   "id": "f9681295-72c1-4a8a-9b9b-eb2e9afa1335",
   "metadata": {},
   "source": [
    "import pandas as pd\n",
    "import numpy as np\n",
    "import datetime\n",
    "import os"
   ],
   "outputs": [],
   "execution_count": null
  },
  {
   "metadata": {},
   "cell_type": "code",
   "source": [
    "# Custom functions\n",
    "from useful_functions import get_inventory_dataset, init_simple_lca, multi_lcia, multi_contribution_analysis, calculate_projected_impacts\n",
    "from visualisation_functions import plot_multilca_impacts, plot_contribution_analysis, plot_production_impacts, plot_incremental_impacts, plot_iwplus_contributions, plot_scenario_production_comparison"
   ],
   "id": "117379e07fd74b12",
   "outputs": [],
   "execution_count": null
  },
  {
   "cell_type": "markdown",
   "id": "fd081b51-0698-4657-89d2-63f0bcf26c45",
   "metadata": {
    "ExecuteTime": {
     "end_time": "2024-10-29T14:41:40.053900Z",
     "start_time": "2024-10-29T14:41:39.840092Z"
    }
   },
   "source": [
    "# Set projects, LCI and LCIA methods"
   ]
  },
  {
   "cell_type": "code",
   "id": "a42dfc1f-3d05-4893-9727-bfadf5efaed1",
   "metadata": {},
   "source": [
    "BW_PROJECT = 'regioinvent' # insert your project name here\n",
    "bd.projects.set_current(BW_PROJECT)\n",
    "bd.databases"
   ],
   "outputs": [],
   "execution_count": null
  },
  {
   "metadata": {},
   "cell_type": "code",
   "source": [
    "EI_DB = 'ecoinvent-3.9.1-cutoff'\n",
    "LIB_RM_DB = 'LIB raw materials'"
   ],
   "id": "3085b87dadd2e7f8",
   "outputs": [],
   "execution_count": null
  },
  {
   "metadata": {},
   "cell_type": "markdown",
   "source": "## Import LCI",
   "id": "aa303420c06c0d38"
  },
  {
   "cell_type": "code",
   "id": "9e404e2e-e37f-403e-b747-4da9f65eebb8",
   "metadata": {},
   "source": [
    "# (mineral name: activity name, reference product, location)\n",
    "INVENTORIES = {\n",
    "    \n",
    "    ## Neodymium\n",
    "    \"Neodymium\":        (\"rare earth oxides production, from rare earth carbonate concentrate\", \"neodymium oxide\", \"RoW\"),\n",
    "    \n",
    "    ## Copper\n",
    "    \"Copper concentrate, Canada\": ('copper mine operation and beneficiation, sulfide ore', 'copper concentrate, sulfide ore', 'CA'),\n",
    "    \"Market for copper, cathode\": ('market for copper, cathode', 'copper, cathode', 'GLO'),\n",
    "    \n",
    "    # From Istrate et al (2024)\n",
    "    \"Lithium hydroxide, brine\":        (\"lithium hydroxide production, Salar de Atacama\", \"lithium hydroxide, battery grade\", \"CL\"),\n",
    "    \"Lithium hydroxide, spodumene\":    (\"lithium hydroxide production, from Australian spodumene\", \"lithium hydroxide, battery grade\", \"CN\"),\n",
    "    \"Cobalt\":                (\"cobalt sulfate production, from copper-cobalt ore, economic allocation\", \"cobalt sulfate\", \"CN\"),\n",
    "    \"Nickel\":                (\"nickel sulfate production, average excluding China, economic allocation\", \"nickel sulfate\", \"GLO\"),\n",
    "    \"Graphite, natural\":     (\"natural graphite production, battery grade, from Heilongjiang\", \"natural graphite, battery grade\", \"CN\"),\n",
    "    \"Graphite, synthetic\":   (\"graphite powder coating\", \"synthetic graphite, battery grade\", \"CN\"),\n",
    "    \n",
    "    \"Lithium carbonate, brine\":        (\"lithium carbonate production, Salar de Atacama\", \"lithium carbonate, battery grade\", \"CL\"),\n",
    "    \"Lithium carbonate, spodumene\":    (\"lithium carbonate production, from Australian spodumene\", \"lithium carbonate, battery grade\", \"CN\"),\n",
    "}"
   ],
   "outputs": [],
   "execution_count": null
  },
  {
   "metadata": {},
   "cell_type": "code",
   "source": "INVENTORIES_ds = get_inventory_dataset(INVENTORIES, database_names=[EI_DB, LIB_RM_DB])",
   "id": "54206c86b5e7053f",
   "outputs": [],
   "execution_count": null
  },
  {
   "metadata": {},
   "cell_type": "code",
   "source": "INVENTORIES_ds",
   "id": "38f4c985d9fcf239",
   "outputs": [],
   "execution_count": null
  },
  {
   "metadata": {},
   "cell_type": "markdown",
   "source": "## Pick LCIA methods",
   "id": "75e53e1e6c2afd65"
  },
  {
   "metadata": {},
   "cell_type": "code",
   "source": [
    "# We can also import some from IW+2.1\n",
    "footprint_ei39 = 'data/IW+2.1/impact_world_plus_21_brightway2_footprint_version_ei39.fcfdfe7f6cab324019dc181525db2f39.bw2package'\n",
    "bw.BW2Package.import_file(footprint_ei39)"
   ],
   "id": "1bdfe1c6a2fbf5ee",
   "outputs": [],
   "execution_count": null
  },
  {
   "metadata": {},
   "cell_type": "code",
   "source": [
    "# Filter and display methods that contain \"IMPACT World+\" in their names\n",
    "iw_methods = [method for method in bd.methods if \"impact world+\" in \" \".join(method).lower()]\n",
    "df_iw_methods = pd.DataFrame(iw_methods, columns=[\"Method\", \"Impact Category\", \"Subcategory\"])\n",
    "#df_iw_methods.to_csv(r'data/iw_methods.csv', index=False)"
   ],
   "id": "a136911489b9050a",
   "outputs": [],
   "execution_count": null
  },
  {
   "metadata": {},
   "cell_type": "code",
   "source": [
    "# To take them all\n",
    "IMPACT_METHODS_ALL = {method[-1]: method for method in iw_methods}\n",
    "IMPACT_METHODS_ALL"
   ],
   "id": "a3d9b26ec57878d8",
   "outputs": [],
   "execution_count": null
  },
  {
   "metadata": {},
   "cell_type": "code",
   "source": [
    "# We take only a few one for testing\n",
    "IMPACT_METHODS = {\n",
    "'Climate change ST': ('IMPACT World+ Midpoint 2.0.1_regionalized','Midpoint', 'Climate change, short term'), \n",
    "'Total human health': ('IMPACT World+ Damage 2.0.1_regionalized','Human health', 'Total human health'), \n",
    "'Total ecosystem quality': ('IMPACT World+ Damage 2.0.1_regionalized','Ecosystem quality', 'Total ecosystem quality'), \n",
    "}\n"
   ],
   "id": "38deb375951277d1",
   "outputs": [],
   "execution_count": null
  },
  {
   "cell_type": "markdown",
   "id": "568e315e-20e5-414c-9137-d130a70fe280",
   "metadata": {
    "ExecuteTime": {
     "end_time": "2024-10-29T15:19:44.789796Z",
     "start_time": "2024-10-29T15:19:44.776386Z"
    }
   },
   "source": "# Calculate specific impacts (e.g. per mass)"
  },
  {
   "cell_type": "code",
   "id": "3f754e34-efbb-4bb5-80f4-7925f0e06837",
   "metadata": {},
   "source": [
    "# Initialize LCA object\n",
    "lca = init_simple_lca(INVENTORIES_ds[\"Lithium hydroxide, brine\"], method=IMPACT_METHODS)"
   ],
   "outputs": [],
   "execution_count": null
  },
  {
   "cell_type": "code",
   "id": "8406a076-d963-4d6b-a6c0-45e33947ce39",
   "metadata": {},
   "source": [
    "specific_lca = {}\n",
    "for rm in INVENTORIES_ds:\n",
    "    impacts = multi_lcia(lca, INVENTORIES_ds[rm], IMPACT_METHODS)\n",
    "    specific_lca[rm] = impacts\n",
    "\n",
    "specific_lca = pd.DataFrame(specific_lca).T"
   ],
   "outputs": [],
   "execution_count": null
  },
  {
   "cell_type": "code",
   "id": "26ad6994-6f8f-40c3-a130-4c8865bebff9",
   "metadata": {},
   "source": "specific_lca",
   "outputs": [],
   "execution_count": null
  },
  {
   "metadata": {},
   "cell_type": "code",
   "source": [
    "# Call the function\n",
    "plot_multilca_impacts(specific_lca, \n",
    "                 colors=[\"#1f77b4\", \"#ff7f0e\", \"#2ca02c\"], \n",
    "                 save_path=\"results/specific_lca_results/lca_impacts_iw201_reg.png\")"
   ],
   "id": "99726d10fc931d82",
   "outputs": [],
   "execution_count": null
  },
  {
   "cell_type": "code",
   "id": "771f2ded-ada4-4c2c-9660-9cfbfbfdd7c2",
   "metadata": {},
   "source": "specific_lca.to_csv(f\"results/specific_lca_results/specific_results_{datetime.datetime.today().strftime('%d-%m-%Y')}.csv\", index_label=\"Raw material\")",
   "outputs": [],
   "execution_count": null
  },
  {
   "metadata": {},
   "cell_type": "code",
   "source": [
    "# Initialize a dictionary to store contribution results for each inventory\n",
    "contribution_results = {}\n",
    "\n",
    "# Loop through each inventory and perform contribution analysis\n",
    "for rm_name, rm_ds in INVENTORIES_ds.items():\n",
    "    lca = init_simple_lca(rm_ds)\n",
    "    contributions = multi_contribution_analysis(lca, IMPACT_METHODS, top_n=10, threshold=0.01)  # Set your threshold here\n",
    "    contribution_results[rm_name] = contributions\n",
    "\n",
    "# Convert the results into a more readable format for analysis\n",
    "contribution_dfs = {}\n",
    "\n",
    "for rm_name, impacts in contribution_results.items():\n",
    "    for impact_name, contributions in impacts.items():\n",
    "        df = pd.DataFrame(contributions)\n",
    "        df[\"Inventory\"] = rm_name\n",
    "        df[\"Impact Category\"] = impact_name\n",
    "        contribution_dfs[(rm_name, impact_name)] = df\n",
    "\n",
    "# Combine all individual DataFrames into one for easy viewing\n",
    "contribution_analysis_df = pd.concat(contribution_dfs.values(), ignore_index=True)\n",
    "\n",
    "# Set \"Inventory\" and \"Impact Category\" as the row indices\n",
    "contribution_analysis_df.set_index([\"Inventory\", \"Impact Category\"], inplace=True)\n"
   ],
   "id": "8537726a7e927e6b",
   "outputs": [],
   "execution_count": null
  },
  {
   "metadata": {},
   "cell_type": "code",
   "source": "contribution_analysis_df",
   "id": "ab83c92d12009ab5",
   "outputs": [],
   "execution_count": null
  },
  {
   "metadata": {},
   "cell_type": "code",
   "source": [
    "# Example usage\n",
    "inventory_names = [\"Lithium hydroxide, brine\", \n",
    "                   \"Lithium hydroxide, spodumene\", \n",
    "                   \"Cobalt\", \n",
    "                   \"Nickel\", \n",
    "                   \"Graphite, natural\", \n",
    "                   \"Graphite, synthetic\", \n",
    "                   \"Lithium carbonate, brine\", \n",
    "                   \"Lithium carbonate, spodumene\",\n",
    "                   \"Neodymium\", \n",
    "                   \"Copper concentrate, Canada\", \n",
    "                   \"Market for copper, cathode\"           \n",
    "                   ]\n",
    "plot_contribution_analysis(contribution_analysis_df, inventory_names,\n",
    "                           colors=[\"#1f77b4\", \"#ff7f0e\", \"#2ca02c\", \"#d62728\"], \n",
    "                           save_dir=\"results/specific_lca_results/contribution_analysis\")"
   ],
   "id": "8ed56d3c4628e046",
   "outputs": [],
   "execution_count": null
  },
  {
   "metadata": {},
   "cell_type": "code",
   "source": "contribution_analysis_df.to_csv(f\"results/specific_lca_results/contribution_analysis/contribution_analysis_{datetime.datetime.today().strftime('%d-%m-%Y')}.csv\")",
   "id": "64c15a88ae1aea8a",
   "outputs": [],
   "execution_count": null
  },
  {
   "metadata": {},
   "cell_type": "markdown",
   "source": "## See causes of HH and EQ ",
   "id": "40d85f06524142b2"
  },
  {
   "metadata": {},
   "cell_type": "markdown",
   "source": "We compute all subcategories for ecosystem quality and human health to see their relative contributions to their respective total impacts",
   "id": "312d42480ccf70a"
  },
  {
   "metadata": {},
   "cell_type": "code",
   "source": [
    "# Filter to remove midpoint indicators and footprint entries\n",
    "IMPACT_METHODS_DAMAGE = {\n",
    "    key: value for key, value in IMPACT_METHODS_ALL.items()\n",
    "    if value[1] != \"Midpoint\" and value[0] != \"IMPACT World+ Footprint 2.1 for ecoinvent v3.10\"\n",
    "}"
   ],
   "id": "ccfe95aee66f0121",
   "outputs": [],
   "execution_count": null
  },
  {
   "metadata": {},
   "cell_type": "code",
   "source": "IMPACT_METHODS_DAMAGE",
   "id": "45e540c899682bde",
   "outputs": [],
   "execution_count": null
  },
  {
   "metadata": {},
   "cell_type": "code",
   "source": [
    " #Initialize LCA object\n",
    "lca_damage = init_simple_lca(INVENTORIES_ds[\"Lithium hydroxide, brine\"], method=IMPACT_METHODS_DAMAGE)"
   ],
   "id": "bd548154052792af",
   "outputs": [],
   "execution_count": null
  },
  {
   "metadata": {},
   "cell_type": "code",
   "source": [
    "specific_lca_damage = {}\n",
    "for rm in INVENTORIES_ds:\n",
    "    impacts = multi_lcia(lca_damage, INVENTORIES_ds[rm], IMPACT_METHODS_DAMAGE)\n",
    "    specific_lca_damage[rm] = impacts\n",
    "\n",
    "specific_lca_damage = pd.DataFrame(specific_lca_damage).T"
   ],
   "id": "39fcbec81c8dde02",
   "outputs": [],
   "execution_count": null
  },
  {
   "metadata": {},
   "cell_type": "code",
   "source": "specific_lca_damage",
   "id": "e6d2afded4187a2d",
   "outputs": [],
   "execution_count": null
  },
  {
   "metadata": {},
   "cell_type": "code",
   "source": "specific_lca_damage.to_csv(f\"results/specific_lca_results/specific_results_hh_eq{datetime.datetime.today().strftime('%d-%m-%Y')}.csv\", index_label=\"Raw material\")",
   "id": "64a5aa695af09783",
   "outputs": [],
   "execution_count": null
  },
  {
   "metadata": {},
   "cell_type": "code",
   "source": "plot_iwplus_contributions(specific_lca_damage, save_path_eco=\"results/specific_lca_results/ecosystem_quality_contributions.png\", save_path_hh=\"results/specific_lca_results/human_health_contributions.png\")",
   "id": "9d987ab27a38d683",
   "outputs": [],
   "execution_count": null
  },
  {
   "metadata": {},
   "cell_type": "markdown",
   "source": "# Calculate production-related impacts (e.g. scaled with scenarios)",
   "id": "53640853be6fd242"
  },
  {
   "metadata": {},
   "cell_type": "markdown",
   "source": "## Import scenarios",
   "id": "4995d4381bf1364a"
  },
  {
   "metadata": {},
   "cell_type": "markdown",
   "source": "They are from the Canadian Climate Institute and can be found [here](https://440megatonnes.ca/insight/canada-critical-minerals-clean-energy-transition/)",
   "id": "2d5d24861e38b903"
  },
  {
   "metadata": {},
   "cell_type": "code",
   "source": [
    "production_existing = pd.read_excel(r'data/scenarios_canadian_climate_institute.xlsx', sheet_name='Production_existing')\n",
    "production_potential = pd.read_excel(r'data/scenarios_canadian_climate_institute.xlsx', sheet_name='Production_potential')\n",
    "production_existing = production_existing[production_existing['Scenario']=='Domestic demand scenario']\n",
    "production_potential = production_potential[production_potential['Scenario']=='Domestic demand scenario']"
   ],
   "id": "6f4231a77c67d782",
   "outputs": [],
   "execution_count": null
  },
  {
   "metadata": {},
   "cell_type": "code",
   "source": "plot_scenario_production_comparison(production_existing, production_potential, save_path='results/demand_lca_results/cci_production_scenarios.png')",
   "id": "e659749d8dff5d3d",
   "outputs": [],
   "execution_count": null
  },
  {
   "metadata": {},
   "cell_type": "markdown",
   "source": "## Choose which LCI to associate with each mineral ",
   "id": "9ec15b59f0973821"
  },
  {
   "metadata": {},
   "cell_type": "code",
   "source": [
    "specific_lca = specific_lca.reset_index().rename(columns={'index': 'Mineral'})\n",
    "specific_lca"
   ],
   "id": "288803d3c42165d4",
   "outputs": [],
   "execution_count": null
  },
  {
   "metadata": {},
   "cell_type": "code",
   "source": [
    "# Define a manual mapping to link the mineral in the scenario with the LCI of our choice\n",
    "mineral_to_material = {\n",
    "    \"Cobalt\": \"Cobalt\",\n",
    "    \"Copper\": \"Copper concentrate, Canada\",\n",
    "    \"Lithium\": \"Lithium carbonate, spodumene\", \n",
    "    \"Nickel\": \"Nickel\",\n",
    "    \"Graphite\": \"Graphite, natural\",\n",
    "    \"Neodymium\": \"Neodymium\"  \n",
    "}\n"
   ],
   "id": "a800055ad6fe1e04",
   "outputs": [],
   "execution_count": null
  },
  {
   "metadata": {},
   "cell_type": "markdown",
   "source": "## Calculate the production-related impacts of scenarios",
   "id": "abb099417164a738"
  },
  {
   "metadata": {},
   "cell_type": "code",
   "source": [
    "# Generate the projected impacts DataFrame\n",
    "projected_impacts_existing_production = calculate_projected_impacts(production_existing, specific_lca, mineral_to_material)\n",
    "projected_impacts_potential_production = calculate_projected_impacts(production_potential, specific_lca, mineral_to_material)\n"
   ],
   "id": "e4e4d3dcb95b0e0b",
   "outputs": [],
   "execution_count": null
  },
  {
   "metadata": {},
   "cell_type": "code",
   "source": "projected_impacts_existing_production",
   "id": "7f4f18012ca43900",
   "outputs": [],
   "execution_count": null
  },
  {
   "metadata": {},
   "cell_type": "code",
   "source": "projected_impacts_existing_production.columns",
   "id": "f65571f6e4309d88",
   "outputs": [],
   "execution_count": null
  },
  {
   "metadata": {},
   "cell_type": "code",
   "source": [
    "impact_categories = [\n",
    "'Climate change ST (kg CO2 eq (short))',\n",
    "'Total human health (DALY)',\n",
    "'Total ecosystem quality (PDF.m2.yr)'    \n",
    "]"
   ],
   "id": "1a291d4d4b7caa9a",
   "outputs": [],
   "execution_count": null
  },
  {
   "metadata": {},
   "cell_type": "code",
   "source": [
    "# Plot impacts per production scenario\n",
    "plot_production_impacts(projected_impacts_existing_production, production_existing, \n",
    "                             impact_categories, \n",
    "                             scenario_name='existing_production')\n",
    "plot_production_impacts(projected_impacts_potential_production, production_potential, \n",
    "                             impact_categories, scenario_name='potential_production')\n"
   ],
   "id": "f79da374858de1b2",
   "outputs": [],
   "execution_count": null
  },
  {
   "metadata": {},
   "cell_type": "code",
   "source": [
    "# Plot incremental impacts from potential production to existing production\n",
    "plot_incremental_impacts(projected_impacts_existing_production, projected_impacts_potential_production,\n",
    "                                 production_existing, production_potential, \n",
    "                                 impact_categories, save_dir=\"results/demand_lca_results\", scenario_name=\"incremental_comparison\")\n"
   ],
   "id": "c64e63499e437e5c",
   "outputs": [],
   "execution_count": null
  },
  {
   "metadata": {},
   "cell_type": "code",
   "source": "",
   "id": "315509c981310e5e",
   "outputs": [],
   "execution_count": null
  }
 ],
 "metadata": {
  "kernelspec": {
   "display_name": "Python 3 (ipykernel)",
   "language": "python",
   "name": "python3"
  },
  "language_info": {
   "codemirror_mode": {
    "name": "ipython",
    "version": 3
   },
   "file_extension": ".py",
   "mimetype": "text/x-python",
   "name": "python",
   "nbconvert_exporter": "python",
   "pygments_lexer": "ipython3",
   "version": "3.10.15"
  }
 },
 "nbformat": 4,
 "nbformat_minor": 5
}
