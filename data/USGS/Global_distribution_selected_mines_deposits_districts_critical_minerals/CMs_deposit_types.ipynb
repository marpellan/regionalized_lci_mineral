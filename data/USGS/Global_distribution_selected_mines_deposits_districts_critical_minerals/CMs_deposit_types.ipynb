{
 "cells": [
  {
   "cell_type": "code",
   "execution_count": 8,
   "id": "b009817a-af34-4030-9d15-aa276816a628",
   "metadata": {},
   "outputs": [],
   "source": [
    "import pandas as pd \n",
    "import plotly.graph_objects as go"
   ]
  },
  {
   "cell_type": "code",
   "execution_count": 9,
   "id": "09c560de-2d2c-4e48-8470-542c384b2789",
   "metadata": {},
   "outputs": [],
   "source": [
    "data = pd.read_excel(r'Global-critical-minerals-usgs.xlsx', sheet_name='pp1802_critmin_pts')"
   ]
  },
  {
   "cell_type": "markdown",
   "id": "d2457efb-fdae-4c26-a42c-7a9e2e26c0a2",
   "metadata": {},
   "source": [
    "# World"
   ]
  },
  {
   "cell_type": "code",
   "execution_count": 3,
   "id": "89aa0281-acea-426b-8be9-599e468d2158",
   "metadata": {},
   "outputs": [],
   "source": [
    "# Truncate deposit type names to the first 10 characters for readability\n",
    "data['DEPOSIT_TY'] = data['DEPOSIT_TY'].str[:10]  # Limit deposit type to 10 characters\n",
    "\n",
    "# Recreate nodes and links after truncation\n",
    "countries = data['LOCATION'].unique()\n",
    "minerals = data['CRITICAL_M'].unique()\n",
    "deposit_types = data['DEPOSIT_TY'].unique()\n",
    "\n",
    "nodes = list(countries) + list(minerals) + list(deposit_types)\n",
    "node_indices = {name: i for i, name in enumerate(nodes)}\n",
    "\n",
    "# Define the links with truncated deposit type labels\n",
    "links = {\n",
    "    'source': [],\n",
    "    'target': [],\n",
    "    'value': []\n",
    "}\n",
    "\n",
    "# Populate the links with truncated deposit types\n",
    "for _, row in data.iterrows():\n",
    "    country_idx = node_indices[row['LOCATION']]\n",
    "    mineral_idx = node_indices[row['CRITICAL_M']]\n",
    "    deposit_type_idx = node_indices[row['DEPOSIT_TY']]\n",
    "    \n",
    "    # Country to Mineral\n",
    "    links['source'].append(country_idx)\n",
    "    links['target'].append(mineral_idx)\n",
    "    links['value'].append(1)\n",
    "\n",
    "    # Mineral to Deposit Type\n",
    "    links['source'].append(mineral_idx)\n",
    "    links['target'].append(deposit_type_idx)\n",
    "    links['value'].append(1)"
   ]
  },
  {
   "cell_type": "code",
   "execution_count": 16,
   "id": "f5a01db7-7a3f-4caf-9902-9f2ec59d8f3c",
   "metadata": {},
   "outputs": [
    {
     "data": {
      "text/plain": [
       "'sankey_diagram_world.html'"
      ]
     },
     "execution_count": 16,
     "metadata": {},
     "output_type": "execute_result"
    }
   ],
   "source": [
    "# Adjusting the color of the flows to light grey and text to a darker color for better readability\n",
    "fig = go.Figure(data=[go.Sankey(\n",
    "    node=dict(\n",
    "        pad=20,\n",
    "        thickness=20,\n",
    "        line=dict(color=\"black\", width=0.5),\n",
    "        label=nodes,\n",
    "        #color=\"darkblue\"  # Set nodes color to dark blue for contrast\n",
    "    ),\n",
    "    link=dict(\n",
    "        source=links['source'],\n",
    "        target=links['target'],\n",
    "        value=links['value'],\n",
    "        color=\"lightgrey\"  # Set flow color to light grey for readability\n",
    "    )\n",
    ")])\n",
    "\n",
    "# Update layout with larger dimensions and save as HTML\n",
    "fig.update_layout(\n",
    "    title_text=\"Country, Critical Minerals, and Deposit Types from USGS\",\n",
    "    font_size=14,\n",
    "    width=1600,\n",
    "    height=1000\n",
    ")\n",
    "\n",
    "# Save the updated figure as an HTML file for better visualization\n",
    "html_path_updated = 'sankey_diagram_world.html'\n",
    "fig.write_html(html_path_updated)\n",
    "\n",
    "html_path_updated"
   ]
  },
  {
   "cell_type": "markdown",
   "id": "979ed1b2-b834-42e8-8566-048724fdc7cd",
   "metadata": {},
   "source": [
    "# Canada"
   ]
  },
  {
   "cell_type": "code",
   "execution_count": 13,
   "id": "125a457a-8ea4-4c77-bac8-614935d6214f",
   "metadata": {},
   "outputs": [
    {
     "data": {
      "text/plain": [
       "'sankey_diagram_canada.html'"
      ]
     },
     "execution_count": 13,
     "metadata": {},
     "output_type": "execute_result"
    }
   ],
   "source": [
    "# Filter the data specifically for Canada\n",
    "canada_data = data[data['LOCATION'] == \"Canada\"]\n",
    "\n",
    "# Extract nodes for just minerals and deposit types for Canada\n",
    "minerals_canada = canada_data['CRITICAL_M'].unique()\n",
    "deposit_types_canada = canada_data['DEPOSIT_TY'].unique()\n",
    "\n",
    "# Create nodes for the Sankey diagram (minerals and deposit types)\n",
    "nodes_canada = list(minerals_canada) + list(deposit_types_canada)\n",
    "node_indices_canada = {name: i for i, name in enumerate(nodes_canada)}\n",
    "\n",
    "# Define the links for the Canada-specific Sankey diagram\n",
    "links_canada = {\n",
    "    'source': [],\n",
    "    'target': [],\n",
    "    'value': []\n",
    "}\n",
    "\n",
    "# Populate links between minerals and deposit types for Canada\n",
    "for _, row in canada_data.iterrows():\n",
    "    mineral_idx = node_indices_canada[row['CRITICAL_M']]\n",
    "    deposit_type_idx = node_indices_canada[row['DEPOSIT_TY']]\n",
    "\n",
    "    # Mineral to Deposit Type link\n",
    "    links_canada['source'].append(mineral_idx)\n",
    "    links_canada['target'].append(deposit_type_idx)\n",
    "    links_canada['value'].append(1)\n",
    "\n",
    "# Create the Canada-specific Sankey figure\n",
    "fig_canada = go.Figure(data=[go.Sankey(\n",
    "    node=dict(\n",
    "        pad=20,\n",
    "        thickness=20,\n",
    "        line=dict(color=\"black\", width=0.5),\n",
    "        label=nodes_canada,\n",
    "        #color=\"darkblue\"\n",
    "    ),\n",
    "    link=dict(\n",
    "        source=links_canada['source'],\n",
    "        target=links_canada['target'],\n",
    "        value=links_canada['value'],\n",
    "        color=\"lightgrey\"\n",
    "    )\n",
    ")])\n",
    "\n",
    "# Update layout and save as an HTML file for viewing\n",
    "fig_canada.update_layout(\n",
    "    title_text=\"Canada's Critical Minerals and Deposit Types (USGS)\",\n",
    "    font_size=18,\n",
    "    width=1600,\n",
    "    height=1000\n",
    ")\n",
    "\n",
    "# Save the figure as an HTML file for Canada-specific Sankey diagram\n",
    "html_path_canada = 'sankey_diagram_canada.html'\n",
    "fig_canada.write_html(html_path_canada)\n",
    "\n",
    "html_path_canada\n"
   ]
  },
  {
   "cell_type": "code",
   "execution_count": null,
   "id": "acbb297c-6aa4-478c-b1c1-3529ade4179e",
   "metadata": {},
   "outputs": [],
   "source": []
  }
 ],
 "metadata": {
  "kernelspec": {
   "display_name": "Python 3 (ipykernel)",
   "language": "python",
   "name": "python3"
  },
  "language_info": {
   "codemirror_mode": {
    "name": "ipython",
    "version": 3
   },
   "file_extension": ".py",
   "mimetype": "text/x-python",
   "name": "python",
   "nbconvert_exporter": "python",
   "pygments_lexer": "ipython3",
   "version": "3.12.7"
  }
 },
 "nbformat": 4,
 "nbformat_minor": 5
}
