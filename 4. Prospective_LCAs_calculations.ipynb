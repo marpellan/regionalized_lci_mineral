{
 "cells": [
  {
   "cell_type": "code",
   "id": "c92e8bba-2d0c-429f-b341-f21e0da46995",
   "metadata": {},
   "source": [
    "from IPython.display import display, HTML\n",
    "display(HTML(\"<style>.container { width:80% !important; }</style>\"))"
   ],
   "outputs": [],
   "execution_count": null
  },
  {
   "cell_type": "code",
   "id": "06dc908c-bc70-475f-8241-49b98d1c291b",
   "metadata": {},
   "source": [
    "# Brightway imports\n",
    "import bw2analyzer as ba\n",
    "import bw2calc as bc\n",
    "import bw2data as bd\n",
    "import bw2io as bi\n",
    "import brightway2 as bw"
   ],
   "outputs": [],
   "execution_count": null
  },
  {
   "cell_type": "code",
   "id": "f9681295-72c1-4a8a-9b9b-eb2e9afa1335",
   "metadata": {},
   "source": [
    "import pandas as pd\n",
    "import numpy as np\n",
    "import datetime\n",
    "import os"
   ],
   "outputs": [],
   "execution_count": null
  },
  {
   "metadata": {},
   "cell_type": "code",
   "source": [
    "# Custom functions\n",
    "from useful_functions import get_inventory_dataset, init_simple_lca, multi_lcia, multi_contribution_analysis, calculate_projected_impacts\n",
    "from visualisation_functions import plot_multilca_impacts, plot_multilca_impacts_multidb, plot_contribution_analysis, plot_production_impacts, plot_incremental_impacts, plot_iwplus_contributions, plot_scenario_production_comparison"
   ],
   "id": "117379e07fd74b12",
   "outputs": [],
   "execution_count": null
  },
  {
   "cell_type": "markdown",
   "id": "fd081b51-0698-4657-89d2-63f0bcf26c45",
   "metadata": {
    "ExecuteTime": {
     "end_time": "2024-10-29T14:41:40.053900Z",
     "start_time": "2024-10-29T14:41:39.840092Z"
    }
   },
   "source": [
    "# Set projects, LCI and LCIA methods"
   ]
  },
  {
   "cell_type": "code",
   "id": "a42dfc1f-3d05-4893-9727-bfadf5efaed1",
   "metadata": {},
   "source": [
    "BW_PROJECT = 'lib_rm' # insert your project name here\n",
    "bd.projects.set_current(BW_PROJECT)\n",
    "bd.databases"
   ],
   "outputs": [],
   "execution_count": null
  },
  {
   "metadata": {},
   "cell_type": "code",
   "source": [
    "EI_DB = 'ecoinvent-3.10-cutoff'\n",
    "LIB_RM_DB = 'LIB raw materials'\n",
    "image_2020 = 'image_26_2020'\n",
    "image_2030 = 'image_26_2030'\n",
    "image_2040 = 'image_26_2040'\n",
    "image_2050 = 'image_26_2050'\n",
    "prospective_db = [image_2020, image_2030, image_2040, image_2050]"
   ],
   "id": "3085b87dadd2e7f8",
   "outputs": [],
   "execution_count": null
  },
  {
   "metadata": {},
   "cell_type": "markdown",
   "source": "## Import LCI",
   "id": "aa303420c06c0d38"
  },
  {
   "metadata": {},
   "cell_type": "code",
   "source": [
    "INVENTORIES = {\n",
    "    ## Neodymium\n",
    "    \"Neodymium\":        (\"rare earth oxides production, from rare earth carbonate concentrate\", \"neodymium oxide\", \"RoW\"),\n",
    "    \n",
    "    ## Copper\n",
    "    \"Copper concentrate, Canada\": ('copper mine operation and beneficiation, sulfide ore', 'copper concentrate, sulfide ore', 'CA'),\n",
    "    \"Market for copper, cathode\": ('market for copper, cathode', 'copper, cathode', 'GLO'),\n",
    "    \n",
    "    ## Istrate et al (2024)\n",
    "    \"Lithium hydroxide, brine\":        (\"lithium hydroxide production, Salar de Atacama\", \"lithium hydroxide, battery grade\", \"CL\"),\n",
    "    \"Lithium hydroxide, spodumene\":    (\"lithium hydroxide production, from Australian spodumene\", \"lithium hydroxide, battery grade\", \"CN\"),\n",
    "    \"Cobalt\":                (\"cobalt sulfate production, from copper-cobalt ore, economic allocation\", \"cobalt sulfate\", \"CN\"),\n",
    "    \"Nickel\":                (\"nickel sulfate production, average excluding China, economic allocation\", \"nickel sulfate\", \"GLO\"),\n",
    "    \"Graphite, natural\":     (\"natural graphite production, battery grade, from Heilongjiang\", \"natural graphite, battery grade\", \"CN\"),\n",
    "    \"Graphite, synthetic\":   (\"graphite powder coating\", \"synthetic graphite, battery grade\", \"CN\"),\n",
    "    \n",
    "    \"Lithium carbonate, brine\":        (\"lithium carbonate production, Salar de Atacama\", \"lithium carbonate, battery grade\", \"CL\"),\n",
    "    \"Lithium carbonate, spodumene\":    (\"lithium carbonate production, from Australian spodumene\", \"lithium carbonate, battery grade\", \"CN\"),\n",
    "}"
   ],
   "id": "c5d1a8d2c3778a73",
   "outputs": [],
   "execution_count": null
  },
  {
   "metadata": {},
   "cell_type": "markdown",
   "source": "## Pick LCIA methods",
   "id": "75e53e1e6c2afd65"
  },
  {
   "metadata": {},
   "cell_type": "code",
   "source": [
    "# We can also import some from IW+2.1\n",
    "iw_ei310 = 'data/IW+2.1/impact_world_plus_21_brightway2_expert_version_ei310.5535d12bedce3770ffef004e84229fd1.bw2package'\n",
    "bw.BW2Package.import_file(iw_ei310)"
   ],
   "id": "1bdfe1c6a2fbf5ee",
   "outputs": [],
   "execution_count": null
  },
  {
   "metadata": {},
   "cell_type": "code",
   "source": [
    "# Filter and display methods that contain \"IMPACT World+\" in their names\n",
    "iw_methods = [method for method in bd.methods if \"impact world+\" in \" \".join(method).lower()]\n",
    "df_iw_methods = pd.DataFrame(iw_methods, columns=[\"Method\", \"Impact Category\", \"Subcategory\"])\n",
    "#df_iw_methods.to_csv(r'data/iw_methods.csv', index=False)"
   ],
   "id": "a136911489b9050a",
   "outputs": [],
   "execution_count": null
  },
  {
   "metadata": {},
   "cell_type": "code",
   "source": [
    "ipcc_methods = [method for method in bd.methods if \"ipcc 2021\" in \" \".join(method).lower()]\n",
    "ipcc_methods"
   ],
   "id": "87624b4d24c020b5",
   "outputs": [],
   "execution_count": null
  },
  {
   "metadata": {},
   "cell_type": "code",
   "source": [
    "# To take them all\n",
    "IMPACT_METHODS_ALL = {method[-1]: method for method in iw_methods}\n",
    "IMPACT_METHODS_ALL"
   ],
   "id": "a3d9b26ec57878d8",
   "outputs": [],
   "execution_count": null
  },
  {
   "metadata": {},
   "cell_type": "code",
   "source": [
    "# We take only a few one for testing\n",
    "IMPACT_METHODS = {\n",
    "'Carbon footprint': ('IMPACT World+ Footprint 2.1 for ecoinvent v3.10','Carbon footprint'), \n",
    "'Total human health': ('IMPACT World+ Damage 2.1 for ecoinvent v3.10','Human health','Total human health'), \n",
    "'Total ecosystem quality': ('IMPACT World+ Damage 2.1 for ecoinvent v3.10','Ecosystem quality','Total ecosystem quality'), \n",
    "}\n"
   ],
   "id": "38deb375951277d1",
   "outputs": [],
   "execution_count": null
  },
  {
   "metadata": {},
   "cell_type": "code",
   "source": [
    "IMPACT_METHODS = {\n",
    "    'GWP100': ('IPCC 2021 no LT', 'climate change no LT','global warming potential (GWP100) no LT'),\n",
    "    'GTP100': ('IPCC 2021 no LT','climate change no LT', 'global temperature change potential (GTP100) no LT')\n",
    "}"
   ],
   "id": "d0e7a2c745be5819",
   "outputs": [],
   "execution_count": null
  },
  {
   "cell_type": "markdown",
   "id": "568e315e-20e5-414c-9137-d130a70fe280",
   "metadata": {
    "ExecuteTime": {
     "end_time": "2024-10-29T15:19:44.789796Z",
     "start_time": "2024-10-29T15:19:44.776386Z"
    }
   },
   "source": "# Calculate specific impacts (e.g. per mass)"
  },
  {
   "metadata": {},
   "cell_type": "code",
   "source": [
    "# Initialize the dictionary to store results for each database\n",
    "specific_lca_results = {}\n",
    "\n",
    "# Iterate over each database\n",
    "for db_name in prospective_db:\n",
    "    # Get inventory datasets from the specific database\n",
    "    INVENTORIES_ds = get_inventory_dataset(INVENTORIES, [db_name])  # Pass as a list to search only in the current db\n",
    "\n",
    "    # Dictionary to store LCA results for each raw material in the current database\n",
    "    specific_lca = {}\n",
    "\n",
    "    # Check if INVENTORIES_ds has results for the current database\n",
    "    if INVENTORIES_ds:\n",
    "        for rm, activity in INVENTORIES_ds.items():\n",
    "            # Dictionary to store impacts for the current raw material\n",
    "            impacts = {}\n",
    "            \n",
    "            # Loop over each impact method in IMPACT_METHODS\n",
    "            for impact_name, method_tuple in IMPACT_METHODS.items():\n",
    "                try:\n",
    "                    # Initialize the LCA object for the current database, inventory, and method\n",
    "                    lca = init_simple_lca(activity, method=method_tuple)\n",
    "                    \n",
    "                    # Calculate the impact score for the current method\n",
    "                    lca.lcia()  # Perform the life cycle impact assessment step\n",
    "                    impacts[impact_name] = lca.score  # Store the score for this method\n",
    "\n",
    "                except Exception as e:\n",
    "                    print(f\"Error with {impact_name} in {db_name} for {rm}: {e}\")\n",
    "            \n",
    "            # Store the impacts for the current raw material\n",
    "            specific_lca[rm] = impacts\n",
    "\n",
    "        # Convert the specific LCA results for the current database to a DataFrame and store it\n",
    "        specific_lca_results[db_name] = pd.DataFrame(specific_lca).T\n",
    "    else:\n",
    "        print(f\"No inventory data found for database: {db_name}\")\n"
   ],
   "id": "1e4be7adcdc30c49",
   "outputs": [],
   "execution_count": null
  },
  {
   "metadata": {},
   "cell_type": "code",
   "source": "specific_lca_results[image_2020]",
   "id": "d302d3eca1f70064",
   "outputs": [],
   "execution_count": null
  },
  {
   "metadata": {},
   "cell_type": "code",
   "source": [
    "db_colors = {\n",
    "    'image_26_2020': '#04151f',\n",
    "    'image_26_2030': '#183a37',\n",
    "    'image_26_2040': '#efd6ac',\n",
    "    'image_26_2050': '#c44900'\n",
    "}\n",
    "\n",
    "plot_multilca_impacts_multidb(specific_lca_results, db_colors=db_colors, save_path=\"results/plca_comparison_plot.png\")"
   ],
   "id": "7a757f2e1998aa27",
   "outputs": [],
   "execution_count": null
  },
  {
   "metadata": {},
   "cell_type": "code",
   "source": [
    "# Initialize a dictionary to store contribution analysis results by database\n",
    "all_contribution_results = {}\n",
    "\n",
    "# Loop through each database\n",
    "for db_name in prospective_db:\n",
    "    # Get inventory datasets from the specific database\n",
    "    INVENTORIES_ds = get_inventory_dataset(INVENTORIES, [db_name])\n",
    "\n",
    "    # Dictionary to store contribution results for each inventory in the current database\n",
    "    contribution_results = {}\n",
    "\n",
    "    # Perform contribution analysis for each inventory in the current database\n",
    "    if INVENTORIES_ds:\n",
    "        for rm_name, rm_ds in INVENTORIES_ds.items():\n",
    "            # Initialize the LCA object\n",
    "            lca = init_simple_lca(rm_ds)\n",
    "\n",
    "            # Perform the contribution analysis for the current inventory\n",
    "            contributions = multi_contribution_analysis(lca, IMPACT_METHODS, top_n=10, threshold=0.01)\n",
    "            contribution_results[rm_name] = contributions\n",
    "\n",
    "        # Store the contribution results for the current database\n",
    "        all_contribution_results[db_name] = contribution_results\n",
    "    else:\n",
    "        print(f\"No inventory data found for database: {db_name}\")\n",
    "\n",
    "# Convert the results into DataFrames for easy analysis\n",
    "contribution_dfs = {}\n",
    "\n",
    "# Loop through each database and organize the results\n",
    "for db_name, db_contributions in all_contribution_results.items():\n",
    "    for rm_name, impacts in db_contributions.items():\n",
    "        for impact_name, contributions in impacts.items():\n",
    "            df = pd.DataFrame(contributions)\n",
    "            df[\"Database\"] = db_name\n",
    "            df[\"Inventory\"] = rm_name\n",
    "            df[\"Impact Category\"] = impact_name\n",
    "            contribution_dfs[(db_name, rm_name, impact_name)] = df\n",
    "\n",
    "# Combine all individual DataFrames into one for easy viewing and analysis\n",
    "contribution_analysis_df = pd.concat(contribution_dfs.values(), ignore_index=True)\n",
    "\n",
    "# Set \"Database\", \"Inventory\", and \"Impact Category\" as the row indices\n",
    "contribution_analysis_df.set_index([\"Database\", \"Inventory\", \"Impact Category\"], inplace=True)\n",
    "\n",
    "# Display the final DataFrame\n",
    "contribution_analysis_df.head()\n"
   ],
   "id": "7f96419848a8feb3",
   "outputs": [],
   "execution_count": null
  },
  {
   "metadata": {},
   "cell_type": "markdown",
   "source": "# Calculate production-related impacts (e.g. scaled with scenarios)",
   "id": "53640853be6fd242"
  },
  {
   "metadata": {},
   "cell_type": "markdown",
   "source": "## Import scenarios",
   "id": "4995d4381bf1364a"
  },
  {
   "metadata": {},
   "cell_type": "markdown",
   "source": "They are from the Canadian Climate Institute and can be found [here](https://440megatonnes.ca/insight/canada-critical-minerals-clean-energy-transition/)",
   "id": "2d5d24861e38b903"
  },
  {
   "metadata": {},
   "cell_type": "code",
   "source": [
    "production_existing = pd.read_excel(r'data/scenarios_canadian_climate_institute.xlsx', sheet_name='Production_existing')\n",
    "production_potential = pd.read_excel(r'data/scenarios_canadian_climate_institute.xlsx', sheet_name='Production_potential')\n",
    "production_existing = production_existing[production_existing['Scenario']=='Domestic demand scenario']\n",
    "production_potential = production_potential[production_potential['Scenario']=='Domestic demand scenario']"
   ],
   "id": "6f4231a77c67d782",
   "outputs": [],
   "execution_count": null
  },
  {
   "metadata": {},
   "cell_type": "code",
   "source": "plot_scenario_production_comparison(production_existing, production_potential, save_path='results/demand_lca_results/cci_production_scenarios.png')",
   "id": "e659749d8dff5d3d",
   "outputs": [],
   "execution_count": null
  },
  {
   "metadata": {},
   "cell_type": "markdown",
   "source": "## Choose which LCI to associate with each mineral ",
   "id": "9ec15b59f0973821"
  },
  {
   "metadata": {},
   "cell_type": "code",
   "source": [
    "specific_lca = specific_lca.reset_index().rename(columns={'index': 'Mineral'})\n",
    "specific_lca"
   ],
   "id": "288803d3c42165d4",
   "outputs": [],
   "execution_count": null
  },
  {
   "metadata": {},
   "cell_type": "code",
   "source": [
    "# Define a manual mapping to link the mineral in the scenario with the LCI of our choice\n",
    "mineral_to_material = {\n",
    "    \"Cobalt\": \"Cobalt\",\n",
    "    \"Copper\": \"Copper concentrate, Canada\",\n",
    "    \"Lithium\": \"Lithium carbonate, spodumene\", \n",
    "    \"Nickel\": \"Nickel\",\n",
    "    \"Graphite\": \"Graphite, natural\",\n",
    "    \"Neodymium\": \"Neodymium\"  \n",
    "}\n"
   ],
   "id": "a800055ad6fe1e04",
   "outputs": [],
   "execution_count": null
  },
  {
   "metadata": {},
   "cell_type": "markdown",
   "source": "## Calculate the production-related impacts of scenarios",
   "id": "abb099417164a738"
  },
  {
   "metadata": {},
   "cell_type": "code",
   "source": [
    "# Generate the projected impacts DataFrame\n",
    "projected_impacts_existing_production = calculate_projected_impacts(production_existing, specific_lca, mineral_to_material)\n",
    "projected_impacts_potential_production = calculate_projected_impacts(production_potential, specific_lca, mineral_to_material)\n"
   ],
   "id": "e4e4d3dcb95b0e0b",
   "outputs": [],
   "execution_count": null
  },
  {
   "metadata": {},
   "cell_type": "code",
   "source": "projected_impacts_existing_production",
   "id": "7f4f18012ca43900",
   "outputs": [],
   "execution_count": null
  },
  {
   "metadata": {},
   "cell_type": "code",
   "source": "projected_impacts_existing_production.columns",
   "id": "f65571f6e4309d88",
   "outputs": [],
   "execution_count": null
  },
  {
   "metadata": {},
   "cell_type": "code",
   "source": [
    "impact_categories = [\n",
    "'Climate change ST (kg CO2 eq (short))',\n",
    "'Total human health (DALY)',\n",
    "'Total ecosystem quality (PDF.m2.yr)'    \n",
    "]"
   ],
   "id": "1a291d4d4b7caa9a",
   "outputs": [],
   "execution_count": null
  },
  {
   "metadata": {},
   "cell_type": "code",
   "source": [
    "# Plot impacts per production scenario\n",
    "plot_production_impacts(projected_impacts_existing_production, production_existing, \n",
    "                             impact_categories, \n",
    "                             scenario_name='existing_production')\n",
    "plot_production_impacts(projected_impacts_potential_production, production_potential, \n",
    "                             impact_categories, scenario_name='potential_production')\n"
   ],
   "id": "f79da374858de1b2",
   "outputs": [],
   "execution_count": null
  },
  {
   "metadata": {},
   "cell_type": "code",
   "source": [
    "# Plot incremental impacts from potential production to existing production\n",
    "plot_incremental_impacts(projected_impacts_existing_production, projected_impacts_potential_production,\n",
    "                                 production_existing, production_potential, \n",
    "                                 impact_categories, save_dir=\"results/demand_lca_results\", scenario_name=\"incremental_comparison\")\n"
   ],
   "id": "c64e63499e437e5c",
   "outputs": [],
   "execution_count": null
  },
  {
   "metadata": {},
   "cell_type": "code",
   "source": "",
   "id": "315509c981310e5e",
   "outputs": [],
   "execution_count": null
  }
 ],
 "metadata": {
  "kernelspec": {
   "display_name": "Python 3 (ipykernel)",
   "language": "python",
   "name": "python3"
  },
  "language_info": {
   "codemirror_mode": {
    "name": "ipython",
    "version": 3
   },
   "file_extension": ".py",
   "mimetype": "text/x-python",
   "name": "python",
   "nbconvert_exporter": "python",
   "pygments_lexer": "ipython3",
   "version": "3.10.15"
  }
 },
 "nbformat": 4,
 "nbformat_minor": 5
}
